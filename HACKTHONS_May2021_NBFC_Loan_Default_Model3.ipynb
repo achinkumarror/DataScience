{
  "nbformat": 4,
  "nbformat_minor": 0,
  "metadata": {
    "kernelspec": {
      "display_name": "Python 3",
      "language": "python",
      "name": "python3"
    },
    "language_info": {
      "codemirror_mode": {
        "name": "ipython",
        "version": 3
      },
      "file_extension": ".py",
      "mimetype": "text/x-python",
      "name": "python",
      "nbconvert_exporter": "python",
      "pygments_lexer": "ipython3",
      "version": "3.8.3"
    },
    "colab": {
      "name": "HACKTHONS May2021 - NBFC Loan Default -Model3.ipynb",
      "provenance": [],
      "include_colab_link": true
    }
  },
  "cells": [
    {
      "cell_type": "markdown",
      "metadata": {
        "id": "view-in-github",
        "colab_type": "text"
      },
      "source": [
        "<a href=\"https://colab.research.google.com/github/achinkumarror/DataScience/blob/Hackthon/HACKTHONS_May2021_NBFC_Loan_Default_Model3.ipynb\" target=\"_parent\"><img src=\"https://colab.research.google.com/assets/colab-badge.svg\" alt=\"Open In Colab\"/></a>"
      ]
    },
    {
      "cell_type": "markdown",
      "metadata": {
        "id": "qXB29XXIHl4r"
      },
      "source": [
        "# The goal of the problem is to predict whether a client will default on the loan payment or not.\n",
        "A non-banking financial institution (NBFI) or non-bank financial company (NBFC) is a Financial Institution that does not have a full banking license or is not supervised by a national or international banking regulatory agency. NBFC facilitates bank-related financial services, such as investment, risk pooling, contractual savings, and market brokering.\n",
        "The following is the story of a challenge faced by DHDL Ltd. (Name Changed), an NBFC in India. In recent times, the company is struggling to mark profits due to an increase in Loan Defaults. The company aims to determine the relative importance of each parameter with regards to their contribution as to whether a loan is going to default or not. Provided is a sample that contains the data of 90,000 + clients who have taken a loan from the company in the past with the information on whether the loan defaulted. \n",
        "The objective of this exercise is to understand which parameters play an important role in determining whether a client will default on the loan payment or not. "
      ]
    },
    {
      "cell_type": "markdown",
      "metadata": {
        "id": "EPRfJHDcHl4u"
      },
      "source": [
        "Goal:\n",
        "The goal of the problem is to predict whether a client will default on the loan payment or not. For each ID in the test_data, you must predict the “default” level.\n",
        "\n",
        "Datasets\n",
        "The problem contains two datasets, Train Data, and Test Data. Model building is to be done on Train Dataset and the Model testing is to be done on Test Dataset. The output from the Test Data is to be submitted in the Hackathon platform\n",
        "\n",
        "Metric to measure\n",
        "Your score is the percentage of all correct predictions made by you. This is simply known as accuracy. The best accuracy is 1 whereas the worst is 0. It will be calculated as the total number of two correct predictions (True positive + True negative) divided by the total number of observations in the dataset.\n",
        "\n",
        "Submission File Format:\n",
        "You should submit a CSV file with exactly 39933 entries plus a header row.\n",
        "The file should have exactly two columns\n",
        "\n",
        "·         ID ( sorted in any order)\n",
        "\n",
        "·         default (contains 0 & 1, 1 represents default)"
      ]
    },
    {
      "cell_type": "code",
      "metadata": {
        "id": "nvLyw9dbHl4v"
      },
      "source": [
        "import numpy as np\n",
        "import pandas as pd\n",
        "import seaborn as sns\n",
        "from matplotlib import pyplot as plt\n",
        "import matplotlib\n",
        "import sklearn\n",
        "import statsmodels"
      ],
      "execution_count": null,
      "outputs": []
    },
    {
      "cell_type": "code",
      "metadata": {
        "id": "VeqgYmRCHl4w",
        "outputId": "7ac96408-ba5a-4dc1-de94-18c41011bed1"
      },
      "source": [
        "df1 = pd.read_csv('Train_set_(1).csv')\n",
        "df1.head(10)"
      ],
      "execution_count": null,
      "outputs": [
        {
          "output_type": "execute_result",
          "data": {
            "text/html": [
              "<div>\n",
              "<style scoped>\n",
              "    .dataframe tbody tr th:only-of-type {\n",
              "        vertical-align: middle;\n",
              "    }\n",
              "\n",
              "    .dataframe tbody tr th {\n",
              "        vertical-align: top;\n",
              "    }\n",
              "\n",
              "    .dataframe thead th {\n",
              "        text-align: right;\n",
              "    }\n",
              "</style>\n",
              "<table border=\"1\" class=\"dataframe\">\n",
              "  <thead>\n",
              "    <tr style=\"text-align: right;\">\n",
              "      <th></th>\n",
              "      <th>ID</th>\n",
              "      <th>loan_amnt</th>\n",
              "      <th>loan_term</th>\n",
              "      <th>interest_rate</th>\n",
              "      <th>loan_grade</th>\n",
              "      <th>loan_subgrade</th>\n",
              "      <th>job_experience</th>\n",
              "      <th>home_ownership</th>\n",
              "      <th>annual_income</th>\n",
              "      <th>income_verification_status</th>\n",
              "      <th>...</th>\n",
              "      <th>delinq_2yrs</th>\n",
              "      <th>public_records</th>\n",
              "      <th>revolving_balance</th>\n",
              "      <th>total_acc</th>\n",
              "      <th>interest_receive</th>\n",
              "      <th>application_type</th>\n",
              "      <th>last_week_pay</th>\n",
              "      <th>total_current_balance</th>\n",
              "      <th>total_revolving_limit</th>\n",
              "      <th>default</th>\n",
              "    </tr>\n",
              "  </thead>\n",
              "  <tbody>\n",
              "    <tr>\n",
              "      <th>0</th>\n",
              "      <td>72199369</td>\n",
              "      <td>9000</td>\n",
              "      <td>3 years</td>\n",
              "      <td>9.17</td>\n",
              "      <td>B</td>\n",
              "      <td>B2</td>\n",
              "      <td>&lt;5 Years</td>\n",
              "      <td>OWN</td>\n",
              "      <td>85000.0</td>\n",
              "      <td>Not Verified</td>\n",
              "      <td>...</td>\n",
              "      <td>0.0</td>\n",
              "      <td>0.0</td>\n",
              "      <td>39519</td>\n",
              "      <td>20.0</td>\n",
              "      <td>59.60</td>\n",
              "      <td>INDIVIDUAL</td>\n",
              "      <td>4.0</td>\n",
              "      <td>95493.0</td>\n",
              "      <td>84100.0</td>\n",
              "      <td>0</td>\n",
              "    </tr>\n",
              "    <tr>\n",
              "      <th>1</th>\n",
              "      <td>14257956</td>\n",
              "      <td>18000</td>\n",
              "      <td>3 years</td>\n",
              "      <td>13.65</td>\n",
              "      <td>C</td>\n",
              "      <td>C1</td>\n",
              "      <td>&lt;5 Years</td>\n",
              "      <td>OWN</td>\n",
              "      <td>64000.0</td>\n",
              "      <td>Verified</td>\n",
              "      <td>...</td>\n",
              "      <td>0.0</td>\n",
              "      <td>1.0</td>\n",
              "      <td>9783</td>\n",
              "      <td>24.0</td>\n",
              "      <td>3348.25</td>\n",
              "      <td>INDIVIDUAL</td>\n",
              "      <td>95.0</td>\n",
              "      <td>185433.0</td>\n",
              "      <td>13500.0</td>\n",
              "      <td>0</td>\n",
              "    </tr>\n",
              "    <tr>\n",
              "      <th>2</th>\n",
              "      <td>66216451</td>\n",
              "      <td>16000</td>\n",
              "      <td>3 years</td>\n",
              "      <td>7.26</td>\n",
              "      <td>A</td>\n",
              "      <td>A4</td>\n",
              "      <td>&lt;5 Years</td>\n",
              "      <td>MORTGAGE</td>\n",
              "      <td>150000.0</td>\n",
              "      <td>Source Verified</td>\n",
              "      <td>...</td>\n",
              "      <td>2.0</td>\n",
              "      <td>0.0</td>\n",
              "      <td>13641</td>\n",
              "      <td>27.0</td>\n",
              "      <td>276.69</td>\n",
              "      <td>INDIVIDUAL</td>\n",
              "      <td>13.0</td>\n",
              "      <td>180519.0</td>\n",
              "      <td>19300.0</td>\n",
              "      <td>0</td>\n",
              "    </tr>\n",
              "    <tr>\n",
              "      <th>3</th>\n",
              "      <td>46974169</td>\n",
              "      <td>25000</td>\n",
              "      <td>3 years</td>\n",
              "      <td>13.99</td>\n",
              "      <td>C</td>\n",
              "      <td>C4</td>\n",
              "      <td>NaN</td>\n",
              "      <td>MORTGAGE</td>\n",
              "      <td>59800.0</td>\n",
              "      <td>Verified</td>\n",
              "      <td>...</td>\n",
              "      <td>0.0</td>\n",
              "      <td>0.0</td>\n",
              "      <td>35020</td>\n",
              "      <td>35.0</td>\n",
              "      <td>1106.72</td>\n",
              "      <td>INDIVIDUAL</td>\n",
              "      <td>17.0</td>\n",
              "      <td>183208.0</td>\n",
              "      <td>55400.0</td>\n",
              "      <td>0</td>\n",
              "    </tr>\n",
              "    <tr>\n",
              "      <th>4</th>\n",
              "      <td>46725961</td>\n",
              "      <td>17000</td>\n",
              "      <td>3 years</td>\n",
              "      <td>6.39</td>\n",
              "      <td>A</td>\n",
              "      <td>A2</td>\n",
              "      <td>10+ years</td>\n",
              "      <td>MORTGAGE</td>\n",
              "      <td>72000.0</td>\n",
              "      <td>Source Verified</td>\n",
              "      <td>...</td>\n",
              "      <td>0.0</td>\n",
              "      <td>0.0</td>\n",
              "      <td>23990</td>\n",
              "      <td>26.0</td>\n",
              "      <td>725.29</td>\n",
              "      <td>INDIVIDUAL</td>\n",
              "      <td>39.0</td>\n",
              "      <td>23990.0</td>\n",
              "      <td>81300.0</td>\n",
              "      <td>0</td>\n",
              "    </tr>\n",
              "    <tr>\n",
              "      <th>5</th>\n",
              "      <td>56469197</td>\n",
              "      <td>10000</td>\n",
              "      <td>3 years</td>\n",
              "      <td>12.69</td>\n",
              "      <td>C</td>\n",
              "      <td>C2</td>\n",
              "      <td>&lt;5 Years</td>\n",
              "      <td>OWN</td>\n",
              "      <td>56000.0</td>\n",
              "      <td>Not Verified</td>\n",
              "      <td>...</td>\n",
              "      <td>0.0</td>\n",
              "      <td>1.0</td>\n",
              "      <td>6643</td>\n",
              "      <td>48.0</td>\n",
              "      <td>590.50</td>\n",
              "      <td>INDIVIDUAL</td>\n",
              "      <td>26.0</td>\n",
              "      <td>24054.0</td>\n",
              "      <td>25167.0</td>\n",
              "      <td>0</td>\n",
              "    </tr>\n",
              "    <tr>\n",
              "      <th>6</th>\n",
              "      <td>3409695</td>\n",
              "      <td>15000</td>\n",
              "      <td>3 years</td>\n",
              "      <td>11.14</td>\n",
              "      <td>B</td>\n",
              "      <td>B2</td>\n",
              "      <td>10+ years</td>\n",
              "      <td>RENT</td>\n",
              "      <td>100000.0</td>\n",
              "      <td>Not Verified</td>\n",
              "      <td>...</td>\n",
              "      <td>0.0</td>\n",
              "      <td>1.0</td>\n",
              "      <td>14088</td>\n",
              "      <td>14.0</td>\n",
              "      <td>1020.57</td>\n",
              "      <td>INDIVIDUAL</td>\n",
              "      <td>35.0</td>\n",
              "      <td>14519.0</td>\n",
              "      <td>15200.0</td>\n",
              "      <td>1</td>\n",
              "    </tr>\n",
              "    <tr>\n",
              "      <th>7</th>\n",
              "      <td>26276447</td>\n",
              "      <td>10000</td>\n",
              "      <td>3 years</td>\n",
              "      <td>6.49</td>\n",
              "      <td>A</td>\n",
              "      <td>A2</td>\n",
              "      <td>10+ years</td>\n",
              "      <td>MORTGAGE</td>\n",
              "      <td>109000.0</td>\n",
              "      <td>Not Verified</td>\n",
              "      <td>...</td>\n",
              "      <td>1.0</td>\n",
              "      <td>0.0</td>\n",
              "      <td>12337</td>\n",
              "      <td>26.0</td>\n",
              "      <td>728.68</td>\n",
              "      <td>INDIVIDUAL</td>\n",
              "      <td>74.0</td>\n",
              "      <td>210751.0</td>\n",
              "      <td>18600.0</td>\n",
              "      <td>0</td>\n",
              "    </tr>\n",
              "    <tr>\n",
              "      <th>8</th>\n",
              "      <td>48393405</td>\n",
              "      <td>12000</td>\n",
              "      <td>3 years</td>\n",
              "      <td>10.99</td>\n",
              "      <td>B</td>\n",
              "      <td>B4</td>\n",
              "      <td>&lt;5 Years</td>\n",
              "      <td>RENT</td>\n",
              "      <td>45000.0</td>\n",
              "      <td>Verified</td>\n",
              "      <td>...</td>\n",
              "      <td>0.0</td>\n",
              "      <td>0.0</td>\n",
              "      <td>10550</td>\n",
              "      <td>12.0</td>\n",
              "      <td>879.15</td>\n",
              "      <td>INDIVIDUAL</td>\n",
              "      <td>39.0</td>\n",
              "      <td>10550.0</td>\n",
              "      <td>22000.0</td>\n",
              "      <td>0</td>\n",
              "    </tr>\n",
              "    <tr>\n",
              "      <th>9</th>\n",
              "      <td>15140624</td>\n",
              "      <td>7000</td>\n",
              "      <td>3 years</td>\n",
              "      <td>12.49</td>\n",
              "      <td>B</td>\n",
              "      <td>B4</td>\n",
              "      <td>&lt;5 Years</td>\n",
              "      <td>MORTGAGE</td>\n",
              "      <td>53000.0</td>\n",
              "      <td>Not Verified</td>\n",
              "      <td>...</td>\n",
              "      <td>0.0</td>\n",
              "      <td>0.0</td>\n",
              "      <td>12108</td>\n",
              "      <td>20.0</td>\n",
              "      <td>1186.80</td>\n",
              "      <td>INDIVIDUAL</td>\n",
              "      <td>96.0</td>\n",
              "      <td>145801.0</td>\n",
              "      <td>16800.0</td>\n",
              "      <td>0</td>\n",
              "    </tr>\n",
              "  </tbody>\n",
              "</table>\n",
              "<p>10 rows × 23 columns</p>\n",
              "</div>"
            ],
            "text/plain": [
              "         ID  loan_amnt loan_term  interest_rate loan_grade loan_subgrade  \\\n",
              "0  72199369       9000   3 years           9.17          B            B2   \n",
              "1  14257956      18000   3 years          13.65          C            C1   \n",
              "2  66216451      16000   3 years           7.26          A            A4   \n",
              "3  46974169      25000   3 years          13.99          C            C4   \n",
              "4  46725961      17000   3 years           6.39          A            A2   \n",
              "5  56469197      10000   3 years          12.69          C            C2   \n",
              "6   3409695      15000   3 years          11.14          B            B2   \n",
              "7  26276447      10000   3 years           6.49          A            A2   \n",
              "8  48393405      12000   3 years          10.99          B            B4   \n",
              "9  15140624       7000   3 years          12.49          B            B4   \n",
              "\n",
              "  job_experience home_ownership  annual_income income_verification_status  \\\n",
              "0       <5 Years            OWN        85000.0               Not Verified   \n",
              "1       <5 Years            OWN        64000.0                   Verified   \n",
              "2       <5 Years       MORTGAGE       150000.0            Source Verified   \n",
              "3            NaN       MORTGAGE        59800.0                   Verified   \n",
              "4      10+ years       MORTGAGE        72000.0            Source Verified   \n",
              "5       <5 Years            OWN        56000.0               Not Verified   \n",
              "6      10+ years           RENT       100000.0               Not Verified   \n",
              "7      10+ years       MORTGAGE       109000.0               Not Verified   \n",
              "8       <5 Years           RENT        45000.0                   Verified   \n",
              "9       <5 Years       MORTGAGE        53000.0               Not Verified   \n",
              "\n",
              "   ... delinq_2yrs public_records  revolving_balance  total_acc  \\\n",
              "0  ...         0.0            0.0              39519       20.0   \n",
              "1  ...         0.0            1.0               9783       24.0   \n",
              "2  ...         2.0            0.0              13641       27.0   \n",
              "3  ...         0.0            0.0              35020       35.0   \n",
              "4  ...         0.0            0.0              23990       26.0   \n",
              "5  ...         0.0            1.0               6643       48.0   \n",
              "6  ...         0.0            1.0              14088       14.0   \n",
              "7  ...         1.0            0.0              12337       26.0   \n",
              "8  ...         0.0            0.0              10550       12.0   \n",
              "9  ...         0.0            0.0              12108       20.0   \n",
              "\n",
              "   interest_receive  application_type  last_week_pay  total_current_balance  \\\n",
              "0             59.60        INDIVIDUAL            4.0                95493.0   \n",
              "1           3348.25        INDIVIDUAL           95.0               185433.0   \n",
              "2            276.69        INDIVIDUAL           13.0               180519.0   \n",
              "3           1106.72        INDIVIDUAL           17.0               183208.0   \n",
              "4            725.29        INDIVIDUAL           39.0                23990.0   \n",
              "5            590.50        INDIVIDUAL           26.0                24054.0   \n",
              "6           1020.57        INDIVIDUAL           35.0                14519.0   \n",
              "7            728.68        INDIVIDUAL           74.0               210751.0   \n",
              "8            879.15        INDIVIDUAL           39.0                10550.0   \n",
              "9           1186.80        INDIVIDUAL           96.0               145801.0   \n",
              "\n",
              "  total_revolving_limit  default  \n",
              "0               84100.0        0  \n",
              "1               13500.0        0  \n",
              "2               19300.0        0  \n",
              "3               55400.0        0  \n",
              "4               81300.0        0  \n",
              "5               25167.0        0  \n",
              "6               15200.0        1  \n",
              "7               18600.0        0  \n",
              "8               22000.0        0  \n",
              "9               16800.0        0  \n",
              "\n",
              "[10 rows x 23 columns]"
            ]
          },
          "metadata": {
            "tags": []
          },
          "execution_count": 2
        }
      ]
    },
    {
      "cell_type": "code",
      "metadata": {
        "id": "_2whZ1faHl4x",
        "outputId": "ff2788fe-ec89-4caf-d406-2d2d1d53c171"
      },
      "source": [
        "#datainfo\n",
        "\n",
        "df1.info()"
      ],
      "execution_count": null,
      "outputs": [
        {
          "output_type": "stream",
          "text": [
            "<class 'pandas.core.frame.DataFrame'>\n",
            "RangeIndex: 93174 entries, 0 to 93173\n",
            "Data columns (total 23 columns):\n",
            " #   Column                      Non-Null Count  Dtype  \n",
            "---  ------                      --------------  -----  \n",
            " 0   ID                          93174 non-null  int64  \n",
            " 1   loan_amnt                   93174 non-null  int64  \n",
            " 2   loan_term                   93174 non-null  object \n",
            " 3   interest_rate               93174 non-null  float64\n",
            " 4   loan_grade                  93174 non-null  object \n",
            " 5   loan_subgrade               93174 non-null  object \n",
            " 6   job_experience              88472 non-null  object \n",
            " 7   home_ownership              93174 non-null  object \n",
            " 8   annual_income               93173 non-null  float64\n",
            " 9   income_verification_status  93174 non-null  object \n",
            " 10  loan_purpose                93174 non-null  object \n",
            " 11  state_code                  93174 non-null  object \n",
            " 12  debt_to_income              93174 non-null  float64\n",
            " 13  delinq_2yrs                 93172 non-null  float64\n",
            " 14  public_records              93172 non-null  float64\n",
            " 15  revolving_balance           93174 non-null  int64  \n",
            " 16  total_acc                   93172 non-null  float64\n",
            " 17  interest_receive            93174 non-null  float64\n",
            " 18  application_type            93174 non-null  object \n",
            " 19  last_week_pay               91250 non-null  float64\n",
            " 20  total_current_balance       85788 non-null  float64\n",
            " 21  total_revolving_limit       85788 non-null  float64\n",
            " 22  default                     93174 non-null  int64  \n",
            "dtypes: float64(10), int64(4), object(9)\n",
            "memory usage: 16.3+ MB\n"
          ],
          "name": "stdout"
        }
      ]
    },
    {
      "cell_type": "code",
      "metadata": {
        "id": "erhbcAQ0Hl4x",
        "outputId": "d9138c10-0aad-481e-8dbc-d6bea2a2e718"
      },
      "source": [
        "#datatypes\n",
        "\n",
        "df1.dtypes"
      ],
      "execution_count": null,
      "outputs": [
        {
          "output_type": "execute_result",
          "data": {
            "text/plain": [
              "ID                              int64\n",
              "loan_amnt                       int64\n",
              "loan_term                      object\n",
              "interest_rate                 float64\n",
              "loan_grade                     object\n",
              "loan_subgrade                  object\n",
              "job_experience                 object\n",
              "home_ownership                 object\n",
              "annual_income                 float64\n",
              "income_verification_status     object\n",
              "loan_purpose                   object\n",
              "state_code                     object\n",
              "debt_to_income                float64\n",
              "delinq_2yrs                   float64\n",
              "public_records                float64\n",
              "revolving_balance               int64\n",
              "total_acc                     float64\n",
              "interest_receive              float64\n",
              "application_type               object\n",
              "last_week_pay                 float64\n",
              "total_current_balance         float64\n",
              "total_revolving_limit         float64\n",
              "default                         int64\n",
              "dtype: object"
            ]
          },
          "metadata": {
            "tags": []
          },
          "execution_count": 4
        }
      ]
    },
    {
      "cell_type": "code",
      "metadata": {
        "id": "Tb9tQDsUHl4y",
        "outputId": "b9b468d0-1e57-48a1-92c0-2f11c5b2113c"
      },
      "source": [
        "# number of rows and column\n",
        "\n",
        "df1.shape"
      ],
      "execution_count": null,
      "outputs": [
        {
          "output_type": "execute_result",
          "data": {
            "text/plain": [
              "(93174, 23)"
            ]
          },
          "metadata": {
            "tags": []
          },
          "execution_count": 5
        }
      ]
    },
    {
      "cell_type": "code",
      "metadata": {
        "id": "gcz56KmhHl4y",
        "outputId": "ebd0a7bb-4333-44c1-85a8-5d77edc963f4"
      },
      "source": [
        "# Bad data like ‘$’ or ‘#’ in numerical column or any other unwanted character\n",
        "# Value counts of object variable\n",
        "\n",
        "print(df1['loan_term'].value_counts(sort=False))\n",
        "print(df1['loan_grade'].value_counts(sort=False))\n",
        "print(df1['loan_subgrade'].value_counts(sort=False))\n",
        "print(df1['job_experience'].value_counts(sort=False))\n",
        "print(df1['home_ownership'].value_counts(sort=False))\n",
        "print(df1['income_verification_status'].value_counts(sort=False))\n",
        "print(df1['loan_purpose'].value_counts(sort=False))\n",
        "print(df1['state_code'].value_counts(sort=False))\n",
        "print(df1['application_type'].value_counts(sort=False))\n"
      ],
      "execution_count": null,
      "outputs": [
        {
          "output_type": "stream",
          "text": [
            "5 years    27963\n",
            "3 years    65211\n",
            "Name: loan_term, dtype: int64\n",
            "A    15534\n",
            "G      551\n",
            "D    14715\n",
            "C    25787\n",
            "F     2344\n",
            "E     7378\n",
            "B    26865\n",
            "Name: loan_grade, dtype: int64\n",
            "D2    3239\n",
            "A5    4723\n",
            "A4    3631\n",
            "G1     174\n",
            "B5    5095\n",
            "F5     234\n",
            "G3     105\n",
            "C3    5270\n",
            "F3     465\n",
            "B4    5879\n",
            "F1     745\n",
            "E4    1228\n",
            "C2    5479\n",
            "E2    1736\n",
            "G4      60\n",
            "A2    2353\n",
            "C5    4413\n",
            "E5     977\n",
            "G2     146\n",
            "B1    4843\n",
            "E1    1924\n",
            "D1    3716\n",
            "A1    2377\n",
            "B3    5879\n",
            "D5    2284\n",
            "D4    2717\n",
            "F2     545\n",
            "C4    5182\n",
            "B2    5169\n",
            "A3    2450\n",
            "E3    1513\n",
            "C1    5443\n",
            "F4     355\n",
            "D3    2759\n",
            "G5      66\n",
            "Name: loan_subgrade, dtype: int64\n",
            "<5 Years      40610\n",
            "6-10 years    17500\n",
            "10+ years     30362\n",
            "Name: job_experience, dtype: int64\n",
            "OTHER          18\n",
            "MORTGAGE    46445\n",
            "RENT        37449\n",
            "OWN          9254\n",
            "NONE            8\n",
            "Name: home_ownership, dtype: int64\n",
            "Verified           30450\n",
            "Not Verified       28237\n",
            "Source Verified    34487\n",
            "Name: income_verification_status, dtype: int64\n",
            "home_improvement       5391\n",
            "debt_consolidation    55241\n",
            "credit_card           21571\n",
            "other                 10971\n",
            "Name: loan_purpose, dtype: int64\n",
            "IL     3699\n",
            "NJ     3464\n",
            "HI      451\n",
            "CO     1924\n",
            "KY      933\n",
            "AK      231\n",
            "MD     2279\n",
            "MI     2415\n",
            "UT      658\n",
            "RI      412\n",
            "SD      198\n",
            "PA     3321\n",
            "FL     6360\n",
            "SC     1108\n",
            "WI     1206\n",
            "NC     2669\n",
            "ME       59\n",
            "VA     2793\n",
            "NH      447\n",
            "MO     1485\n",
            "KS      800\n",
            "AL     1188\n",
            "OH     3104\n",
            "MA     2232\n",
            "WA     2038\n",
            "IN     1420\n",
            "ID        1\n",
            "OR     1102\n",
            "CT     1402\n",
            "NV     1326\n",
            "MT      253\n",
            "TX     7467\n",
            "LA     1112\n",
            "NM      507\n",
            "NY     7782\n",
            "DE      246\n",
            "TN     1365\n",
            "MN     1638\n",
            "WV      460\n",
            "VT      174\n",
            "ND       45\n",
            "WY      212\n",
            "GA     2998\n",
            "AZ     2115\n",
            "NE      126\n",
            "AR      694\n",
            "OK      851\n",
            "MS      389\n",
            "DC      271\n",
            "CA    13744\n",
            "Name: state_code, dtype: int64\n",
            "INDIVIDUAL    93118\n",
            "JOINT            56\n",
            "Name: application_type, dtype: int64\n"
          ],
          "name": "stdout"
        }
      ]
    },
    {
      "cell_type": "code",
      "metadata": {
        "id": "ycEXqI3LHl4z",
        "outputId": "711fa515-7cf3-44f6-8681-d1c0eb33d118"
      },
      "source": [
        "df1.count()\n",
        "df1.count(axis='columns')"
      ],
      "execution_count": null,
      "outputs": [
        {
          "output_type": "execute_result",
          "data": {
            "text/plain": [
              "0        23\n",
              "1        23\n",
              "2        23\n",
              "3        22\n",
              "4        23\n",
              "         ..\n",
              "93169    23\n",
              "93170    20\n",
              "93171    23\n",
              "93172    23\n",
              "93173    23\n",
              "Length: 93174, dtype: int64"
            ]
          },
          "metadata": {
            "tags": []
          },
          "execution_count": 7
        }
      ]
    },
    {
      "cell_type": "code",
      "metadata": {
        "id": "A_zWSUO5Hl4z",
        "outputId": "8bd1b32b-9f7a-4d3e-8781-5512a63ef0e5"
      },
      "source": [
        "# check for null values\n",
        "# Are there any missing values ?\n",
        "\n",
        "df1.isnull().sum()"
      ],
      "execution_count": null,
      "outputs": [
        {
          "output_type": "execute_result",
          "data": {
            "text/plain": [
              "ID                               0\n",
              "loan_amnt                        0\n",
              "loan_term                        0\n",
              "interest_rate                    0\n",
              "loan_grade                       0\n",
              "loan_subgrade                    0\n",
              "job_experience                4702\n",
              "home_ownership                   0\n",
              "annual_income                    1\n",
              "income_verification_status       0\n",
              "loan_purpose                     0\n",
              "state_code                       0\n",
              "debt_to_income                   0\n",
              "delinq_2yrs                      2\n",
              "public_records                   2\n",
              "revolving_balance                0\n",
              "total_acc                        2\n",
              "interest_receive                 0\n",
              "application_type                 0\n",
              "last_week_pay                 1924\n",
              "total_current_balance         7386\n",
              "total_revolving_limit         7386\n",
              "default                          0\n",
              "dtype: int64"
            ]
          },
          "metadata": {
            "tags": []
          },
          "execution_count": 8
        }
      ]
    },
    {
      "cell_type": "code",
      "metadata": {
        "id": "OJJmPJ2SHl40",
        "outputId": "5b613682-c1e1-411d-8fdd-27bf70b8c206"
      },
      "source": [
        "# Imput missing value\n",
        "for column in df1.columns:\n",
        "    if df1[column].dtype != 'object':\n",
        "        mean = df1[column].mean()\n",
        "        df1[column] = df1[column].fillna(mean)    \n",
        "        \n",
        "df1.isnull().sum()   "
      ],
      "execution_count": null,
      "outputs": [
        {
          "output_type": "execute_result",
          "data": {
            "text/plain": [
              "ID                               0\n",
              "loan_amnt                        0\n",
              "loan_term                        0\n",
              "interest_rate                    0\n",
              "loan_grade                       0\n",
              "loan_subgrade                    0\n",
              "job_experience                4702\n",
              "home_ownership                   0\n",
              "annual_income                    0\n",
              "income_verification_status       0\n",
              "loan_purpose                     0\n",
              "state_code                       0\n",
              "debt_to_income                   0\n",
              "delinq_2yrs                      0\n",
              "public_records                   0\n",
              "revolving_balance                0\n",
              "total_acc                        0\n",
              "interest_receive                 0\n",
              "application_type                 0\n",
              "last_week_pay                    0\n",
              "total_current_balance            0\n",
              "total_revolving_limit            0\n",
              "default                          0\n",
              "dtype: int64"
            ]
          },
          "metadata": {
            "tags": []
          },
          "execution_count": 9
        }
      ]
    },
    {
      "cell_type": "code",
      "metadata": {
        "id": "5JgEawqFHl40"
      },
      "source": [
        "# Imputing Nan for \"object\" type data column - job_experience\n",
        "# Imput missing value"
      ],
      "execution_count": null,
      "outputs": []
    },
    {
      "cell_type": "code",
      "metadata": {
        "id": "6LMApfL8Hl40",
        "outputId": "1cf73e6f-2e74-4298-f526-a58ed3142a17"
      },
      "source": [
        "from sklearn.impute import SimpleImputer\n",
        "imp = SimpleImputer(missing_values=np.nan, strategy='most_frequent')\n",
        "imp.fit(df1[['job_experience']]) "
      ],
      "execution_count": null,
      "outputs": [
        {
          "output_type": "execute_result",
          "data": {
            "text/plain": [
              "SimpleImputer(strategy='most_frequent')"
            ]
          },
          "metadata": {
            "tags": []
          },
          "execution_count": 11
        }
      ]
    },
    {
      "cell_type": "code",
      "metadata": {
        "id": "ZDX0uSE0Hl41",
        "outputId": "23c9245f-9a5c-4df9-861e-0dfb8123dc59"
      },
      "source": [
        "df1['job_experience']=imp.transform(df1[['job_experience']])\n",
        "df1.isnull().sum() "
      ],
      "execution_count": null,
      "outputs": [
        {
          "output_type": "execute_result",
          "data": {
            "text/plain": [
              "ID                            0\n",
              "loan_amnt                     0\n",
              "loan_term                     0\n",
              "interest_rate                 0\n",
              "loan_grade                    0\n",
              "loan_subgrade                 0\n",
              "job_experience                0\n",
              "home_ownership                0\n",
              "annual_income                 0\n",
              "income_verification_status    0\n",
              "loan_purpose                  0\n",
              "state_code                    0\n",
              "debt_to_income                0\n",
              "delinq_2yrs                   0\n",
              "public_records                0\n",
              "revolving_balance             0\n",
              "total_acc                     0\n",
              "interest_receive              0\n",
              "application_type              0\n",
              "last_week_pay                 0\n",
              "total_current_balance         0\n",
              "total_revolving_limit         0\n",
              "default                       0\n",
              "dtype: int64"
            ]
          },
          "metadata": {
            "tags": []
          },
          "execution_count": 12
        }
      ]
    },
    {
      "cell_type": "code",
      "metadata": {
        "id": "GDOw-ZOOHl41",
        "outputId": "7c33dae1-27f1-4912-acb1-285d6b72ad18"
      },
      "source": [
        "# check for duplicates\n",
        "\n",
        "df1.duplicated().sum()"
      ],
      "execution_count": null,
      "outputs": [
        {
          "output_type": "execute_result",
          "data": {
            "text/plain": [
              "0"
            ]
          },
          "metadata": {
            "tags": []
          },
          "execution_count": 13
        }
      ]
    },
    {
      "cell_type": "code",
      "metadata": {
        "scrolled": false,
        "id": "df1vXCOTHl41",
        "outputId": "151fa000-7239-46e9-869a-3ddfe18875cd"
      },
      "source": [
        "df1.describe().transpose()"
      ],
      "execution_count": null,
      "outputs": [
        {
          "output_type": "execute_result",
          "data": {
            "text/html": [
              "<div>\n",
              "<style scoped>\n",
              "    .dataframe tbody tr th:only-of-type {\n",
              "        vertical-align: middle;\n",
              "    }\n",
              "\n",
              "    .dataframe tbody tr th {\n",
              "        vertical-align: top;\n",
              "    }\n",
              "\n",
              "    .dataframe thead th {\n",
              "        text-align: right;\n",
              "    }\n",
              "</style>\n",
              "<table border=\"1\" class=\"dataframe\">\n",
              "  <thead>\n",
              "    <tr style=\"text-align: right;\">\n",
              "      <th></th>\n",
              "      <th>count</th>\n",
              "      <th>mean</th>\n",
              "      <th>std</th>\n",
              "      <th>min</th>\n",
              "      <th>25%</th>\n",
              "      <th>50%</th>\n",
              "      <th>75%</th>\n",
              "      <th>max</th>\n",
              "    </tr>\n",
              "  </thead>\n",
              "  <tbody>\n",
              "    <tr>\n",
              "      <th>ID</th>\n",
              "      <td>93174.0</td>\n",
              "      <td>3.505021e+07</td>\n",
              "      <td>2.414926e+07</td>\n",
              "      <td>70735.00</td>\n",
              "      <td>10859832.50</td>\n",
              "      <td>3.710751e+07</td>\n",
              "      <td>5.859895e+07</td>\n",
              "      <td>73519746.00</td>\n",
              "    </tr>\n",
              "    <tr>\n",
              "      <th>loan_amnt</th>\n",
              "      <td>93174.0</td>\n",
              "      <td>1.473386e+04</td>\n",
              "      <td>8.428185e+03</td>\n",
              "      <td>500.00</td>\n",
              "      <td>8000.00</td>\n",
              "      <td>1.300000e+04</td>\n",
              "      <td>2.000000e+04</td>\n",
              "      <td>35000.00</td>\n",
              "    </tr>\n",
              "    <tr>\n",
              "      <th>interest_rate</th>\n",
              "      <td>93174.0</td>\n",
              "      <td>1.323343e+01</td>\n",
              "      <td>4.368728e+00</td>\n",
              "      <td>5.32</td>\n",
              "      <td>9.99</td>\n",
              "      <td>1.299000e+01</td>\n",
              "      <td>1.620000e+01</td>\n",
              "      <td>28.99</td>\n",
              "    </tr>\n",
              "    <tr>\n",
              "      <th>annual_income</th>\n",
              "      <td>93174.0</td>\n",
              "      <td>7.502826e+04</td>\n",
              "      <td>6.945441e+04</td>\n",
              "      <td>1200.00</td>\n",
              "      <td>45000.00</td>\n",
              "      <td>6.400000e+04</td>\n",
              "      <td>9.000000e+04</td>\n",
              "      <td>9500000.00</td>\n",
              "    </tr>\n",
              "    <tr>\n",
              "      <th>debt_to_income</th>\n",
              "      <td>93174.0</td>\n",
              "      <td>1.812762e+01</td>\n",
              "      <td>8.563084e+00</td>\n",
              "      <td>0.00</td>\n",
              "      <td>11.93</td>\n",
              "      <td>1.764000e+01</td>\n",
              "      <td>2.389000e+01</td>\n",
              "      <td>672.52</td>\n",
              "    </tr>\n",
              "    <tr>\n",
              "      <th>delinq_2yrs</th>\n",
              "      <td>93174.0</td>\n",
              "      <td>3.169944e-01</td>\n",
              "      <td>8.808497e-01</td>\n",
              "      <td>0.00</td>\n",
              "      <td>0.00</td>\n",
              "      <td>0.000000e+00</td>\n",
              "      <td>0.000000e+00</td>\n",
              "      <td>22.00</td>\n",
              "    </tr>\n",
              "    <tr>\n",
              "      <th>public_records</th>\n",
              "      <td>93174.0</td>\n",
              "      <td>1.961212e-01</td>\n",
              "      <td>5.811820e-01</td>\n",
              "      <td>0.00</td>\n",
              "      <td>0.00</td>\n",
              "      <td>0.000000e+00</td>\n",
              "      <td>0.000000e+00</td>\n",
              "      <td>49.00</td>\n",
              "    </tr>\n",
              "    <tr>\n",
              "      <th>revolving_balance</th>\n",
              "      <td>93174.0</td>\n",
              "      <td>1.685447e+04</td>\n",
              "      <td>2.368907e+04</td>\n",
              "      <td>0.00</td>\n",
              "      <td>6433.00</td>\n",
              "      <td>1.185600e+04</td>\n",
              "      <td>2.074500e+04</td>\n",
              "      <td>2560703.00</td>\n",
              "    </tr>\n",
              "    <tr>\n",
              "      <th>total_acc</th>\n",
              "      <td>93174.0</td>\n",
              "      <td>2.524891e+01</td>\n",
              "      <td>1.185493e+01</td>\n",
              "      <td>1.00</td>\n",
              "      <td>17.00</td>\n",
              "      <td>2.400000e+01</td>\n",
              "      <td>3.200000e+01</td>\n",
              "      <td>119.00</td>\n",
              "    </tr>\n",
              "    <tr>\n",
              "      <th>interest_receive</th>\n",
              "      <td>93174.0</td>\n",
              "      <td>1.747264e+03</td>\n",
              "      <td>2.088236e+03</td>\n",
              "      <td>0.00</td>\n",
              "      <td>439.88</td>\n",
              "      <td>1.070755e+03</td>\n",
              "      <td>2.219613e+03</td>\n",
              "      <td>23172.31</td>\n",
              "    </tr>\n",
              "    <tr>\n",
              "      <th>last_week_pay</th>\n",
              "      <td>93174.0</td>\n",
              "      <td>5.815488e+01</td>\n",
              "      <td>4.386651e+01</td>\n",
              "      <td>0.00</td>\n",
              "      <td>22.00</td>\n",
              "      <td>4.800000e+01</td>\n",
              "      <td>8.300000e+01</td>\n",
              "      <td>291.00</td>\n",
              "    </tr>\n",
              "    <tr>\n",
              "      <th>total_current_balance</th>\n",
              "      <td>93174.0</td>\n",
              "      <td>1.392529e+05</td>\n",
              "      <td>1.513077e+05</td>\n",
              "      <td>0.00</td>\n",
              "      <td>31953.00</td>\n",
              "      <td>9.843500e+04</td>\n",
              "      <td>1.949948e+05</td>\n",
              "      <td>8000078.00</td>\n",
              "    </tr>\n",
              "    <tr>\n",
              "      <th>total_revolving_limit</th>\n",
              "      <td>93174.0</td>\n",
              "      <td>3.208590e+04</td>\n",
              "      <td>4.514904e+04</td>\n",
              "      <td>0.00</td>\n",
              "      <td>14700.00</td>\n",
              "      <td>2.570000e+04</td>\n",
              "      <td>3.787500e+04</td>\n",
              "      <td>9999999.00</td>\n",
              "    </tr>\n",
              "    <tr>\n",
              "      <th>default</th>\n",
              "      <td>93174.0</td>\n",
              "      <td>2.375019e-01</td>\n",
              "      <td>4.255546e-01</td>\n",
              "      <td>0.00</td>\n",
              "      <td>0.00</td>\n",
              "      <td>0.000000e+00</td>\n",
              "      <td>0.000000e+00</td>\n",
              "      <td>1.00</td>\n",
              "    </tr>\n",
              "  </tbody>\n",
              "</table>\n",
              "</div>"
            ],
            "text/plain": [
              "                         count          mean           std       min  \\\n",
              "ID                     93174.0  3.505021e+07  2.414926e+07  70735.00   \n",
              "loan_amnt              93174.0  1.473386e+04  8.428185e+03    500.00   \n",
              "interest_rate          93174.0  1.323343e+01  4.368728e+00      5.32   \n",
              "annual_income          93174.0  7.502826e+04  6.945441e+04   1200.00   \n",
              "debt_to_income         93174.0  1.812762e+01  8.563084e+00      0.00   \n",
              "delinq_2yrs            93174.0  3.169944e-01  8.808497e-01      0.00   \n",
              "public_records         93174.0  1.961212e-01  5.811820e-01      0.00   \n",
              "revolving_balance      93174.0  1.685447e+04  2.368907e+04      0.00   \n",
              "total_acc              93174.0  2.524891e+01  1.185493e+01      1.00   \n",
              "interest_receive       93174.0  1.747264e+03  2.088236e+03      0.00   \n",
              "last_week_pay          93174.0  5.815488e+01  4.386651e+01      0.00   \n",
              "total_current_balance  93174.0  1.392529e+05  1.513077e+05      0.00   \n",
              "total_revolving_limit  93174.0  3.208590e+04  4.514904e+04      0.00   \n",
              "default                93174.0  2.375019e-01  4.255546e-01      0.00   \n",
              "\n",
              "                               25%           50%           75%          max  \n",
              "ID                     10859832.50  3.710751e+07  5.859895e+07  73519746.00  \n",
              "loan_amnt                  8000.00  1.300000e+04  2.000000e+04     35000.00  \n",
              "interest_rate                 9.99  1.299000e+01  1.620000e+01        28.99  \n",
              "annual_income             45000.00  6.400000e+04  9.000000e+04   9500000.00  \n",
              "debt_to_income               11.93  1.764000e+01  2.389000e+01       672.52  \n",
              "delinq_2yrs                   0.00  0.000000e+00  0.000000e+00        22.00  \n",
              "public_records                0.00  0.000000e+00  0.000000e+00        49.00  \n",
              "revolving_balance          6433.00  1.185600e+04  2.074500e+04   2560703.00  \n",
              "total_acc                    17.00  2.400000e+01  3.200000e+01       119.00  \n",
              "interest_receive            439.88  1.070755e+03  2.219613e+03     23172.31  \n",
              "last_week_pay                22.00  4.800000e+01  8.300000e+01       291.00  \n",
              "total_current_balance     31953.00  9.843500e+04  1.949948e+05   8000078.00  \n",
              "total_revolving_limit     14700.00  2.570000e+04  3.787500e+04   9999999.00  \n",
              "default                       0.00  0.000000e+00  0.000000e+00         1.00  "
            ]
          },
          "metadata": {
            "tags": []
          },
          "execution_count": 14
        }
      ]
    },
    {
      "cell_type": "code",
      "metadata": {
        "id": "Sh4ax3pjHl42"
      },
      "source": [
        "# Check for Outliers"
      ],
      "execution_count": null,
      "outputs": []
    },
    {
      "cell_type": "code",
      "metadata": {
        "id": "klRLv1TgHl42",
        "outputId": "04c44b8a-ad0e-4389-abf8-b968d1a64c29"
      },
      "source": [
        "#box plot to check outliers\n",
        "\n",
        "plt.subplots(figsize=(20,4))\n",
        "df1.boxplot(figsize=(20,4))"
      ],
      "execution_count": null,
      "outputs": [
        {
          "output_type": "execute_result",
          "data": {
            "text/plain": [
              "<matplotlib.axes._subplots.AxesSubplot at 0x1040499ea30>"
            ]
          },
          "metadata": {
            "tags": []
          },
          "execution_count": 16
        },
        {
          "output_type": "display_data",
          "data": {
            "image/png": "[encoded data removed]",
            "text/plain": [
              "<Figure size 1440x288 with 1 Axes>"
            ]
          },
          "metadata": {
            "tags": [],
            "needs_background": "light"
          }
        }
      ]
    },
    {
      "cell_type": "code",
      "metadata": {
        "id": "vDOHSCW8Hl42"
      },
      "source": [
        "# UniVariate Analysis before treating Outliers\n",
        "# Univariate except names column"
      ],
      "execution_count": null,
      "outputs": []
    },
    {
      "cell_type": "code",
      "metadata": {
        "id": "L7D4-v3hHl42",
        "outputId": "06da70ee-bef3-4eab-a7b5-8d7a0f559138"
      },
      "source": [
        "# UniVariate Analysis before treating Outliers\n",
        "# Univariate except names column\n",
        "\n",
        "fig, axes = plt.subplots(nrows=6,ncols=2)\n",
        "fig.set_size_inches(12, 14)\n",
        "\n",
        "a = sns.distplot(df1['loan_amnt'] , ax=axes[0][0])\n",
        "a.set_title(\"loan_amnt Distribution\",fontsize=15)\n",
        "a = sns.boxplot(df1['loan_amnt'] , orient = \"h\" , ax=axes[0][1])\n",
        "a.set_title(\"loan_amnt Distribution\",fontsize=15)\n",
        "\n",
        "\n",
        "a = sns.distplot(df1['interest_rate'] , ax=axes[1][0])\n",
        "a.set_title(\"interest_rate Distribution\",fontsize=15)\n",
        "a = sns.boxplot(df1['interest_rate'] , orient = \"h\" , ax=axes[1][1])\n",
        "a.set_title(\"interest_rate Distribution\",fontsize=15)\n",
        "\n",
        "\n",
        "a = sns.distplot(df1['annual_income'] , ax=axes[2][0])\n",
        "a.set_title(\"annual_income Distribution\",fontsize=15)\n",
        "a = sns.boxplot(df1['annual_income'] , orient = \"h\" , ax=axes[2][1])\n",
        "a.set_title(\"annual_income Distribution\",fontsize=15)\n",
        "\n",
        "\n",
        "a = sns.distplot(df1['debt_to_income'] , ax=axes[3][0])\n",
        "a.set_title(\"debt_to_income Distribution\",fontsize=15)\n",
        "a = sns.boxplot(df1['debt_to_income'] , orient = \"h\" , ax=axes[3][1])\n",
        "a.set_title(\"debt_to_income Distribution\",fontsize=15)\n",
        "\n",
        "\n",
        "a = sns.distplot(df1['delinq_2yrs'] , ax=axes[4][0])\n",
        "a.set_title(\"delinq_2yrs Distribution\",fontsize=15)\n",
        "a = sns.boxplot(df1['delinq_2yrs'] , orient = \"h\" , ax=axes[4][1])\n",
        "a.set_title(\"delinq_2yrs Distribution\",fontsize=15)\n",
        "\n",
        "\n",
        "a = sns.distplot(df1['public_records'] , ax=axes[5][0])\n",
        "a.set_title(\"public_records Distribution\",fontsize=15)\n",
        "a = sns.boxplot(df1['public_records'] , orient = \"h\" , ax=axes[5][1])\n",
        "a.set_title(\"public_records Distribution\",fontsize=15)\n",
        "\n",
        "\n",
        "plt.show()"
      ],
      "execution_count": null,
      "outputs": [
        {
          "output_type": "display_data",
          "data": {
            "image/png": "[encoded data removed]",
            "text/plain": [
              "<Figure size 864x1008 with 12 Axes>"
            ]
          },
          "metadata": {
            "tags": [],
            "needs_background": "light"
          }
        }
      ]
    },
    {
      "cell_type": "code",
      "metadata": {
        "id": "O06KYZgKHl43",
        "outputId": "5921a099-7540-4da3-a77a-60f6382c02e1"
      },
      "source": [
        "# UniVariate Analysis before treating Outliers\n",
        "# Univariate except names column\n",
        "\n",
        "fig, axes = plt.subplots(nrows=7,ncols=2)\n",
        "fig.set_size_inches(12, 14)\n",
        "\n",
        "a = sns.distplot(df1['revolving_balance'] , ax=axes[0][0])\n",
        "a.set_title(\"revolving_balance Distribution\",fontsize=15)\n",
        "a = sns.boxplot(df1['revolving_balance'] , orient = \"h\" , ax=axes[0][1])\n",
        "a.set_title(\"revolving_balance Distribution\",fontsize=15)\n",
        "\n",
        "\n",
        "a = sns.distplot(df1['total_acc'] , ax=axes[1][0])\n",
        "a.set_title(\"total_acc Distribution\",fontsize=15)\n",
        "a = sns.boxplot(df1['total_acc'] , orient = \"h\" , ax=axes[1][1])\n",
        "a.set_title(\"total_acc Distribution\",fontsize=15)\n",
        "\n",
        "\n",
        "a = sns.distplot(df1['interest_receive'] , ax=axes[2][0])\n",
        "a.set_title(\"interest_receive Distribution\",fontsize=15)\n",
        "a = sns.boxplot(df1['interest_receive'] , orient = \"h\" , ax=axes[2][1])\n",
        "a.set_title(\"interest_receive Distribution\",fontsize=15)\n",
        "\n",
        "\n",
        "a = sns.distplot(df1['last_week_pay'] , ax=axes[3][0])\n",
        "a.set_title(\"last_week_pay Distribution\",fontsize=15)\n",
        "a = sns.boxplot(df1['last_week_pay'] , orient = \"h\" , ax=axes[3][1])\n",
        "a.set_title(\"last_week_pay Distribution\",fontsize=15)\n",
        "\n",
        "\n",
        "a = sns.distplot(df1['total_current_balance'] , ax=axes[4][0])\n",
        "a.set_title(\"total_current_balance Distribution\",fontsize=15)\n",
        "a = sns.boxplot(df1['total_current_balance'] , orient = \"h\" , ax=axes[4][1])\n",
        "a.set_title(\"total_current_balance Distribution\",fontsize=15)\n",
        "\n",
        "\n",
        "a = sns.distplot(df1['total_revolving_limit'] , ax=axes[5][0])\n",
        "a.set_title(\"total_revolving_limit Distribution\",fontsize=15)\n",
        "a = sns.boxplot(df1['total_revolving_limit'] , orient = \"h\" , ax=axes[5][1])\n",
        "a.set_title(\"total_revolving_limit Distribution\",fontsize=15)\n",
        "\n",
        "a = sns.distplot(df1['default'] , ax=axes[6][0])\n",
        "a.set_title(\"default Distribution\",fontsize=15)\n",
        "a = sns.boxplot(df1['default'] , orient = \"h\" , ax=axes[5][1])\n",
        "a.set_title(\"default Distribution\",fontsize=15)\n",
        "\n",
        "plt.show()"
      ],
      "execution_count": null,
      "outputs": [
        {
          "output_type": "display_data",
          "data": {
            "image/png": "[encoded data removed]",
            "text/plain": [
              "<Figure size 864x1008 with 14 Axes>"
            ]
          },
          "metadata": {
            "tags": [],
            "needs_background": "light"
          }
        }
      ]
    },
    {
      "cell_type": "code",
      "metadata": {
        "id": "h700FlttHl44",
        "outputId": "2e72972a-c6f9-4149-ec39-a53bf80418cd"
      },
      "source": [
        "#Skew\n",
        "\n",
        "df1.skew()"
      ],
      "execution_count": null,
      "outputs": [
        {
          "output_type": "execute_result",
          "data": {
            "text/plain": [
              "ID                         0.017670\n",
              "loan_amnt                  0.686590\n",
              "interest_rate              0.426024\n",
              "annual_income             56.671147\n",
              "debt_to_income             5.005686\n",
              "delinq_2yrs                5.659111\n",
              "public_records            10.940404\n",
              "revolving_balance         24.717052\n",
              "total_acc                  0.892771\n",
              "interest_receive           2.835085\n",
              "last_week_pay              1.022865\n",
              "total_current_balance      4.549702\n",
              "total_revolving_limit    118.212652\n",
              "default                    1.233702\n",
              "dtype: float64"
            ]
          },
          "metadata": {
            "tags": []
          },
          "execution_count": 20
        }
      ]
    },
    {
      "cell_type": "code",
      "metadata": {
        "id": "crQtur15Hl44"
      },
      "source": [
        "\n"
      ],
      "execution_count": null,
      "outputs": []
    },
    {
      "cell_type": "code",
      "metadata": {
        "id": "zhzGh8N9Hl45",
        "outputId": "f88985fe-53f2-454b-9e6c-68e5a6e66d35"
      },
      "source": [
        "# Multi- Variate Analysis\n",
        "# Check for correlation of variable\n",
        "# pearson correlation - linear relation between numeric variables only \n",
        "\n",
        "df1.corr(method='pearson')"
      ],
      "execution_count": null,
      "outputs": [
        {
          "output_type": "execute_result",
          "data": {
            "text/html": [
              "<div>\n",
              "<style scoped>\n",
              "    .dataframe tbody tr th:only-of-type {\n",
              "        vertical-align: middle;\n",
              "    }\n",
              "\n",
              "    .dataframe tbody tr th {\n",
              "        vertical-align: top;\n",
              "    }\n",
              "\n",
              "    .dataframe thead th {\n",
              "        text-align: right;\n",
              "    }\n",
              "</style>\n",
              "<table border=\"1\" class=\"dataframe\">\n",
              "  <thead>\n",
              "    <tr style=\"text-align: right;\">\n",
              "      <th></th>\n",
              "      <th>ID</th>\n",
              "      <th>loan_amnt</th>\n",
              "      <th>interest_rate</th>\n",
              "      <th>annual_income</th>\n",
              "      <th>debt_to_income</th>\n",
              "      <th>delinq_2yrs</th>\n",
              "      <th>public_records</th>\n",
              "      <th>revolving_balance</th>\n",
              "      <th>total_acc</th>\n",
              "      <th>interest_receive</th>\n",
              "      <th>last_week_pay</th>\n",
              "      <th>total_current_balance</th>\n",
              "      <th>total_revolving_limit</th>\n",
              "      <th>default</th>\n",
              "    </tr>\n",
              "  </thead>\n",
              "  <tbody>\n",
              "    <tr>\n",
              "      <th>ID</th>\n",
              "      <td>1.000000</td>\n",
              "      <td>0.070550</td>\n",
              "      <td>-0.140946</td>\n",
              "      <td>0.029651</td>\n",
              "      <td>0.130825</td>\n",
              "      <td>0.048395</td>\n",
              "      <td>0.085459</td>\n",
              "      <td>0.029953</td>\n",
              "      <td>0.027138</td>\n",
              "      <td>-0.462155</td>\n",
              "      <td>-0.782800</td>\n",
              "      <td>0.003717</td>\n",
              "      <td>0.029545</td>\n",
              "      <td>-0.493881</td>\n",
              "    </tr>\n",
              "    <tr>\n",
              "      <th>loan_amnt</th>\n",
              "      <td>0.070550</td>\n",
              "      <td>1.000000</td>\n",
              "      <td>0.146269</td>\n",
              "      <td>0.312600</td>\n",
              "      <td>0.036418</td>\n",
              "      <td>0.000051</td>\n",
              "      <td>-0.083575</td>\n",
              "      <td>0.313683</td>\n",
              "      <td>0.221027</td>\n",
              "      <td>0.530076</td>\n",
              "      <td>-0.050366</td>\n",
              "      <td>0.308804</td>\n",
              "      <td>0.240932</td>\n",
              "      <td>-0.093673</td>\n",
              "    </tr>\n",
              "    <tr>\n",
              "      <th>interest_rate</th>\n",
              "      <td>-0.140946</td>\n",
              "      <td>0.146269</td>\n",
              "      <td>1.000000</td>\n",
              "      <td>-0.064548</td>\n",
              "      <td>0.163057</td>\n",
              "      <td>0.055203</td>\n",
              "      <td>0.048747</td>\n",
              "      <td>-0.032946</td>\n",
              "      <td>-0.029836</td>\n",
              "      <td>0.446891</td>\n",
              "      <td>0.074183</td>\n",
              "      <td>-0.086098</td>\n",
              "      <td>-0.129055</td>\n",
              "      <td>-0.000201</td>\n",
              "    </tr>\n",
              "    <tr>\n",
              "      <th>annual_income</th>\n",
              "      <td>0.029651</td>\n",
              "      <td>0.312600</td>\n",
              "      <td>-0.064548</td>\n",
              "      <td>1.000000</td>\n",
              "      <td>-0.165572</td>\n",
              "      <td>0.047677</td>\n",
              "      <td>-0.009154</td>\n",
              "      <td>0.291281</td>\n",
              "      <td>0.175375</td>\n",
              "      <td>0.122774</td>\n",
              "      <td>-0.025010</td>\n",
              "      <td>0.407298</td>\n",
              "      <td>0.228075</td>\n",
              "      <td>-0.003014</td>\n",
              "    </tr>\n",
              "    <tr>\n",
              "      <th>debt_to_income</th>\n",
              "      <td>0.130825</td>\n",
              "      <td>0.036418</td>\n",
              "      <td>0.163057</td>\n",
              "      <td>-0.165572</td>\n",
              "      <td>1.000000</td>\n",
              "      <td>-0.015269</td>\n",
              "      <td>-0.044236</td>\n",
              "      <td>0.122731</td>\n",
              "      <td>0.214984</td>\n",
              "      <td>0.014969</td>\n",
              "      <td>-0.099769</td>\n",
              "      <td>-0.017865</td>\n",
              "      <td>0.047069</td>\n",
              "      <td>-0.132776</td>\n",
              "    </tr>\n",
              "    <tr>\n",
              "      <th>delinq_2yrs</th>\n",
              "      <td>0.048395</td>\n",
              "      <td>0.000051</td>\n",
              "      <td>0.055203</td>\n",
              "      <td>0.047677</td>\n",
              "      <td>-0.015269</td>\n",
              "      <td>1.000000</td>\n",
              "      <td>-0.009842</td>\n",
              "      <td>-0.028839</td>\n",
              "      <td>0.128916</td>\n",
              "      <td>0.002880</td>\n",
              "      <td>-0.043750</td>\n",
              "      <td>0.067947</td>\n",
              "      <td>-0.031133</td>\n",
              "      <td>-0.040747</td>\n",
              "    </tr>\n",
              "    <tr>\n",
              "      <th>public_records</th>\n",
              "      <td>0.085459</td>\n",
              "      <td>-0.083575</td>\n",
              "      <td>0.048747</td>\n",
              "      <td>-0.009154</td>\n",
              "      <td>-0.044236</td>\n",
              "      <td>-0.009842</td>\n",
              "      <td>1.000000</td>\n",
              "      <td>-0.096294</td>\n",
              "      <td>0.015716</td>\n",
              "      <td>-0.066196</td>\n",
              "      <td>-0.080061</td>\n",
              "      <td>-0.072014</td>\n",
              "      <td>-0.080367</td>\n",
              "      <td>-0.050407</td>\n",
              "    </tr>\n",
              "    <tr>\n",
              "      <th>revolving_balance</th>\n",
              "      <td>0.029953</td>\n",
              "      <td>0.313683</td>\n",
              "      <td>-0.032946</td>\n",
              "      <td>0.291281</td>\n",
              "      <td>0.122731</td>\n",
              "      <td>-0.028839</td>\n",
              "      <td>-0.096294</td>\n",
              "      <td>1.000000</td>\n",
              "      <td>0.180104</td>\n",
              "      <td>0.130156</td>\n",
              "      <td>-0.015430</td>\n",
              "      <td>0.441148</td>\n",
              "      <td>0.785215</td>\n",
              "      <td>-0.034000</td>\n",
              "    </tr>\n",
              "    <tr>\n",
              "      <th>total_acc</th>\n",
              "      <td>0.027138</td>\n",
              "      <td>0.221027</td>\n",
              "      <td>-0.029836</td>\n",
              "      <td>0.175375</td>\n",
              "      <td>0.214984</td>\n",
              "      <td>0.128916</td>\n",
              "      <td>0.015716</td>\n",
              "      <td>0.180104</td>\n",
              "      <td>1.000000</td>\n",
              "      <td>0.097986</td>\n",
              "      <td>-0.043644</td>\n",
              "      <td>0.296194</td>\n",
              "      <td>0.193711</td>\n",
              "      <td>0.000561</td>\n",
              "    </tr>\n",
              "    <tr>\n",
              "      <th>interest_receive</th>\n",
              "      <td>-0.462155</td>\n",
              "      <td>0.530076</td>\n",
              "      <td>0.446891</td>\n",
              "      <td>0.122774</td>\n",
              "      <td>0.014969</td>\n",
              "      <td>0.002880</td>\n",
              "      <td>-0.066196</td>\n",
              "      <td>0.130156</td>\n",
              "      <td>0.097986</td>\n",
              "      <td>1.000000</td>\n",
              "      <td>0.522943</td>\n",
              "      <td>0.116504</td>\n",
              "      <td>0.053091</td>\n",
              "      <td>0.041364</td>\n",
              "    </tr>\n",
              "    <tr>\n",
              "      <th>last_week_pay</th>\n",
              "      <td>-0.782800</td>\n",
              "      <td>-0.050366</td>\n",
              "      <td>0.074183</td>\n",
              "      <td>-0.025010</td>\n",
              "      <td>-0.099769</td>\n",
              "      <td>-0.043750</td>\n",
              "      <td>-0.080061</td>\n",
              "      <td>-0.015430</td>\n",
              "      <td>-0.043644</td>\n",
              "      <td>0.522943</td>\n",
              "      <td>1.000000</td>\n",
              "      <td>-0.003438</td>\n",
              "      <td>-0.018346</td>\n",
              "      <td>0.263697</td>\n",
              "    </tr>\n",
              "    <tr>\n",
              "      <th>total_current_balance</th>\n",
              "      <td>0.003717</td>\n",
              "      <td>0.308804</td>\n",
              "      <td>-0.086098</td>\n",
              "      <td>0.407298</td>\n",
              "      <td>-0.017865</td>\n",
              "      <td>0.067947</td>\n",
              "      <td>-0.072014</td>\n",
              "      <td>0.441148</td>\n",
              "      <td>0.296194</td>\n",
              "      <td>0.116504</td>\n",
              "      <td>-0.003438</td>\n",
              "      <td>1.000000</td>\n",
              "      <td>0.352051</td>\n",
              "      <td>0.018321</td>\n",
              "    </tr>\n",
              "    <tr>\n",
              "      <th>total_revolving_limit</th>\n",
              "      <td>0.029545</td>\n",
              "      <td>0.240932</td>\n",
              "      <td>-0.129055</td>\n",
              "      <td>0.228075</td>\n",
              "      <td>0.047069</td>\n",
              "      <td>-0.031133</td>\n",
              "      <td>-0.080367</td>\n",
              "      <td>0.785215</td>\n",
              "      <td>0.193711</td>\n",
              "      <td>0.053091</td>\n",
              "      <td>-0.018346</td>\n",
              "      <td>0.352051</td>\n",
              "      <td>1.000000</td>\n",
              "      <td>-0.009337</td>\n",
              "    </tr>\n",
              "    <tr>\n",
              "      <th>default</th>\n",
              "      <td>-0.493881</td>\n",
              "      <td>-0.093673</td>\n",
              "      <td>-0.000201</td>\n",
              "      <td>-0.003014</td>\n",
              "      <td>-0.132776</td>\n",
              "      <td>-0.040747</td>\n",
              "      <td>-0.050407</td>\n",
              "      <td>-0.034000</td>\n",
              "      <td>0.000561</td>\n",
              "      <td>0.041364</td>\n",
              "      <td>0.263697</td>\n",
              "      <td>0.018321</td>\n",
              "      <td>-0.009337</td>\n",
              "      <td>1.000000</td>\n",
              "    </tr>\n",
              "  </tbody>\n",
              "</table>\n",
              "</div>"
            ],
            "text/plain": [
              "                             ID  loan_amnt  interest_rate  annual_income  \\\n",
              "ID                     1.000000   0.070550      -0.140946       0.029651   \n",
              "loan_amnt              0.070550   1.000000       0.146269       0.312600   \n",
              "interest_rate         -0.140946   0.146269       1.000000      -0.064548   \n",
              "annual_income          0.029651   0.312600      -0.064548       1.000000   \n",
              "debt_to_income         0.130825   0.036418       0.163057      -0.165572   \n",
              "delinq_2yrs            0.048395   0.000051       0.055203       0.047677   \n",
              "public_records         0.085459  -0.083575       0.048747      -0.009154   \n",
              "revolving_balance      0.029953   0.313683      -0.032946       0.291281   \n",
              "total_acc              0.027138   0.221027      -0.029836       0.175375   \n",
              "interest_receive      -0.462155   0.530076       0.446891       0.122774   \n",
              "last_week_pay         -0.782800  -0.050366       0.074183      -0.025010   \n",
              "total_current_balance  0.003717   0.308804      -0.086098       0.407298   \n",
              "total_revolving_limit  0.029545   0.240932      -0.129055       0.228075   \n",
              "default               -0.493881  -0.093673      -0.000201      -0.003014   \n",
              "\n",
              "                       debt_to_income  delinq_2yrs  public_records  \\\n",
              "ID                           0.130825     0.048395        0.085459   \n",
              "loan_amnt                    0.036418     0.000051       -0.083575   \n",
              "interest_rate                0.163057     0.055203        0.048747   \n",
              "annual_income               -0.165572     0.047677       -0.009154   \n",
              "debt_to_income               1.000000    -0.015269       -0.044236   \n",
              "delinq_2yrs                 -0.015269     1.000000       -0.009842   \n",
              "public_records              -0.044236    -0.009842        1.000000   \n",
              "revolving_balance            0.122731    -0.028839       -0.096294   \n",
              "total_acc                    0.214984     0.128916        0.015716   \n",
              "interest_receive             0.014969     0.002880       -0.066196   \n",
              "last_week_pay               -0.099769    -0.043750       -0.080061   \n",
              "total_current_balance       -0.017865     0.067947       -0.072014   \n",
              "total_revolving_limit        0.047069    -0.031133       -0.080367   \n",
              "default                     -0.132776    -0.040747       -0.050407   \n",
              "\n",
              "                       revolving_balance  total_acc  interest_receive  \\\n",
              "ID                              0.029953   0.027138         -0.462155   \n",
              "loan_amnt                       0.313683   0.221027          0.530076   \n",
              "interest_rate                  -0.032946  -0.029836          0.446891   \n",
              "annual_income                   0.291281   0.175375          0.122774   \n",
              "debt_to_income                  0.122731   0.214984          0.014969   \n",
              "delinq_2yrs                    -0.028839   0.128916          0.002880   \n",
              "public_records                 -0.096294   0.015716         -0.066196   \n",
              "revolving_balance               1.000000   0.180104          0.130156   \n",
              "total_acc                       0.180104   1.000000          0.097986   \n",
              "interest_receive                0.130156   0.097986          1.000000   \n",
              "last_week_pay                  -0.015430  -0.043644          0.522943   \n",
              "total_current_balance           0.441148   0.296194          0.116504   \n",
              "total_revolving_limit           0.785215   0.193711          0.053091   \n",
              "default                        -0.034000   0.000561          0.041364   \n",
              "\n",
              "                       last_week_pay  total_current_balance  \\\n",
              "ID                         -0.782800               0.003717   \n",
              "loan_amnt                  -0.050366               0.308804   \n",
              "interest_rate               0.074183              -0.086098   \n",
              "annual_income              -0.025010               0.407298   \n",
              "debt_to_income             -0.099769              -0.017865   \n",
              "delinq_2yrs                -0.043750               0.067947   \n",
              "public_records             -0.080061              -0.072014   \n",
              "revolving_balance          -0.015430               0.441148   \n",
              "total_acc                  -0.043644               0.296194   \n",
              "interest_receive            0.522943               0.116504   \n",
              "last_week_pay               1.000000              -0.003438   \n",
              "total_current_balance      -0.003438               1.000000   \n",
              "total_revolving_limit      -0.018346               0.352051   \n",
              "default                     0.263697               0.018321   \n",
              "\n",
              "                       total_revolving_limit   default  \n",
              "ID                                  0.029545 -0.493881  \n",
              "loan_amnt                           0.240932 -0.093673  \n",
              "interest_rate                      -0.129055 -0.000201  \n",
              "annual_income                       0.228075 -0.003014  \n",
              "debt_to_income                      0.047069 -0.132776  \n",
              "delinq_2yrs                        -0.031133 -0.040747  \n",
              "public_records                     -0.080367 -0.050407  \n",
              "revolving_balance                   0.785215 -0.034000  \n",
              "total_acc                           0.193711  0.000561  \n",
              "interest_receive                    0.053091  0.041364  \n",
              "last_week_pay                      -0.018346  0.263697  \n",
              "total_current_balance               0.352051  0.018321  \n",
              "total_revolving_limit               1.000000 -0.009337  \n",
              "default                            -0.009337  1.000000  "
            ]
          },
          "metadata": {
            "tags": []
          },
          "execution_count": 21
        }
      ]
    },
    {
      "cell_type": "code",
      "metadata": {
        "id": "f7CRQxe5Hl45",
        "outputId": "6d26b342-2f75-4d99-cdc2-f780b68b6f46"
      },
      "source": [
        "#heatmap\n",
        "\n",
        "plt.subplots(figsize=(10,10))\n",
        "sns.heatmap(df1.corr(), annot=True, fmt='.2f')  # plot the correlation coefficients as a heatmap"
      ],
      "execution_count": null,
      "outputs": [
        {
          "output_type": "execute_result",
          "data": {
            "text/plain": [
              "<matplotlib.axes._subplots.AxesSubplot at 0x10406128790>"
            ]
          },
          "metadata": {
            "tags": []
          },
          "execution_count": 22
        },
        {
          "output_type": "display_data",
          "data": {
            "image/png": "[encoded data removed]",
            "text/plain": [
              "<Figure size 720x720 with 2 Axes>"
            ]
          },
          "metadata": {
            "tags": [],
            "needs_background": "light"
          }
        }
      ]
    },
    {
      "cell_type": "code",
      "metadata": {
        "id": "JkUzGrWKHl45"
      },
      "source": [
        "# Highest correlation is between: \n",
        "# 2nd Highest correlation is between: \n",
        "# This heaptmap/table clearly shows the presence of multi collinearity in the dataset. which impacts the model\n",
        "# Lowest correlation is between:table and depth =-0.30"
      ],
      "execution_count": null,
      "outputs": []
    },
    {
      "cell_type": "code",
      "metadata": {
        "id": "aPwXQOp0Hl45"
      },
      "source": [
        "# Data Distribution\n",
        "# Pair Plot for continious variables\n",
        "# sns.pairplot(df1)\n",
        "# plt.show()"
      ],
      "execution_count": null,
      "outputs": []
    },
    {
      "cell_type": "code",
      "metadata": {
        "id": "Xx3EW5ZIHl46"
      },
      "source": [
        "# Univariate Graphs (Single Variable graphs)"
      ],
      "execution_count": null,
      "outputs": []
    },
    {
      "cell_type": "code",
      "metadata": {
        "id": "FpmVK9DzHl46"
      },
      "source": [
        "# Do you think scaling is necessary?"
      ],
      "execution_count": null,
      "outputs": []
    },
    {
      "cell_type": "code",
      "metadata": {
        "id": "OBKGNZlhHl46",
        "outputId": "e04ab657-3c9e-409a-82cc-e74ec3931e38"
      },
      "source": [
        "df1.describe()"
      ],
      "execution_count": null,
      "outputs": [
        {
          "output_type": "execute_result",
          "data": {
            "text/html": [
              "<div>\n",
              "<style scoped>\n",
              "    .dataframe tbody tr th:only-of-type {\n",
              "        vertical-align: middle;\n",
              "    }\n",
              "\n",
              "    .dataframe tbody tr th {\n",
              "        vertical-align: top;\n",
              "    }\n",
              "\n",
              "    .dataframe thead th {\n",
              "        text-align: right;\n",
              "    }\n",
              "</style>\n",
              "<table border=\"1\" class=\"dataframe\">\n",
              "  <thead>\n",
              "    <tr style=\"text-align: right;\">\n",
              "      <th></th>\n",
              "      <th>ID</th>\n",
              "      <th>loan_amnt</th>\n",
              "      <th>interest_rate</th>\n",
              "      <th>annual_income</th>\n",
              "      <th>debt_to_income</th>\n",
              "      <th>delinq_2yrs</th>\n",
              "      <th>public_records</th>\n",
              "      <th>revolving_balance</th>\n",
              "      <th>total_acc</th>\n",
              "      <th>interest_receive</th>\n",
              "      <th>last_week_pay</th>\n",
              "      <th>total_current_balance</th>\n",
              "      <th>total_revolving_limit</th>\n",
              "      <th>default</th>\n",
              "    </tr>\n",
              "  </thead>\n",
              "  <tbody>\n",
              "    <tr>\n",
              "      <th>count</th>\n",
              "      <td>9.317400e+04</td>\n",
              "      <td>93174.000000</td>\n",
              "      <td>93174.000000</td>\n",
              "      <td>9.317400e+04</td>\n",
              "      <td>93174.000000</td>\n",
              "      <td>93174.000000</td>\n",
              "      <td>93174.000000</td>\n",
              "      <td>9.317400e+04</td>\n",
              "      <td>93174.000000</td>\n",
              "      <td>93174.000000</td>\n",
              "      <td>93174.000000</td>\n",
              "      <td>9.317400e+04</td>\n",
              "      <td>9.317400e+04</td>\n",
              "      <td>93174.000000</td>\n",
              "    </tr>\n",
              "    <tr>\n",
              "      <th>mean</th>\n",
              "      <td>3.505021e+07</td>\n",
              "      <td>14733.861378</td>\n",
              "      <td>13.233433</td>\n",
              "      <td>7.502826e+04</td>\n",
              "      <td>18.127623</td>\n",
              "      <td>0.316994</td>\n",
              "      <td>0.196121</td>\n",
              "      <td>1.685447e+04</td>\n",
              "      <td>25.248905</td>\n",
              "      <td>1747.263530</td>\n",
              "      <td>58.154882</td>\n",
              "      <td>1.392529e+05</td>\n",
              "      <td>3.208590e+04</td>\n",
              "      <td>0.237502</td>\n",
              "    </tr>\n",
              "    <tr>\n",
              "      <th>std</th>\n",
              "      <td>2.414926e+07</td>\n",
              "      <td>8428.184858</td>\n",
              "      <td>4.368728</td>\n",
              "      <td>6.945441e+04</td>\n",
              "      <td>8.563084</td>\n",
              "      <td>0.880850</td>\n",
              "      <td>0.581182</td>\n",
              "      <td>2.368907e+04</td>\n",
              "      <td>11.854934</td>\n",
              "      <td>2088.236141</td>\n",
              "      <td>43.866507</td>\n",
              "      <td>1.513077e+05</td>\n",
              "      <td>4.514904e+04</td>\n",
              "      <td>0.425555</td>\n",
              "    </tr>\n",
              "    <tr>\n",
              "      <th>min</th>\n",
              "      <td>7.073500e+04</td>\n",
              "      <td>500.000000</td>\n",
              "      <td>5.320000</td>\n",
              "      <td>1.200000e+03</td>\n",
              "      <td>0.000000</td>\n",
              "      <td>0.000000</td>\n",
              "      <td>0.000000</td>\n",
              "      <td>0.000000e+00</td>\n",
              "      <td>1.000000</td>\n",
              "      <td>0.000000</td>\n",
              "      <td>0.000000</td>\n",
              "      <td>0.000000e+00</td>\n",
              "      <td>0.000000e+00</td>\n",
              "      <td>0.000000</td>\n",
              "    </tr>\n",
              "    <tr>\n",
              "      <th>25%</th>\n",
              "      <td>1.085983e+07</td>\n",
              "      <td>8000.000000</td>\n",
              "      <td>9.990000</td>\n",
              "      <td>4.500000e+04</td>\n",
              "      <td>11.930000</td>\n",
              "      <td>0.000000</td>\n",
              "      <td>0.000000</td>\n",
              "      <td>6.433000e+03</td>\n",
              "      <td>17.000000</td>\n",
              "      <td>439.880000</td>\n",
              "      <td>22.000000</td>\n",
              "      <td>3.195300e+04</td>\n",
              "      <td>1.470000e+04</td>\n",
              "      <td>0.000000</td>\n",
              "    </tr>\n",
              "    <tr>\n",
              "      <th>50%</th>\n",
              "      <td>3.710751e+07</td>\n",
              "      <td>13000.000000</td>\n",
              "      <td>12.990000</td>\n",
              "      <td>6.400000e+04</td>\n",
              "      <td>17.640000</td>\n",
              "      <td>0.000000</td>\n",
              "      <td>0.000000</td>\n",
              "      <td>1.185600e+04</td>\n",
              "      <td>24.000000</td>\n",
              "      <td>1070.755000</td>\n",
              "      <td>48.000000</td>\n",
              "      <td>9.843500e+04</td>\n",
              "      <td>2.570000e+04</td>\n",
              "      <td>0.000000</td>\n",
              "    </tr>\n",
              "    <tr>\n",
              "      <th>75%</th>\n",
              "      <td>5.859895e+07</td>\n",
              "      <td>20000.000000</td>\n",
              "      <td>16.200000</td>\n",
              "      <td>9.000000e+04</td>\n",
              "      <td>23.890000</td>\n",
              "      <td>0.000000</td>\n",
              "      <td>0.000000</td>\n",
              "      <td>2.074500e+04</td>\n",
              "      <td>32.000000</td>\n",
              "      <td>2219.612500</td>\n",
              "      <td>83.000000</td>\n",
              "      <td>1.949948e+05</td>\n",
              "      <td>3.787500e+04</td>\n",
              "      <td>0.000000</td>\n",
              "    </tr>\n",
              "    <tr>\n",
              "      <th>max</th>\n",
              "      <td>7.351975e+07</td>\n",
              "      <td>35000.000000</td>\n",
              "      <td>28.990000</td>\n",
              "      <td>9.500000e+06</td>\n",
              "      <td>672.520000</td>\n",
              "      <td>22.000000</td>\n",
              "      <td>49.000000</td>\n",
              "      <td>2.560703e+06</td>\n",
              "      <td>119.000000</td>\n",
              "      <td>23172.310000</td>\n",
              "      <td>291.000000</td>\n",
              "      <td>8.000078e+06</td>\n",
              "      <td>9.999999e+06</td>\n",
              "      <td>1.000000</td>\n",
              "    </tr>\n",
              "  </tbody>\n",
              "</table>\n",
              "</div>"
            ],
            "text/plain": [
              "                 ID     loan_amnt  interest_rate  annual_income  \\\n",
              "count  9.317400e+04  93174.000000   93174.000000   9.317400e+04   \n",
              "mean   3.505021e+07  14733.861378      13.233433   7.502826e+04   \n",
              "std    2.414926e+07   8428.184858       4.368728   6.945441e+04   \n",
              "min    7.073500e+04    500.000000       5.320000   1.200000e+03   \n",
              "25%    1.085983e+07   8000.000000       9.990000   4.500000e+04   \n",
              "50%    3.710751e+07  13000.000000      12.990000   6.400000e+04   \n",
              "75%    5.859895e+07  20000.000000      16.200000   9.000000e+04   \n",
              "max    7.351975e+07  35000.000000      28.990000   9.500000e+06   \n",
              "\n",
              "       debt_to_income   delinq_2yrs  public_records  revolving_balance  \\\n",
              "count    93174.000000  93174.000000    93174.000000       9.317400e+04   \n",
              "mean        18.127623      0.316994        0.196121       1.685447e+04   \n",
              "std          8.563084      0.880850        0.581182       2.368907e+04   \n",
              "min          0.000000      0.000000        0.000000       0.000000e+00   \n",
              "25%         11.930000      0.000000        0.000000       6.433000e+03   \n",
              "50%         17.640000      0.000000        0.000000       1.185600e+04   \n",
              "75%         23.890000      0.000000        0.000000       2.074500e+04   \n",
              "max        672.520000     22.000000       49.000000       2.560703e+06   \n",
              "\n",
              "          total_acc  interest_receive  last_week_pay  total_current_balance  \\\n",
              "count  93174.000000      93174.000000   93174.000000           9.317400e+04   \n",
              "mean      25.248905       1747.263530      58.154882           1.392529e+05   \n",
              "std       11.854934       2088.236141      43.866507           1.513077e+05   \n",
              "min        1.000000          0.000000       0.000000           0.000000e+00   \n",
              "25%       17.000000        439.880000      22.000000           3.195300e+04   \n",
              "50%       24.000000       1070.755000      48.000000           9.843500e+04   \n",
              "75%       32.000000       2219.612500      83.000000           1.949948e+05   \n",
              "max      119.000000      23172.310000     291.000000           8.000078e+06   \n",
              "\n",
              "       total_revolving_limit       default  \n",
              "count           9.317400e+04  93174.000000  \n",
              "mean            3.208590e+04      0.237502  \n",
              "std             4.514904e+04      0.425555  \n",
              "min             0.000000e+00      0.000000  \n",
              "25%             1.470000e+04      0.000000  \n",
              "50%             2.570000e+04      0.000000  \n",
              "75%             3.787500e+04      0.000000  \n",
              "max             9.999999e+06      1.000000  "
            ]
          },
          "metadata": {
            "tags": []
          },
          "execution_count": 27
        }
      ]
    },
    {
      "cell_type": "code",
      "metadata": {
        "id": "4fuHS4zYHl46"
      },
      "source": [
        "# yes scaling is required as some data is in signle, double and four digits\n",
        "# The independent attributes have different units and scales of measurement\n",
        "# It is always a good practise to scale all the dimesions using Z-score or someother method to address the problem of different units"
      ],
      "execution_count": null,
      "outputs": []
    },
    {
      "cell_type": "code",
      "metadata": {
        "id": "v3jV4QBMHl46"
      },
      "source": [
        ""
      ],
      "execution_count": null,
      "outputs": []
    },
    {
      "cell_type": "code",
      "metadata": {
        "id": "O4ytzHsgHl47"
      },
      "source": [
        ""
      ],
      "execution_count": null,
      "outputs": []
    },
    {
      "cell_type": "code",
      "metadata": {
        "id": "TW86eqFJHl47"
      },
      "source": [
        "# Encode the data (having string values) for Modelling\n",
        "# unique values for categorical variables (datatype=object)\n",
        "# Creating all OBJECT datatype to int as LR and LDA does not accept object data type."
      ],
      "execution_count": null,
      "outputs": []
    },
    {
      "cell_type": "code",
      "metadata": {
        "id": "I4uVv3XlHl47",
        "outputId": "ac649db6-9412-4efb-8540-e3ff2edc4b43"
      },
      "source": [
        "# unique values for categorical variables (datatype=object)\n",
        "\n",
        "for i in df1.columns:\n",
        "    if df1[i].dtype == 'object':\n",
        "        print('\\n')\n",
        "        print('feature:',i)\n",
        "        print(pd.Categorical(df1[i].unique()))\n",
        "        print(pd.Categorical(df1[i].unique()).codes)\n",
        "        df1[i] = pd.Categorical(df1[i]).codes  "
      ],
      "execution_count": null,
      "outputs": [
        {
          "output_type": "stream",
          "text": [
            "\n",
            "\n",
            "feature: loan_term\n",
            "[3 years, 5 years]\n",
            "Categories (2, object): [3 years, 5 years]\n",
            "[0 1]\n",
            "\n",
            "\n",
            "feature: loan_grade\n",
            "[B, C, A, E, D, F, G]\n",
            "Categories (7, object): [A, B, C, D, E, F, G]\n",
            "[1 2 0 4 3 5 6]\n",
            "\n",
            "\n",
            "feature: loan_subgrade\n",
            "[B2, C1, A4, C4, A2, ..., F1, G1, G5, G2, G4]\n",
            "Length: 35\n",
            "Categories (35, object): [A1, A2, A3, A4, ..., G2, G3, G4, G5]\n",
            "[ 6 10  3 13  1 11  8  4 21  9  2 14 24  5 19 18 22  7 12 17  0 29 20 23\n",
            " 27 15 32 26 16 28 25 30 34 31 33]\n",
            "\n",
            "\n",
            "feature: job_experience\n",
            "[<5 Years, 10+ years, 6-10 years]\n",
            "Categories (3, object): [10+ years, 6-10 years, <5 Years]\n",
            "[2 0 1]\n",
            "\n",
            "\n",
            "feature: home_ownership\n",
            "[OWN, MORTGAGE, RENT, NONE, OTHER]\n",
            "Categories (5, object): [MORTGAGE, NONE, OTHER, OWN, RENT]\n",
            "[3 0 4 1 2]\n",
            "\n",
            "\n",
            "feature: income_verification_status\n",
            "[Not Verified, Verified, Source Verified]\n",
            "Categories (3, object): [Not Verified, Source Verified, Verified]\n",
            "[0 2 1]\n",
            "\n",
            "\n",
            "feature: loan_purpose\n",
            "[debt_consolidation, credit_card, other, home_improvement]\n",
            "Categories (4, object): [credit_card, debt_consolidation, home_improvement, other]\n",
            "[1 0 3 2]\n",
            "\n",
            "\n",
            "feature: state_code\n",
            "[NC, SC, TX, MO, IL, ..., AR, NH, ME, ND, ID]\n",
            "Length: 50\n",
            "Categories (50, object): [AK, AL, AR, AZ, ..., WA, WI, WV, WY]\n",
            "[26 39 42 23 13 33  6  4 44 10 36 32 17 38 14  3 35 22 49 11 21  5 24 30\n",
            " 46 43 31 16 18  9 37 47 34  8  7 48 19 41 28  1 15 40 45 25  0  2 29 20\n",
            " 27 12]\n",
            "\n",
            "\n",
            "feature: application_type\n",
            "[INDIVIDUAL, JOINT]\n",
            "Categories (2, object): [INDIVIDUAL, JOINT]\n",
            "[0 1]\n"
          ],
          "name": "stdout"
        }
      ]
    },
    {
      "cell_type": "code",
      "metadata": {
        "id": "800A3tCbHl47",
        "outputId": "a6b741af-9894-410e-e7c9-a1e914191b36"
      },
      "source": [
        "df1.head(10)"
      ],
      "execution_count": null,
      "outputs": [
        {
          "output_type": "execute_result",
          "data": {
            "text/html": [
              "<div>\n",
              "<style scoped>\n",
              "    .dataframe tbody tr th:only-of-type {\n",
              "        vertical-align: middle;\n",
              "    }\n",
              "\n",
              "    .dataframe tbody tr th {\n",
              "        vertical-align: top;\n",
              "    }\n",
              "\n",
              "    .dataframe thead th {\n",
              "        text-align: right;\n",
              "    }\n",
              "</style>\n",
              "<table border=\"1\" class=\"dataframe\">\n",
              "  <thead>\n",
              "    <tr style=\"text-align: right;\">\n",
              "      <th></th>\n",
              "      <th>ID</th>\n",
              "      <th>loan_amnt</th>\n",
              "      <th>loan_term</th>\n",
              "      <th>interest_rate</th>\n",
              "      <th>loan_grade</th>\n",
              "      <th>loan_subgrade</th>\n",
              "      <th>job_experience</th>\n",
              "      <th>home_ownership</th>\n",
              "      <th>annual_income</th>\n",
              "      <th>income_verification_status</th>\n",
              "      <th>...</th>\n",
              "      <th>delinq_2yrs</th>\n",
              "      <th>public_records</th>\n",
              "      <th>revolving_balance</th>\n",
              "      <th>total_acc</th>\n",
              "      <th>interest_receive</th>\n",
              "      <th>application_type</th>\n",
              "      <th>last_week_pay</th>\n",
              "      <th>total_current_balance</th>\n",
              "      <th>total_revolving_limit</th>\n",
              "      <th>default</th>\n",
              "    </tr>\n",
              "  </thead>\n",
              "  <tbody>\n",
              "    <tr>\n",
              "      <th>0</th>\n",
              "      <td>72199369</td>\n",
              "      <td>9000</td>\n",
              "      <td>0</td>\n",
              "      <td>9.17</td>\n",
              "      <td>1</td>\n",
              "      <td>6</td>\n",
              "      <td>2</td>\n",
              "      <td>3</td>\n",
              "      <td>85000.0</td>\n",
              "      <td>0</td>\n",
              "      <td>...</td>\n",
              "      <td>0.0</td>\n",
              "      <td>0.0</td>\n",
              "      <td>39519</td>\n",
              "      <td>20.0</td>\n",
              "      <td>59.60</td>\n",
              "      <td>0</td>\n",
              "      <td>4.0</td>\n",
              "      <td>95493.0</td>\n",
              "      <td>84100.0</td>\n",
              "      <td>0</td>\n",
              "    </tr>\n",
              "    <tr>\n",
              "      <th>1</th>\n",
              "      <td>14257956</td>\n",
              "      <td>18000</td>\n",
              "      <td>0</td>\n",
              "      <td>13.65</td>\n",
              "      <td>2</td>\n",
              "      <td>10</td>\n",
              "      <td>2</td>\n",
              "      <td>3</td>\n",
              "      <td>64000.0</td>\n",
              "      <td>2</td>\n",
              "      <td>...</td>\n",
              "      <td>0.0</td>\n",
              "      <td>1.0</td>\n",
              "      <td>9783</td>\n",
              "      <td>24.0</td>\n",
              "      <td>3348.25</td>\n",
              "      <td>0</td>\n",
              "      <td>95.0</td>\n",
              "      <td>185433.0</td>\n",
              "      <td>13500.0</td>\n",
              "      <td>0</td>\n",
              "    </tr>\n",
              "    <tr>\n",
              "      <th>2</th>\n",
              "      <td>66216451</td>\n",
              "      <td>16000</td>\n",
              "      <td>0</td>\n",
              "      <td>7.26</td>\n",
              "      <td>0</td>\n",
              "      <td>3</td>\n",
              "      <td>2</td>\n",
              "      <td>0</td>\n",
              "      <td>150000.0</td>\n",
              "      <td>1</td>\n",
              "      <td>...</td>\n",
              "      <td>2.0</td>\n",
              "      <td>0.0</td>\n",
              "      <td>13641</td>\n",
              "      <td>27.0</td>\n",
              "      <td>276.69</td>\n",
              "      <td>0</td>\n",
              "      <td>13.0</td>\n",
              "      <td>180519.0</td>\n",
              "      <td>19300.0</td>\n",
              "      <td>0</td>\n",
              "    </tr>\n",
              "    <tr>\n",
              "      <th>3</th>\n",
              "      <td>46974169</td>\n",
              "      <td>25000</td>\n",
              "      <td>0</td>\n",
              "      <td>13.99</td>\n",
              "      <td>2</td>\n",
              "      <td>13</td>\n",
              "      <td>2</td>\n",
              "      <td>0</td>\n",
              "      <td>59800.0</td>\n",
              "      <td>2</td>\n",
              "      <td>...</td>\n",
              "      <td>0.0</td>\n",
              "      <td>0.0</td>\n",
              "      <td>35020</td>\n",
              "      <td>35.0</td>\n",
              "      <td>1106.72</td>\n",
              "      <td>0</td>\n",
              "      <td>17.0</td>\n",
              "      <td>183208.0</td>\n",
              "      <td>55400.0</td>\n",
              "      <td>0</td>\n",
              "    </tr>\n",
              "    <tr>\n",
              "      <th>4</th>\n",
              "      <td>46725961</td>\n",
              "      <td>17000</td>\n",
              "      <td>0</td>\n",
              "      <td>6.39</td>\n",
              "      <td>0</td>\n",
              "      <td>1</td>\n",
              "      <td>0</td>\n",
              "      <td>0</td>\n",
              "      <td>72000.0</td>\n",
              "      <td>1</td>\n",
              "      <td>...</td>\n",
              "      <td>0.0</td>\n",
              "      <td>0.0</td>\n",
              "      <td>23990</td>\n",
              "      <td>26.0</td>\n",
              "      <td>725.29</td>\n",
              "      <td>0</td>\n",
              "      <td>39.0</td>\n",
              "      <td>23990.0</td>\n",
              "      <td>81300.0</td>\n",
              "      <td>0</td>\n",
              "    </tr>\n",
              "    <tr>\n",
              "      <th>5</th>\n",
              "      <td>56469197</td>\n",
              "      <td>10000</td>\n",
              "      <td>0</td>\n",
              "      <td>12.69</td>\n",
              "      <td>2</td>\n",
              "      <td>11</td>\n",
              "      <td>2</td>\n",
              "      <td>3</td>\n",
              "      <td>56000.0</td>\n",
              "      <td>0</td>\n",
              "      <td>...</td>\n",
              "      <td>0.0</td>\n",
              "      <td>1.0</td>\n",
              "      <td>6643</td>\n",
              "      <td>48.0</td>\n",
              "      <td>590.50</td>\n",
              "      <td>0</td>\n",
              "      <td>26.0</td>\n",
              "      <td>24054.0</td>\n",
              "      <td>25167.0</td>\n",
              "      <td>0</td>\n",
              "    </tr>\n",
              "    <tr>\n",
              "      <th>6</th>\n",
              "      <td>3409695</td>\n",
              "      <td>15000</td>\n",
              "      <td>0</td>\n",
              "      <td>11.14</td>\n",
              "      <td>1</td>\n",
              "      <td>6</td>\n",
              "      <td>0</td>\n",
              "      <td>4</td>\n",
              "      <td>100000.0</td>\n",
              "      <td>0</td>\n",
              "      <td>...</td>\n",
              "      <td>0.0</td>\n",
              "      <td>1.0</td>\n",
              "      <td>14088</td>\n",
              "      <td>14.0</td>\n",
              "      <td>1020.57</td>\n",
              "      <td>0</td>\n",
              "      <td>35.0</td>\n",
              "      <td>14519.0</td>\n",
              "      <td>15200.0</td>\n",
              "      <td>1</td>\n",
              "    </tr>\n",
              "    <tr>\n",
              "      <th>7</th>\n",
              "      <td>26276447</td>\n",
              "      <td>10000</td>\n",
              "      <td>0</td>\n",
              "      <td>6.49</td>\n",
              "      <td>0</td>\n",
              "      <td>1</td>\n",
              "      <td>0</td>\n",
              "      <td>0</td>\n",
              "      <td>109000.0</td>\n",
              "      <td>0</td>\n",
              "      <td>...</td>\n",
              "      <td>1.0</td>\n",
              "      <td>0.0</td>\n",
              "      <td>12337</td>\n",
              "      <td>26.0</td>\n",
              "      <td>728.68</td>\n",
              "      <td>0</td>\n",
              "      <td>74.0</td>\n",
              "      <td>210751.0</td>\n",
              "      <td>18600.0</td>\n",
              "      <td>0</td>\n",
              "    </tr>\n",
              "    <tr>\n",
              "      <th>8</th>\n",
              "      <td>48393405</td>\n",
              "      <td>12000</td>\n",
              "      <td>0</td>\n",
              "      <td>10.99</td>\n",
              "      <td>1</td>\n",
              "      <td>8</td>\n",
              "      <td>2</td>\n",
              "      <td>4</td>\n",
              "      <td>45000.0</td>\n",
              "      <td>2</td>\n",
              "      <td>...</td>\n",
              "      <td>0.0</td>\n",
              "      <td>0.0</td>\n",
              "      <td>10550</td>\n",
              "      <td>12.0</td>\n",
              "      <td>879.15</td>\n",
              "      <td>0</td>\n",
              "      <td>39.0</td>\n",
              "      <td>10550.0</td>\n",
              "      <td>22000.0</td>\n",
              "      <td>0</td>\n",
              "    </tr>\n",
              "    <tr>\n",
              "      <th>9</th>\n",
              "      <td>15140624</td>\n",
              "      <td>7000</td>\n",
              "      <td>0</td>\n",
              "      <td>12.49</td>\n",
              "      <td>1</td>\n",
              "      <td>8</td>\n",
              "      <td>2</td>\n",
              "      <td>0</td>\n",
              "      <td>53000.0</td>\n",
              "      <td>0</td>\n",
              "      <td>...</td>\n",
              "      <td>0.0</td>\n",
              "      <td>0.0</td>\n",
              "      <td>12108</td>\n",
              "      <td>20.0</td>\n",
              "      <td>1186.80</td>\n",
              "      <td>0</td>\n",
              "      <td>96.0</td>\n",
              "      <td>145801.0</td>\n",
              "      <td>16800.0</td>\n",
              "      <td>0</td>\n",
              "    </tr>\n",
              "  </tbody>\n",
              "</table>\n",
              "<p>10 rows × 23 columns</p>\n",
              "</div>"
            ],
            "text/plain": [
              "         ID  loan_amnt  loan_term  interest_rate  loan_grade  loan_subgrade  \\\n",
              "0  72199369       9000          0           9.17           1              6   \n",
              "1  14257956      18000          0          13.65           2             10   \n",
              "2  66216451      16000          0           7.26           0              3   \n",
              "3  46974169      25000          0          13.99           2             13   \n",
              "4  46725961      17000          0           6.39           0              1   \n",
              "5  56469197      10000          0          12.69           2             11   \n",
              "6   3409695      15000          0          11.14           1              6   \n",
              "7  26276447      10000          0           6.49           0              1   \n",
              "8  48393405      12000          0          10.99           1              8   \n",
              "9  15140624       7000          0          12.49           1              8   \n",
              "\n",
              "   job_experience  home_ownership  annual_income  income_verification_status  \\\n",
              "0               2               3        85000.0                           0   \n",
              "1               2               3        64000.0                           2   \n",
              "2               2               0       150000.0                           1   \n",
              "3               2               0        59800.0                           2   \n",
              "4               0               0        72000.0                           1   \n",
              "5               2               3        56000.0                           0   \n",
              "6               0               4       100000.0                           0   \n",
              "7               0               0       109000.0                           0   \n",
              "8               2               4        45000.0                           2   \n",
              "9               2               0        53000.0                           0   \n",
              "\n",
              "   ...  delinq_2yrs  public_records  revolving_balance  total_acc  \\\n",
              "0  ...          0.0             0.0              39519       20.0   \n",
              "1  ...          0.0             1.0               9783       24.0   \n",
              "2  ...          2.0             0.0              13641       27.0   \n",
              "3  ...          0.0             0.0              35020       35.0   \n",
              "4  ...          0.0             0.0              23990       26.0   \n",
              "5  ...          0.0             1.0               6643       48.0   \n",
              "6  ...          0.0             1.0              14088       14.0   \n",
              "7  ...          1.0             0.0              12337       26.0   \n",
              "8  ...          0.0             0.0              10550       12.0   \n",
              "9  ...          0.0             0.0              12108       20.0   \n",
              "\n",
              "   interest_receive  application_type  last_week_pay  total_current_balance  \\\n",
              "0             59.60                 0            4.0                95493.0   \n",
              "1           3348.25                 0           95.0               185433.0   \n",
              "2            276.69                 0           13.0               180519.0   \n",
              "3           1106.72                 0           17.0               183208.0   \n",
              "4            725.29                 0           39.0                23990.0   \n",
              "5            590.50                 0           26.0                24054.0   \n",
              "6           1020.57                 0           35.0                14519.0   \n",
              "7            728.68                 0           74.0               210751.0   \n",
              "8            879.15                 0           39.0                10550.0   \n",
              "9           1186.80                 0           96.0               145801.0   \n",
              "\n",
              "   total_revolving_limit  default  \n",
              "0                84100.0        0  \n",
              "1                13500.0        0  \n",
              "2                19300.0        0  \n",
              "3                55400.0        0  \n",
              "4                81300.0        0  \n",
              "5                25167.0        0  \n",
              "6                15200.0        1  \n",
              "7                18600.0        0  \n",
              "8                22000.0        0  \n",
              "9                16800.0        0  \n",
              "\n",
              "[10 rows x 23 columns]"
            ]
          },
          "metadata": {
            "tags": []
          },
          "execution_count": 31
        }
      ]
    },
    {
      "cell_type": "code",
      "metadata": {
        "id": "3CY-PNTPHl47",
        "outputId": "006d76a8-70e7-4bed-ea79-aa1545de1e35"
      },
      "source": [
        "# Converting categorical to dummy variables\n",
        "\n",
        "df1 = pd.get_dummies(df1, columns=['loan_term','loan_grade','loan_subgrade','job_experience', 'home_ownership','income_verification_status','loan_purpose','state_code','application_type'],drop_first=True)\n",
        "\n",
        "df1.info()"
      ],
      "execution_count": null,
      "outputs": [
        {
          "output_type": "stream",
          "text": [
            "<class 'pandas.core.frame.DataFrame'>\n",
            "RangeIndex: 93174 entries, 0 to 93173\n",
            "Columns: 116 entries, ID to application_type_1\n",
            "dtypes: float64(10), int64(4), uint8(102)\n",
            "memory usage: 19.0 MB\n"
          ],
          "name": "stdout"
        }
      ]
    },
    {
      "cell_type": "code",
      "metadata": {
        "id": "spNh53LQHl48",
        "outputId": "176ddff4-bed3-4263-edc6-a90b61b99f4b"
      },
      "source": [
        "#summary\n",
        "\n",
        "df1.describe().transpose()"
      ],
      "execution_count": null,
      "outputs": [
        {
          "output_type": "execute_result",
          "data": {
            "text/html": [
              "<div>\n",
              "<style scoped>\n",
              "    .dataframe tbody tr th:only-of-type {\n",
              "        vertical-align: middle;\n",
              "    }\n",
              "\n",
              "    .dataframe tbody tr th {\n",
              "        vertical-align: top;\n",
              "    }\n",
              "\n",
              "    .dataframe thead th {\n",
              "        text-align: right;\n",
              "    }\n",
              "</style>\n",
              "<table border=\"1\" class=\"dataframe\">\n",
              "  <thead>\n",
              "    <tr style=\"text-align: right;\">\n",
              "      <th></th>\n",
              "      <th>count</th>\n",
              "      <th>mean</th>\n",
              "      <th>std</th>\n",
              "      <th>min</th>\n",
              "      <th>25%</th>\n",
              "      <th>50%</th>\n",
              "      <th>75%</th>\n",
              "      <th>max</th>\n",
              "    </tr>\n",
              "  </thead>\n",
              "  <tbody>\n",
              "    <tr>\n",
              "      <th>ID</th>\n",
              "      <td>93174.0</td>\n",
              "      <td>3.505021e+07</td>\n",
              "      <td>2.414926e+07</td>\n",
              "      <td>70735.00</td>\n",
              "      <td>10859832.50</td>\n",
              "      <td>37107507.00</td>\n",
              "      <td>58598949.50</td>\n",
              "      <td>73519746.00</td>\n",
              "    </tr>\n",
              "    <tr>\n",
              "      <th>loan_amnt</th>\n",
              "      <td>93174.0</td>\n",
              "      <td>1.473386e+04</td>\n",
              "      <td>8.428185e+03</td>\n",
              "      <td>500.00</td>\n",
              "      <td>8000.00</td>\n",
              "      <td>13000.00</td>\n",
              "      <td>20000.00</td>\n",
              "      <td>35000.00</td>\n",
              "    </tr>\n",
              "    <tr>\n",
              "      <th>interest_rate</th>\n",
              "      <td>93174.0</td>\n",
              "      <td>1.323343e+01</td>\n",
              "      <td>4.368728e+00</td>\n",
              "      <td>5.32</td>\n",
              "      <td>9.99</td>\n",
              "      <td>12.99</td>\n",
              "      <td>16.20</td>\n",
              "      <td>28.99</td>\n",
              "    </tr>\n",
              "    <tr>\n",
              "      <th>annual_income</th>\n",
              "      <td>93174.0</td>\n",
              "      <td>7.502826e+04</td>\n",
              "      <td>6.945441e+04</td>\n",
              "      <td>1200.00</td>\n",
              "      <td>45000.00</td>\n",
              "      <td>64000.00</td>\n",
              "      <td>90000.00</td>\n",
              "      <td>9500000.00</td>\n",
              "    </tr>\n",
              "    <tr>\n",
              "      <th>debt_to_income</th>\n",
              "      <td>93174.0</td>\n",
              "      <td>1.812762e+01</td>\n",
              "      <td>8.563084e+00</td>\n",
              "      <td>0.00</td>\n",
              "      <td>11.93</td>\n",
              "      <td>17.64</td>\n",
              "      <td>23.89</td>\n",
              "      <td>672.52</td>\n",
              "    </tr>\n",
              "    <tr>\n",
              "      <th>...</th>\n",
              "      <td>...</td>\n",
              "      <td>...</td>\n",
              "      <td>...</td>\n",
              "      <td>...</td>\n",
              "      <td>...</td>\n",
              "      <td>...</td>\n",
              "      <td>...</td>\n",
              "      <td>...</td>\n",
              "    </tr>\n",
              "    <tr>\n",
              "      <th>state_code_46</th>\n",
              "      <td>93174.0</td>\n",
              "      <td>2.187305e-02</td>\n",
              "      <td>1.462698e-01</td>\n",
              "      <td>0.00</td>\n",
              "      <td>0.00</td>\n",
              "      <td>0.00</td>\n",
              "      <td>0.00</td>\n",
              "      <td>1.00</td>\n",
              "    </tr>\n",
              "    <tr>\n",
              "      <th>state_code_47</th>\n",
              "      <td>93174.0</td>\n",
              "      <td>1.294353e-02</td>\n",
              "      <td>1.130315e-01</td>\n",
              "      <td>0.00</td>\n",
              "      <td>0.00</td>\n",
              "      <td>0.00</td>\n",
              "      <td>0.00</td>\n",
              "      <td>1.00</td>\n",
              "    </tr>\n",
              "    <tr>\n",
              "      <th>state_code_48</th>\n",
              "      <td>93174.0</td>\n",
              "      <td>4.937000e-03</td>\n",
              "      <td>7.009050e-02</td>\n",
              "      <td>0.00</td>\n",
              "      <td>0.00</td>\n",
              "      <td>0.00</td>\n",
              "      <td>0.00</td>\n",
              "      <td>1.00</td>\n",
              "    </tr>\n",
              "    <tr>\n",
              "      <th>state_code_49</th>\n",
              "      <td>93174.0</td>\n",
              "      <td>2.275313e-03</td>\n",
              "      <td>4.764620e-02</td>\n",
              "      <td>0.00</td>\n",
              "      <td>0.00</td>\n",
              "      <td>0.00</td>\n",
              "      <td>0.00</td>\n",
              "      <td>1.00</td>\n",
              "    </tr>\n",
              "    <tr>\n",
              "      <th>application_type_1</th>\n",
              "      <td>93174.0</td>\n",
              "      <td>6.010260e-04</td>\n",
              "      <td>2.450860e-02</td>\n",
              "      <td>0.00</td>\n",
              "      <td>0.00</td>\n",
              "      <td>0.00</td>\n",
              "      <td>0.00</td>\n",
              "      <td>1.00</td>\n",
              "    </tr>\n",
              "  </tbody>\n",
              "</table>\n",
              "<p>116 rows × 8 columns</p>\n",
              "</div>"
            ],
            "text/plain": [
              "                      count          mean           std       min  \\\n",
              "ID                  93174.0  3.505021e+07  2.414926e+07  70735.00   \n",
              "loan_amnt           93174.0  1.473386e+04  8.428185e+03    500.00   \n",
              "interest_rate       93174.0  1.323343e+01  4.368728e+00      5.32   \n",
              "annual_income       93174.0  7.502826e+04  6.945441e+04   1200.00   \n",
              "debt_to_income      93174.0  1.812762e+01  8.563084e+00      0.00   \n",
              "...                     ...           ...           ...       ...   \n",
              "state_code_46       93174.0  2.187305e-02  1.462698e-01      0.00   \n",
              "state_code_47       93174.0  1.294353e-02  1.130315e-01      0.00   \n",
              "state_code_48       93174.0  4.937000e-03  7.009050e-02      0.00   \n",
              "state_code_49       93174.0  2.275313e-03  4.764620e-02      0.00   \n",
              "application_type_1  93174.0  6.010260e-04  2.450860e-02      0.00   \n",
              "\n",
              "                            25%          50%          75%          max  \n",
              "ID                  10859832.50  37107507.00  58598949.50  73519746.00  \n",
              "loan_amnt               8000.00     13000.00     20000.00     35000.00  \n",
              "interest_rate              9.99        12.99        16.20        28.99  \n",
              "annual_income          45000.00     64000.00     90000.00   9500000.00  \n",
              "debt_to_income            11.93        17.64        23.89       672.52  \n",
              "...                         ...          ...          ...          ...  \n",
              "state_code_46              0.00         0.00         0.00         1.00  \n",
              "state_code_47              0.00         0.00         0.00         1.00  \n",
              "state_code_48              0.00         0.00         0.00         1.00  \n",
              "state_code_49              0.00         0.00         0.00         1.00  \n",
              "application_type_1         0.00         0.00         0.00         1.00  \n",
              "\n",
              "[116 rows x 8 columns]"
            ]
          },
          "metadata": {
            "tags": []
          },
          "execution_count": 33
        }
      ]
    },
    {
      "cell_type": "code",
      "metadata": {
        "id": "u9aJLniiHl48",
        "outputId": "7450cf7c-ace1-47c9-eab2-100173f2f87d"
      },
      "source": [
        "# construct box plot for continuous variables\n",
        "\n",
        "cont = df1.dtypes[(df1.dtypes!='uint8') & (df1.dtypes!='bool')].index\n",
        "\n",
        "plt.figure(figsize=(10,10))\n",
        "df1[cont].boxplot(vert=0)\n",
        "plt.title('With Outliers',fontsize=12)\n",
        "plt.show()"
      ],
      "execution_count": null,
      "outputs": [
        {
          "output_type": "display_data",
          "data": {
            "image/png": "[encoded data removed]",
            "text/plain": [
              "<Figure size 720x720 with 1 Axes>"
            ]
          },
          "metadata": {
            "tags": [],
            "needs_background": "light"
          }
        }
      ]
    },
    {
      "cell_type": "code",
      "metadata": {
        "id": "6dGPErUJHl48"
      },
      "source": [
        "#Outlier treatment :  \n",
        "#define a custom function- If for a particular column the max value is greater than that assign max value,same logic for min value\n",
        "#These outliers value needs to be teated and there are several ways of treating them:\n",
        "#1. Drop the outlier value\n",
        "#2. Replace the outlier value using the IQR"
      ],
      "execution_count": null,
      "outputs": []
    },
    {
      "cell_type": "code",
      "metadata": {
        "id": "vPQdVlxnHl48"
      },
      "source": [
        "#Outlier Treatment\n",
        "def remove_outlier(col):\n",
        "    sorted(col)\n",
        "    Q1,Q3=np.percentile(col,[25,75])\n",
        "    IQR=Q3-Q1\n",
        "    lower_range= Q1-(1.5 * IQR)\n",
        "    upper_range= Q3+(1.5 * IQR)\n",
        "    return lower_range, upper_range"
      ],
      "execution_count": null,
      "outputs": []
    },
    {
      "cell_type": "code",
      "metadata": {
        "id": "N00OdNTsHl49"
      },
      "source": [
        "#Outlier Treatment\n",
        "\n",
        "#for column in df1[cont].columns:\n",
        "#    lr,ur=remove_outlier(df1[column])\n",
        "#    df1[column]=np.where(df1[column]>ur,ur,df1[column])\n",
        "#    df1[column]=np.where(df1[column]<lr,lr,df1[column])"
      ],
      "execution_count": null,
      "outputs": []
    },
    {
      "cell_type": "code",
      "metadata": {
        "id": "bQ1Zc_RCHl49"
      },
      "source": [
        "lrApps,urApps=remove_outlier(df1['interest_rate'])\n",
        "df1['interest_rate']=np.where(df1['interest_rate']>urApps,urApps,df1['interest_rate'])\n",
        "df1['interest_rate']=np.where(df1['interest_rate']<lrApps,lrApps,df1['interest_rate'])\n",
        "\n",
        "lrApps,urApps=remove_outlier(df1['annual_income'])\n",
        "df1['annual_income']=np.where(df1['annual_income']>urApps,urApps,df1['annual_income'])\n",
        "df1['annual_income']=np.where(df1['annual_income']<lrApps,lrApps,df1['annual_income'])\n",
        "\n",
        "lrApps,urApps=remove_outlier(df1['debt_to_income'])\n",
        "df1['debt_to_income']=np.where(df1['debt_to_income']>urApps,urApps,df1['debt_to_income'])\n",
        "df1['debt_to_income']=np.where(df1['debt_to_income']<lrApps,lrApps,df1['debt_to_income'])\n",
        "\n",
        "lrApps,urApps=remove_outlier(df1['delinq_2yrs'])\n",
        "df1['delinq_2yrs']=np.where(df1['delinq_2yrs']>urApps,urApps,df1['delinq_2yrs'])\n",
        "df1['delinq_2yrs']=np.where(df1['delinq_2yrs']<lrApps,lrApps,df1['delinq_2yrs'])\n",
        "\n",
        "lrApps,urApps=remove_outlier(df1['public_records'])\n",
        "df1['public_records']=np.where(df1['public_records']>urApps,urApps,df1['public_records'])\n",
        "df1['public_records']=np.where(df1['public_records']<lrApps,lrApps,df1['public_records'])\n",
        "\n",
        "lrApps,urApps=remove_outlier(df1['revolving_balance'])\n",
        "df1['revolving_balance']=np.where(df1['revolving_balance']>urApps,urApps,df1['revolving_balance'])\n",
        "df1['revolving_balance']=np.where(df1['revolving_balance']<lrApps,lrApps,df1['revolving_balance'])\n",
        "\n",
        "lrApps,urApps=remove_outlier(df1['total_acc'])\n",
        "df1['total_acc']=np.where(df1['total_acc']>urApps,urApps,df1['total_acc'])\n",
        "df1['total_acc']=np.where(df1['total_acc']<lrApps,lrApps,df1['total_acc'])\n",
        "\n",
        "lrApps,urApps=remove_outlier(df1['interest_receive'])\n",
        "df1['interest_receive']=np.where(df1['interest_receive']>urApps,urApps,df1['interest_receive'])\n",
        "df1['interest_receive']=np.where(df1['interest_receive']<lrApps,lrApps,df1['interest_receive'])\n",
        "\n",
        "lrApps,urApps=remove_outlier(df1['last_week_pay'])\n",
        "df1['last_week_pay']=np.where(df1['last_week_pay']>urApps,urApps,df1['last_week_pay'])\n",
        "df1['last_week_pay']=np.where(df1['last_week_pay']<lrApps,lrApps,df1['last_week_pay'])\n",
        "\n",
        "lrApps,urApps=remove_outlier(df1['total_current_balance'])\n",
        "df1['total_current_balance']=np.where(df1['total_current_balance']>urApps,urApps,df1['total_current_balance'])\n",
        "df1['total_current_balance']=np.where(df1['total_current_balance']<lrApps,lrApps,df1['total_current_balance'])\n",
        "\n",
        "lrApps,urApps=remove_outlier(df1['total_revolving_limit'])\n",
        "df1['total_revolving_limit']=np.where(df1['total_revolving_limit']>urApps,urApps,df1['total_revolving_limit'])\n",
        "df1['total_revolving_limit']=np.where(df1['total_revolving_limit']<lrApps,lrApps,df1['total_revolving_limit'])\n",
        "\n"
      ],
      "execution_count": null,
      "outputs": []
    },
    {
      "cell_type": "code",
      "metadata": {
        "id": "0_eXRp1zHl49",
        "outputId": "73d147f8-8f60-4230-b943-2ac2208f9f8c"
      },
      "source": [
        "plt.figure(figsize=(10,10))\n",
        "df1[cont].boxplot(vert=0)\n",
        "plt.title('After Outlier Removal',fontsize=12)\n",
        "plt.show()"
      ],
      "execution_count": null,
      "outputs": [
        {
          "output_type": "display_data",
          "data": {
            "image/png": "[encoded data removed]",
            "text/plain": [
              "<Figure size 720x720 with 1 Axes>"
            ]
          },
          "metadata": {
            "tags": [],
            "needs_background": "light"
          }
        }
      ]
    },
    {
      "cell_type": "code",
      "metadata": {
        "id": "MlfUa0FUHl49",
        "outputId": "dd97312c-2400-4e5a-e86e-96c04978af25"
      },
      "source": [
        "# Proportion of 1s and 0s\n",
        "# Proportion of observations in Target - default\n",
        "\n",
        "df1['default'].value_counts()"
      ],
      "execution_count": null,
      "outputs": [
        {
          "output_type": "execute_result",
          "data": {
            "text/plain": [
              "0    71045\n",
              "1    22129\n",
              "Name: default, dtype: int64"
            ]
          },
          "metadata": {
            "tags": []
          },
          "execution_count": 40
        }
      ]
    },
    {
      "cell_type": "code",
      "metadata": {
        "id": "x5DUiryUHl4-"
      },
      "source": [
        "import statsmodels.api as sm  #stats summary\n",
        "import sklearn  #machinelearning\n",
        "from sklearn.linear_model import LinearRegression\n",
        "from sklearn import metrics\n",
        "from scipy.stats import zscore\n",
        "\n",
        "from sklearn.model_selection import train_test_split,GridSearchCV\n",
        "from sklearn.linear_model import LogisticRegression\n",
        "from sklearn import metrics\n",
        "from sklearn.metrics import roc_auc_score,roc_curve,classification_report,confusion_matrix,plot_confusion_matrix\n",
        "\n",
        "from sklearn.discriminant_analysis import LinearDiscriminantAnalysis\n",
        "from sklearn import metrics,model_selection\n",
        "from sklearn.preprocessing import scale"
      ],
      "execution_count": null,
      "outputs": []
    },
    {
      "cell_type": "code",
      "metadata": {
        "id": "A0n2owH8Hl4-"
      },
      "source": [
        "# Copy all the predictor variables into X dataframe\n",
        "X = df1.drop('default', axis=1)\n",
        "\n",
        "# Copy target into the y dataframe. \n",
        "y = df1['default']"
      ],
      "execution_count": null,
      "outputs": []
    },
    {
      "cell_type": "code",
      "metadata": {
        "id": "pDr1TmBUHl4-"
      },
      "source": [
        "X = scale(X)"
      ],
      "execution_count": null,
      "outputs": []
    },
    {
      "cell_type": "code",
      "metadata": {
        "id": "-AvxbricHl4-",
        "outputId": "152942f6-4086-4f43-e4ac-e77041f297d8"
      },
      "source": [
        "# Checking dimensions on the train and test data\n",
        "\n",
        "print('X: ',X.shape)\n",
        "print('y: ',y.shape)\n"
      ],
      "execution_count": null,
      "outputs": [
        {
          "output_type": "stream",
          "text": [
            "X:  (93174, 115)\n",
            "y:  (93174,)\n"
          ],
          "name": "stdout"
        }
      ]
    },
    {
      "cell_type": "code",
      "metadata": {
        "id": "YeBtow4FHl4_"
      },
      "source": [
        "from sklearn.model_selection import train_test_split\n",
        "X_train, X_test, y_train, y_test = train_test_split(X, y,random_state=1)"
      ],
      "execution_count": null,
      "outputs": []
    },
    {
      "cell_type": "code",
      "metadata": {
        "id": "Jy4dOMn5Hl4_",
        "outputId": "2e73c85c-b4a6-423a-cccb-8e29945144b3"
      },
      "source": [
        "# Checking dimensions on the train and test data\n",
        "\n",
        "print('X_train: ',X_train.shape)\n",
        "print('X_test: ',X_test.shape)\n",
        "print('y_train: ',y_train.shape)\n",
        "print('y_test: ',y_test.shape)"
      ],
      "execution_count": null,
      "outputs": [
        {
          "output_type": "stream",
          "text": [
            "X_train:  (69880, 115)\n",
            "X_test:  (23294, 115)\n",
            "y_train:  (69880,)\n",
            "y_test:  (23294,)\n"
          ],
          "name": "stdout"
        }
      ]
    },
    {
      "cell_type": "code",
      "metadata": {
        "id": "4sxyu98zHl4_"
      },
      "source": [
        "#model"
      ],
      "execution_count": null,
      "outputs": []
    },
    {
      "cell_type": "markdown",
      "metadata": {
        "id": "aplOwswWHl4_"
      },
      "source": [
        "# LDA (linear discriminant analysis)"
      ]
    },
    {
      "cell_type": "code",
      "metadata": {
        "id": "7Se5q47xHl4_",
        "outputId": "e76dbe19-3e52-4046-f8f8-5ebe4a9324d6"
      },
      "source": [
        "clf = LinearDiscriminantAnalysis()\n",
        "lda_model=clf.fit(X_train,y_train)\n",
        "lda_model"
      ],
      "execution_count": null,
      "outputs": [
        {
          "output_type": "execute_result",
          "data": {
            "text/plain": [
              "LinearDiscriminantAnalysis()"
            ]
          },
          "metadata": {
            "tags": []
          },
          "execution_count": 48
        }
      ]
    },
    {
      "cell_type": "code",
      "metadata": {
        "id": "YYxdrpHxHl5A"
      },
      "source": [
        "#Predict it\n",
        "lda_ytrain_predict = lda_model.predict(X_train)\n",
        "lda_ytest_predict = lda_model.predict(X_test)"
      ],
      "execution_count": null,
      "outputs": []
    },
    {
      "cell_type": "code",
      "metadata": {
        "id": "E3zpmrDnHl5A",
        "outputId": "97b791b5-5e9a-45d2-f0ec-7b9e425b1602"
      },
      "source": [
        "#Performance parameter\n",
        "print(confusion_matrix(y_train,lda_ytrain_predict ))\n",
        "\n",
        "# Classification report for Train data\n",
        "print (classification_report(y_train,lda_ytrain_predict))"
      ],
      "execution_count": null,
      "outputs": [
        {
          "output_type": "stream",
          "text": [
            "[[49111  4125]\n",
            " [ 6918  9726]]\n",
            "              precision    recall  f1-score   support\n",
            "\n",
            "           0       0.88      0.92      0.90     53236\n",
            "           1       0.70      0.58      0.64     16644\n",
            "\n",
            "    accuracy                           0.84     69880\n",
            "   macro avg       0.79      0.75      0.77     69880\n",
            "weighted avg       0.84      0.84      0.84     69880\n",
            "\n"
          ],
          "name": "stdout"
        }
      ]
    },
    {
      "cell_type": "code",
      "metadata": {
        "id": "WkCdrRLdHl5A",
        "outputId": "0d293cab-aab5-4cc4-cb78-4c390747b02f"
      },
      "source": [
        "#Predict it\n",
        "lda_ytest_predict = lda_model.predict(X_test)\n",
        "lda_ytest_predict"
      ],
      "execution_count": null,
      "outputs": [
        {
          "output_type": "execute_result",
          "data": {
            "text/plain": [
              "array([0, 0, 0, ..., 0, 0, 0], dtype=int64)"
            ]
          },
          "metadata": {
            "tags": []
          },
          "execution_count": 51
        }
      ]
    },
    {
      "cell_type": "code",
      "metadata": {
        "id": "7-jPlDfRHl5A",
        "outputId": "e1020887-548c-4c51-b63b-0f19a3968132"
      },
      "source": [
        "#LDA model score for traindata # Accuracy on train data\n",
        "\n",
        "lda_model.score(X_train, y_train)"
      ],
      "execution_count": null,
      "outputs": [
        {
          "output_type": "execute_result",
          "data": {
            "text/plain": [
              "0.841971951917573"
            ]
          },
          "metadata": {
            "tags": []
          },
          "execution_count": 52
        }
      ]
    },
    {
      "cell_type": "code",
      "metadata": {
        "id": "a14HjmqWHl5B",
        "outputId": "0cd3931d-6bef-4002-94c5-0f1f574bee01"
      },
      "source": [
        "# AUC and ROC for the training Data\n",
        "probs = lda_model.predict_proba(X_train)\n",
        "#keep probabilities for the positive outcome only\n",
        "probs = probs[:,1]\n",
        "\n",
        "#calculate AUC\n",
        "train_auc = roc_auc_score(y_train, probs)\n",
        "print('LDA_Train_AUC: %.3f' %train_auc)\n",
        "\n",
        "#calculate roc curve\n",
        "train_fpr, train_tpr, train_threshold = roc_curve(y_train, probs)\n",
        "plt.plot([0,1], [0,1], linestyle = '--')\n",
        "\n",
        "#plot the roc curve for the model\n",
        "plt.plot(train_fpr,train_tpr)"
      ],
      "execution_count": null,
      "outputs": [
        {
          "output_type": "stream",
          "text": [
            "LDA_Train_AUC: 0.881\n"
          ],
          "name": "stdout"
        },
        {
          "output_type": "execute_result",
          "data": {
            "text/plain": [
              "[<matplotlib.lines.Line2D at 0x104062f77f0>]"
            ]
          },
          "metadata": {
            "tags": []
          },
          "execution_count": 53
        },
        {
          "output_type": "display_data",
          "data": {
            "image/png": "[encoded data removed]",
            "text/plain": [
              "<Figure size 432x288 with 1 Axes>"
            ]
          },
          "metadata": {
            "tags": [],
            "needs_background": "light"
          }
        }
      ]
    },
    {
      "cell_type": "code",
      "metadata": {
        "id": "n7uMHcIuHl5B",
        "outputId": "58a54cd4-45b8-4b8c-cb2a-1265d27bb22e"
      },
      "source": [
        "#LDA model score for testdata  # Accuracy on test data\n",
        "lda_model.score(X_test, y_test)"
      ],
      "execution_count": null,
      "outputs": [
        {
          "output_type": "execute_result",
          "data": {
            "text/plain": [
              "0.8383703958100799"
            ]
          },
          "metadata": {
            "tags": []
          },
          "execution_count": 54
        }
      ]
    },
    {
      "cell_type": "code",
      "metadata": {
        "id": "AFlb1THVHl5B",
        "outputId": "b7c78708-fb67-4e48-bdc4-f5a9695e86e1"
      },
      "source": [
        "#Performance parameter\n",
        "print(confusion_matrix(y_test,lda_ytest_predict ))\n",
        "\n",
        "# Classification report for test data\n",
        "print (classification_report(y_test,lda_ytest_predict))"
      ],
      "execution_count": null,
      "outputs": [
        {
          "output_type": "stream",
          "text": [
            "[[16393  1416]\n",
            " [ 2349  3136]]\n",
            "              precision    recall  f1-score   support\n",
            "\n",
            "           0       0.87      0.92      0.90     17809\n",
            "           1       0.69      0.57      0.62      5485\n",
            "\n",
            "    accuracy                           0.84     23294\n",
            "   macro avg       0.78      0.75      0.76     23294\n",
            "weighted avg       0.83      0.84      0.83     23294\n",
            "\n"
          ],
          "name": "stdout"
        }
      ]
    },
    {
      "cell_type": "code",
      "metadata": {
        "id": "CJyyTFiIHl5B",
        "outputId": "4aa57154-f637-45e9-a5ff-c41d42244835"
      },
      "source": [
        "# AUC and ROC for the test Data\n",
        "probs = lda_model.predict_proba(X_test)\n",
        "#keep probabilities for the positive outcome only\n",
        "probs = probs[:,1]\n",
        "\n",
        "#calculate AUC\n",
        "test_auc = roc_auc_score(y_test, probs)\n",
        "print('LDA_Test_AUC: %.3f' %test_auc)\n",
        "\n",
        "#calculate roc curve\n",
        "test_fpr, test_tpr, test_threshold = roc_curve(y_test, probs)\n",
        "plt.plot([0,1], [0,1], linestyle = '--')\n",
        "\n",
        "#plot the roc curve for the model\n",
        "plt.plot(test_fpr,test_tpr)"
      ],
      "execution_count": null,
      "outputs": [
        {
          "output_type": "stream",
          "text": [
            "LDA_Test_AUC: 0.877\n"
          ],
          "name": "stdout"
        },
        {
          "output_type": "execute_result",
          "data": {
            "text/plain": [
              "[<matplotlib.lines.Line2D at 0x10406aaa790>]"
            ]
          },
          "metadata": {
            "tags": []
          },
          "execution_count": 56
        },
        {
          "output_type": "display_data",
          "data": {
            "image/png": "[encoded data removed]",
            "text/plain": [
              "<Figure size 432x288 with 1 Axes>"
            ]
          },
          "metadata": {
            "tags": [],
            "needs_background": "light"
          }
        }
      ]
    },
    {
      "cell_type": "code",
      "metadata": {
        "id": "aPlwP4PhHl5C",
        "outputId": "9b7ab090-4475-46d8-80d8-207b3ad2c739"
      },
      "source": [
        "#LDA model score for traindata\n",
        "#Accuracy - Training Data\n",
        "\n",
        "print(\"Accuracy_LDA_Train:\", lda_model.score(X_train, y_train))\n",
        "\n",
        "#LR model score for testdata\n",
        "#Accuracy - Test Data\n",
        "\n",
        "print(\"Accuracy_LDA_Test:\", lda_model.score(X_test, y_test))"
      ],
      "execution_count": null,
      "outputs": [
        {
          "output_type": "stream",
          "text": [
            "Accuracy_LDA_Train: 0.841971951917573\n",
            "Accuracy_LDA_Test: 0.8383703958100799\n"
          ],
          "name": "stdout"
        }
      ]
    },
    {
      "cell_type": "markdown",
      "metadata": {
        "id": "VFktqLi0Hl5C"
      },
      "source": [
        "# Run this model on Test Data.csv"
      ]
    },
    {
      "cell_type": "code",
      "metadata": {
        "id": "YxjU4XIQHl5C",
        "outputId": "4eb76c06-4471-48a3-e473-8b00e156a7e4"
      },
      "source": [
        "df2 = pd.read_csv('Test_set_(1).csv')\n",
        "df2.head(10)"
      ],
      "execution_count": null,
      "outputs": [
        {
          "output_type": "execute_result",
          "data": {
            "text/html": [
              "<div>\n",
              "<style scoped>\n",
              "    .dataframe tbody tr th:only-of-type {\n",
              "        vertical-align: middle;\n",
              "    }\n",
              "\n",
              "    .dataframe tbody tr th {\n",
              "        vertical-align: top;\n",
              "    }\n",
              "\n",
              "    .dataframe thead th {\n",
              "        text-align: right;\n",
              "    }\n",
              "</style>\n",
              "<table border=\"1\" class=\"dataframe\">\n",
              "  <thead>\n",
              "    <tr style=\"text-align: right;\">\n",
              "      <th></th>\n",
              "      <th>ID</th>\n",
              "      <th>loan_amnt</th>\n",
              "      <th>loan_term</th>\n",
              "      <th>interest_rate</th>\n",
              "      <th>loan_grade</th>\n",
              "      <th>loan_subgrade</th>\n",
              "      <th>job_experience</th>\n",
              "      <th>home_ownership</th>\n",
              "      <th>annual_income</th>\n",
              "      <th>income_verification_status</th>\n",
              "      <th>...</th>\n",
              "      <th>debt_to_income</th>\n",
              "      <th>delinq_2yrs</th>\n",
              "      <th>public_records</th>\n",
              "      <th>revolving_balance</th>\n",
              "      <th>total_acc</th>\n",
              "      <th>interest_receive</th>\n",
              "      <th>application_type</th>\n",
              "      <th>last_week_pay</th>\n",
              "      <th>total_current_balance</th>\n",
              "      <th>total_revolving_limit</th>\n",
              "    </tr>\n",
              "  </thead>\n",
              "  <tbody>\n",
              "    <tr>\n",
              "      <th>0</th>\n",
              "      <td>4855329</td>\n",
              "      <td>12000</td>\n",
              "      <td>3 years</td>\n",
              "      <td>15.31</td>\n",
              "      <td>C</td>\n",
              "      <td>C2</td>\n",
              "      <td>&lt;5 Years</td>\n",
              "      <td>MORTGAGE</td>\n",
              "      <td>73400.0</td>\n",
              "      <td>Not Verified</td>\n",
              "      <td>...</td>\n",
              "      <td>14.62</td>\n",
              "      <td>0.0</td>\n",
              "      <td>0.0</td>\n",
              "      <td>22156</td>\n",
              "      <td>30.0</td>\n",
              "      <td>2290.24</td>\n",
              "      <td>INDIVIDUAL</td>\n",
              "      <td>87.0</td>\n",
              "      <td>128098.0</td>\n",
              "      <td>25800.0</td>\n",
              "    </tr>\n",
              "    <tr>\n",
              "      <th>1</th>\n",
              "      <td>66862420</td>\n",
              "      <td>12000</td>\n",
              "      <td>3 years</td>\n",
              "      <td>7.26</td>\n",
              "      <td>A</td>\n",
              "      <td>A4</td>\n",
              "      <td>10+ years</td>\n",
              "      <td>MORTGAGE</td>\n",
              "      <td>105000.0</td>\n",
              "      <td>Not Verified</td>\n",
              "      <td>...</td>\n",
              "      <td>11.38</td>\n",
              "      <td>0.0</td>\n",
              "      <td>0.0</td>\n",
              "      <td>7592</td>\n",
              "      <td>14.0</td>\n",
              "      <td>202.68</td>\n",
              "      <td>INDIVIDUAL</td>\n",
              "      <td>13.0</td>\n",
              "      <td>269396.0</td>\n",
              "      <td>23600.0</td>\n",
              "    </tr>\n",
              "    <tr>\n",
              "      <th>2</th>\n",
              "      <td>3637416</td>\n",
              "      <td>15000</td>\n",
              "      <td>3 years</td>\n",
              "      <td>14.33</td>\n",
              "      <td>C</td>\n",
              "      <td>C1</td>\n",
              "      <td>6-10 years</td>\n",
              "      <td>MORTGAGE</td>\n",
              "      <td>50000.0</td>\n",
              "      <td>Verified</td>\n",
              "      <td>...</td>\n",
              "      <td>28.15</td>\n",
              "      <td>0.0</td>\n",
              "      <td>1.0</td>\n",
              "      <td>17983</td>\n",
              "      <td>19.0</td>\n",
              "      <td>1166.24</td>\n",
              "      <td>INDIVIDUAL</td>\n",
              "      <td>30.0</td>\n",
              "      <td>220135.0</td>\n",
              "      <td>34100.0</td>\n",
              "    </tr>\n",
              "    <tr>\n",
              "      <th>3</th>\n",
              "      <td>53682249</td>\n",
              "      <td>12000</td>\n",
              "      <td>3 years</td>\n",
              "      <td>9.99</td>\n",
              "      <td>B</td>\n",
              "      <td>B3</td>\n",
              "      <td>6-10 years</td>\n",
              "      <td>RENT</td>\n",
              "      <td>37000.0</td>\n",
              "      <td>Source Verified</td>\n",
              "      <td>...</td>\n",
              "      <td>34.32</td>\n",
              "      <td>0.0</td>\n",
              "      <td>0.0</td>\n",
              "      <td>12262</td>\n",
              "      <td>18.0</td>\n",
              "      <td>635.06</td>\n",
              "      <td>INDIVIDUAL</td>\n",
              "      <td>35.0</td>\n",
              "      <td>39436.0</td>\n",
              "      <td>21700.0</td>\n",
              "    </tr>\n",
              "    <tr>\n",
              "      <th>4</th>\n",
              "      <td>53937165</td>\n",
              "      <td>20150</td>\n",
              "      <td>3 years</td>\n",
              "      <td>11.53</td>\n",
              "      <td>B</td>\n",
              "      <td>B5</td>\n",
              "      <td>&lt;5 Years</td>\n",
              "      <td>RENT</td>\n",
              "      <td>75000.0</td>\n",
              "      <td>Source Verified</td>\n",
              "      <td>...</td>\n",
              "      <td>26.74</td>\n",
              "      <td>1.0</td>\n",
              "      <td>0.0</td>\n",
              "      <td>8251</td>\n",
              "      <td>11.0</td>\n",
              "      <td>1232.84</td>\n",
              "      <td>INDIVIDUAL</td>\n",
              "      <td>31.0</td>\n",
              "      <td>52764.0</td>\n",
              "      <td>12000.0</td>\n",
              "    </tr>\n",
              "    <tr>\n",
              "      <th>5</th>\n",
              "      <td>1464149</td>\n",
              "      <td>5850</td>\n",
              "      <td>3 years</td>\n",
              "      <td>12.12</td>\n",
              "      <td>B</td>\n",
              "      <td>B3</td>\n",
              "      <td>&lt;5 Years</td>\n",
              "      <td>MORTGAGE</td>\n",
              "      <td>72000.0</td>\n",
              "      <td>Not Verified</td>\n",
              "      <td>...</td>\n",
              "      <td>23.14</td>\n",
              "      <td>0.0</td>\n",
              "      <td>0.0</td>\n",
              "      <td>16554</td>\n",
              "      <td>20.0</td>\n",
              "      <td>1155.78</td>\n",
              "      <td>INDIVIDUAL</td>\n",
              "      <td>156.0</td>\n",
              "      <td>NaN</td>\n",
              "      <td>NaN</td>\n",
              "    </tr>\n",
              "    <tr>\n",
              "      <th>6</th>\n",
              "      <td>7429943</td>\n",
              "      <td>18000</td>\n",
              "      <td>5 years</td>\n",
              "      <td>20.80</td>\n",
              "      <td>E</td>\n",
              "      <td>E1</td>\n",
              "      <td>&lt;5 Years</td>\n",
              "      <td>RENT</td>\n",
              "      <td>45000.0</td>\n",
              "      <td>Verified</td>\n",
              "      <td>...</td>\n",
              "      <td>8.17</td>\n",
              "      <td>0.0</td>\n",
              "      <td>0.0</td>\n",
              "      <td>12282</td>\n",
              "      <td>19.0</td>\n",
              "      <td>2409.02</td>\n",
              "      <td>INDIVIDUAL</td>\n",
              "      <td>35.0</td>\n",
              "      <td>12282.0</td>\n",
              "      <td>45752.0</td>\n",
              "    </tr>\n",
              "    <tr>\n",
              "      <th>7</th>\n",
              "      <td>10047245</td>\n",
              "      <td>8575</td>\n",
              "      <td>3 years</td>\n",
              "      <td>23.10</td>\n",
              "      <td>E</td>\n",
              "      <td>E4</td>\n",
              "      <td>&lt;5 Years</td>\n",
              "      <td>OWN</td>\n",
              "      <td>60000.0</td>\n",
              "      <td>Source Verified</td>\n",
              "      <td>...</td>\n",
              "      <td>21.01</td>\n",
              "      <td>0.0</td>\n",
              "      <td>2.0</td>\n",
              "      <td>4870</td>\n",
              "      <td>40.0</td>\n",
              "      <td>1085.56</td>\n",
              "      <td>INDIVIDUAL</td>\n",
              "      <td>35.0</td>\n",
              "      <td>73951.0</td>\n",
              "      <td>7800.0</td>\n",
              "    </tr>\n",
              "    <tr>\n",
              "      <th>8</th>\n",
              "      <td>46816125</td>\n",
              "      <td>15000</td>\n",
              "      <td>5 years</td>\n",
              "      <td>13.33</td>\n",
              "      <td>C</td>\n",
              "      <td>C3</td>\n",
              "      <td>6-10 years</td>\n",
              "      <td>MORTGAGE</td>\n",
              "      <td>40000.0</td>\n",
              "      <td>Source Verified</td>\n",
              "      <td>...</td>\n",
              "      <td>25.17</td>\n",
              "      <td>0.0</td>\n",
              "      <td>0.0</td>\n",
              "      <td>12687</td>\n",
              "      <td>22.0</td>\n",
              "      <td>1415.78</td>\n",
              "      <td>INDIVIDUAL</td>\n",
              "      <td>39.0</td>\n",
              "      <td>124171.0</td>\n",
              "      <td>21100.0</td>\n",
              "    </tr>\n",
              "    <tr>\n",
              "      <th>9</th>\n",
              "      <td>57125517</td>\n",
              "      <td>10000</td>\n",
              "      <td>3 years</td>\n",
              "      <td>12.69</td>\n",
              "      <td>C</td>\n",
              "      <td>C2</td>\n",
              "      <td>&lt;5 Years</td>\n",
              "      <td>MORTGAGE</td>\n",
              "      <td>30000.0</td>\n",
              "      <td>Verified</td>\n",
              "      <td>...</td>\n",
              "      <td>5.76</td>\n",
              "      <td>0.0</td>\n",
              "      <td>0.0</td>\n",
              "      <td>5012</td>\n",
              "      <td>5.0</td>\n",
              "      <td>643.37</td>\n",
              "      <td>INDIVIDUAL</td>\n",
              "      <td>26.0</td>\n",
              "      <td>5012.0</td>\n",
              "      <td>5000.0</td>\n",
              "    </tr>\n",
              "  </tbody>\n",
              "</table>\n",
              "<p>10 rows × 22 columns</p>\n",
              "</div>"
            ],
            "text/plain": [
              "         ID  loan_amnt loan_term  interest_rate loan_grade loan_subgrade  \\\n",
              "0   4855329      12000   3 years          15.31          C            C2   \n",
              "1  66862420      12000   3 years           7.26          A            A4   \n",
              "2   3637416      15000   3 years          14.33          C            C1   \n",
              "3  53682249      12000   3 years           9.99          B            B3   \n",
              "4  53937165      20150   3 years          11.53          B            B5   \n",
              "5   1464149       5850   3 years          12.12          B            B3   \n",
              "6   7429943      18000   5 years          20.80          E            E1   \n",
              "7  10047245       8575   3 years          23.10          E            E4   \n",
              "8  46816125      15000   5 years          13.33          C            C3   \n",
              "9  57125517      10000   3 years          12.69          C            C2   \n",
              "\n",
              "  job_experience home_ownership  annual_income income_verification_status  \\\n",
              "0       <5 Years       MORTGAGE        73400.0               Not Verified   \n",
              "1      10+ years       MORTGAGE       105000.0               Not Verified   \n",
              "2     6-10 years       MORTGAGE        50000.0                   Verified   \n",
              "3     6-10 years           RENT        37000.0            Source Verified   \n",
              "4       <5 Years           RENT        75000.0            Source Verified   \n",
              "5       <5 Years       MORTGAGE        72000.0               Not Verified   \n",
              "6       <5 Years           RENT        45000.0                   Verified   \n",
              "7       <5 Years            OWN        60000.0            Source Verified   \n",
              "8     6-10 years       MORTGAGE        40000.0            Source Verified   \n",
              "9       <5 Years       MORTGAGE        30000.0                   Verified   \n",
              "\n",
              "   ... debt_to_income delinq_2yrs  public_records  revolving_balance  \\\n",
              "0  ...          14.62         0.0             0.0              22156   \n",
              "1  ...          11.38         0.0             0.0               7592   \n",
              "2  ...          28.15         0.0             1.0              17983   \n",
              "3  ...          34.32         0.0             0.0              12262   \n",
              "4  ...          26.74         1.0             0.0               8251   \n",
              "5  ...          23.14         0.0             0.0              16554   \n",
              "6  ...           8.17         0.0             0.0              12282   \n",
              "7  ...          21.01         0.0             2.0               4870   \n",
              "8  ...          25.17         0.0             0.0              12687   \n",
              "9  ...           5.76         0.0             0.0               5012   \n",
              "\n",
              "   total_acc  interest_receive  application_type  last_week_pay  \\\n",
              "0       30.0           2290.24        INDIVIDUAL           87.0   \n",
              "1       14.0            202.68        INDIVIDUAL           13.0   \n",
              "2       19.0           1166.24        INDIVIDUAL           30.0   \n",
              "3       18.0            635.06        INDIVIDUAL           35.0   \n",
              "4       11.0           1232.84        INDIVIDUAL           31.0   \n",
              "5       20.0           1155.78        INDIVIDUAL          156.0   \n",
              "6       19.0           2409.02        INDIVIDUAL           35.0   \n",
              "7       40.0           1085.56        INDIVIDUAL           35.0   \n",
              "8       22.0           1415.78        INDIVIDUAL           39.0   \n",
              "9        5.0            643.37        INDIVIDUAL           26.0   \n",
              "\n",
              "  total_current_balance  total_revolving_limit  \n",
              "0              128098.0                25800.0  \n",
              "1              269396.0                23600.0  \n",
              "2              220135.0                34100.0  \n",
              "3               39436.0                21700.0  \n",
              "4               52764.0                12000.0  \n",
              "5                   NaN                    NaN  \n",
              "6               12282.0                45752.0  \n",
              "7               73951.0                 7800.0  \n",
              "8              124171.0                21100.0  \n",
              "9                5012.0                 5000.0  \n",
              "\n",
              "[10 rows x 22 columns]"
            ]
          },
          "metadata": {
            "tags": []
          },
          "execution_count": 58
        }
      ]
    },
    {
      "cell_type": "code",
      "metadata": {
        "id": "_wNHqSD0Hl5C",
        "outputId": "391efcf1-98d9-40a7-ad15-6c9db546f62f"
      },
      "source": [
        "#datainfo\n",
        "\n",
        "df2.info()"
      ],
      "execution_count": null,
      "outputs": [
        {
          "output_type": "stream",
          "text": [
            "<class 'pandas.core.frame.DataFrame'>\n",
            "RangeIndex: 39933 entries, 0 to 39932\n",
            "Data columns (total 22 columns):\n",
            " #   Column                      Non-Null Count  Dtype  \n",
            "---  ------                      --------------  -----  \n",
            " 0   ID                          39933 non-null  int64  \n",
            " 1   loan_amnt                   39933 non-null  int64  \n",
            " 2   loan_term                   39933 non-null  object \n",
            " 3   interest_rate               39933 non-null  float64\n",
            " 4   loan_grade                  39933 non-null  object \n",
            " 5   loan_subgrade               39933 non-null  object \n",
            " 6   job_experience              37844 non-null  object \n",
            " 7   home_ownership              39933 non-null  object \n",
            " 8   annual_income               39933 non-null  float64\n",
            " 9   income_verification_status  39933 non-null  object \n",
            " 10  loan_purpose                39933 non-null  object \n",
            " 11  state_code                  39933 non-null  object \n",
            " 12  debt_to_income              39933 non-null  float64\n",
            " 13  delinq_2yrs                 39932 non-null  float64\n",
            " 14  public_records              39932 non-null  float64\n",
            " 15  revolving_balance           39933 non-null  int64  \n",
            " 16  total_acc                   39932 non-null  float64\n",
            " 17  interest_receive            39933 non-null  float64\n",
            " 18  application_type            39933 non-null  object \n",
            " 19  last_week_pay               39127 non-null  float64\n",
            " 20  total_current_balance       36703 non-null  float64\n",
            " 21  total_revolving_limit       36703 non-null  float64\n",
            "dtypes: float64(10), int64(3), object(9)\n",
            "memory usage: 6.7+ MB\n"
          ],
          "name": "stdout"
        }
      ]
    },
    {
      "cell_type": "code",
      "metadata": {
        "id": "Zk0_ESyzHl5D",
        "outputId": "fa8cebe1-8fa8-4389-c8ee-5e7a61583b6e"
      },
      "source": [
        "#datatypes\n",
        "\n",
        "df2.dtypes"
      ],
      "execution_count": null,
      "outputs": [
        {
          "output_type": "execute_result",
          "data": {
            "text/plain": [
              "ID                              int64\n",
              "loan_amnt                       int64\n",
              "loan_term                      object\n",
              "interest_rate                 float64\n",
              "loan_grade                     object\n",
              "loan_subgrade                  object\n",
              "job_experience                 object\n",
              "home_ownership                 object\n",
              "annual_income                 float64\n",
              "income_verification_status     object\n",
              "loan_purpose                   object\n",
              "state_code                     object\n",
              "debt_to_income                float64\n",
              "delinq_2yrs                   float64\n",
              "public_records                float64\n",
              "revolving_balance               int64\n",
              "total_acc                     float64\n",
              "interest_receive              float64\n",
              "application_type               object\n",
              "last_week_pay                 float64\n",
              "total_current_balance         float64\n",
              "total_revolving_limit         float64\n",
              "dtype: object"
            ]
          },
          "metadata": {
            "tags": []
          },
          "execution_count": 60
        }
      ]
    },
    {
      "cell_type": "code",
      "metadata": {
        "id": "lz4vCL7OHl5D",
        "outputId": "aafadf29-f658-4883-b660-0a420431481e"
      },
      "source": [
        "# number of rows and column\n",
        "\n",
        "df2.shape"
      ],
      "execution_count": null,
      "outputs": [
        {
          "output_type": "execute_result",
          "data": {
            "text/plain": [
              "(39933, 22)"
            ]
          },
          "metadata": {
            "tags": []
          },
          "execution_count": 61
        }
      ]
    },
    {
      "cell_type": "code",
      "metadata": {
        "id": "ybVt2y-JHl5D",
        "outputId": "0a618e3b-9bac-4a4d-ef43-bd4e6a160547"
      },
      "source": [
        "# check for null values\n",
        "# Are there any missing values ?\n",
        "\n",
        "df2.isnull().sum()"
      ],
      "execution_count": null,
      "outputs": [
        {
          "output_type": "execute_result",
          "data": {
            "text/plain": [
              "ID                               0\n",
              "loan_amnt                        0\n",
              "loan_term                        0\n",
              "interest_rate                    0\n",
              "loan_grade                       0\n",
              "loan_subgrade                    0\n",
              "job_experience                2089\n",
              "home_ownership                   0\n",
              "annual_income                    0\n",
              "income_verification_status       0\n",
              "loan_purpose                     0\n",
              "state_code                       0\n",
              "debt_to_income                   0\n",
              "delinq_2yrs                      1\n",
              "public_records                   1\n",
              "revolving_balance                0\n",
              "total_acc                        1\n",
              "interest_receive                 0\n",
              "application_type                 0\n",
              "last_week_pay                  806\n",
              "total_current_balance         3230\n",
              "total_revolving_limit         3230\n",
              "dtype: int64"
            ]
          },
          "metadata": {
            "tags": []
          },
          "execution_count": 62
        }
      ]
    },
    {
      "cell_type": "code",
      "metadata": {
        "id": "J6DNbEZWHl5D",
        "outputId": "f6d22896-0e0c-4713-c894-f9a962bcdc46"
      },
      "source": [
        "# Imput missing value\n",
        "for column in df2.columns:\n",
        "    if df2[column].dtype != 'object':\n",
        "        mean = df2[column].mean()\n",
        "        df2[column] = df2[column].fillna(mean)    \n",
        "        \n",
        "df2.isnull().sum() "
      ],
      "execution_count": null,
      "outputs": [
        {
          "output_type": "execute_result",
          "data": {
            "text/plain": [
              "ID                               0\n",
              "loan_amnt                        0\n",
              "loan_term                        0\n",
              "interest_rate                    0\n",
              "loan_grade                       0\n",
              "loan_subgrade                    0\n",
              "job_experience                2089\n",
              "home_ownership                   0\n",
              "annual_income                    0\n",
              "income_verification_status       0\n",
              "loan_purpose                     0\n",
              "state_code                       0\n",
              "debt_to_income                   0\n",
              "delinq_2yrs                      0\n",
              "public_records                   0\n",
              "revolving_balance                0\n",
              "total_acc                        0\n",
              "interest_receive                 0\n",
              "application_type                 0\n",
              "last_week_pay                    0\n",
              "total_current_balance            0\n",
              "total_revolving_limit            0\n",
              "dtype: int64"
            ]
          },
          "metadata": {
            "tags": []
          },
          "execution_count": 63
        }
      ]
    },
    {
      "cell_type": "code",
      "metadata": {
        "id": "0QtGbwaMHl5E"
      },
      "source": [
        "# Imputing Nan for \"object\" type data column - job_experience\n",
        "# Imput missing value"
      ],
      "execution_count": null,
      "outputs": []
    },
    {
      "cell_type": "code",
      "metadata": {
        "id": "Bw7zQ-FkHl5E",
        "outputId": "8b0358ae-8267-4c9d-95b9-8775ba7e16e6"
      },
      "source": [
        "from sklearn.impute import SimpleImputer\n",
        "imp = SimpleImputer(missing_values=np.nan, strategy='most_frequent')\n",
        "imp.fit(df2[['job_experience']]) \n"
      ],
      "execution_count": null,
      "outputs": [
        {
          "output_type": "execute_result",
          "data": {
            "text/plain": [
              "SimpleImputer(strategy='most_frequent')"
            ]
          },
          "metadata": {
            "tags": []
          },
          "execution_count": 65
        }
      ]
    },
    {
      "cell_type": "code",
      "metadata": {
        "id": "x4mJjAC7Hl5E",
        "outputId": "deb42656-2cb6-4730-f675-759cf29b16a4"
      },
      "source": [
        "df2['job_experience']=imp.transform(df2[['job_experience']])\n",
        "df2.isnull().sum() "
      ],
      "execution_count": null,
      "outputs": [
        {
          "output_type": "execute_result",
          "data": {
            "text/plain": [
              "ID                            0\n",
              "loan_amnt                     0\n",
              "loan_term                     0\n",
              "interest_rate                 0\n",
              "loan_grade                    0\n",
              "loan_subgrade                 0\n",
              "job_experience                0\n",
              "home_ownership                0\n",
              "annual_income                 0\n",
              "income_verification_status    0\n",
              "loan_purpose                  0\n",
              "state_code                    0\n",
              "debt_to_income                0\n",
              "delinq_2yrs                   0\n",
              "public_records                0\n",
              "revolving_balance             0\n",
              "total_acc                     0\n",
              "interest_receive              0\n",
              "application_type              0\n",
              "last_week_pay                 0\n",
              "total_current_balance         0\n",
              "total_revolving_limit         0\n",
              "dtype: int64"
            ]
          },
          "metadata": {
            "tags": []
          },
          "execution_count": 66
        }
      ]
    },
    {
      "cell_type": "code",
      "metadata": {
        "id": "nowhfKTiHl5E",
        "outputId": "5839bc80-38b3-4516-cf99-2f32eea26761"
      },
      "source": [
        "# check for duplicates\n",
        "\n",
        "df2.duplicated().sum()"
      ],
      "execution_count": null,
      "outputs": [
        {
          "output_type": "execute_result",
          "data": {
            "text/plain": [
              "0"
            ]
          },
          "metadata": {
            "tags": []
          },
          "execution_count": 67
        }
      ]
    },
    {
      "cell_type": "code",
      "metadata": {
        "id": "upRNWvrfHl5F",
        "outputId": "3239c72e-faa9-499e-fcad-a795874702f7"
      },
      "source": [
        "#box plot to check outliers\n",
        "\n",
        "plt.subplots(figsize=(20,4))\n",
        "df2.boxplot(figsize=(20,4))"
      ],
      "execution_count": null,
      "outputs": [
        {
          "output_type": "execute_result",
          "data": {
            "text/plain": [
              "<matplotlib.axes._subplots.AxesSubplot at 0x104062c2100>"
            ]
          },
          "metadata": {
            "tags": []
          },
          "execution_count": 68
        },
        {
          "output_type": "display_data",
          "data": {
            "image/png": "[encoded data removed]",
            "text/plain": [
              "<Figure size 1440x288 with 1 Axes>"
            ]
          },
          "metadata": {
            "tags": [],
            "needs_background": "light"
          }
        }
      ]
    },
    {
      "cell_type": "code",
      "metadata": {
        "id": "qPEP0djRHl5F",
        "outputId": "3c375e53-8d85-49c8-af0a-acde5068651e"
      },
      "source": [
        "# UniVariate Analysis before treating Outliers\n",
        "# Univariate except names column\n",
        "\n",
        "fig, axes = plt.subplots(nrows=6,ncols=2)\n",
        "fig.set_size_inches(12, 14)\n",
        "\n",
        "a = sns.distplot(df2['loan_amnt'] , ax=axes[0][0])\n",
        "a.set_title(\"loan_amnt Distribution\",fontsize=15)\n",
        "a = sns.boxplot(df2['loan_amnt'] , orient = \"h\" , ax=axes[0][1])\n",
        "a.set_title(\"loan_amnt Distribution\",fontsize=15)\n",
        "\n",
        "\n",
        "a = sns.distplot(df2['interest_rate'] , ax=axes[1][0])\n",
        "a.set_title(\"interest_rate Distribution\",fontsize=15)\n",
        "a = sns.boxplot(df2['interest_rate'] , orient = \"h\" , ax=axes[1][1])\n",
        "a.set_title(\"interest_rate Distribution\",fontsize=15)\n",
        "\n",
        "\n",
        "a = sns.distplot(df2['annual_income'] , ax=axes[2][0])\n",
        "a.set_title(\"annual_income Distribution\",fontsize=15)\n",
        "a = sns.boxplot(df2['annual_income'] , orient = \"h\" , ax=axes[2][1])\n",
        "a.set_title(\"annual_income Distribution\",fontsize=15)\n",
        "\n",
        "\n",
        "a = sns.distplot(df2['debt_to_income'] , ax=axes[3][0])\n",
        "a.set_title(\"debt_to_income Distribution\",fontsize=15)\n",
        "a = sns.boxplot(df2['debt_to_income'] , orient = \"h\" , ax=axes[3][1])\n",
        "a.set_title(\"debt_to_income Distribution\",fontsize=15)\n",
        "\n",
        "\n",
        "a = sns.distplot(df2['delinq_2yrs'] , ax=axes[4][0])\n",
        "a.set_title(\"delinq_2yrs Distribution\",fontsize=15)\n",
        "a = sns.boxplot(df2['delinq_2yrs'] , orient = \"h\" , ax=axes[4][1])\n",
        "a.set_title(\"delinq_2yrs Distribution\",fontsize=15)\n",
        "\n",
        "\n",
        "a = sns.distplot(df2['public_records'] , ax=axes[5][0])\n",
        "a.set_title(\"public_records Distribution\",fontsize=15)\n",
        "a = sns.boxplot(df2['public_records'] , orient = \"h\" , ax=axes[5][1])\n",
        "a.set_title(\"public_records Distribution\",fontsize=15)\n",
        "\n",
        "\n",
        "plt.show()"
      ],
      "execution_count": null,
      "outputs": [
        {
          "output_type": "display_data",
          "data": {
            "image/png": "[encoded data removed]",
            "text/plain": [
              "<Figure size 864x1008 with 12 Axes>"
            ]
          },
          "metadata": {
            "tags": [],
            "needs_background": "light"
          }
        }
      ]
    },
    {
      "cell_type": "code",
      "metadata": {
        "id": "wo-mSG9HHl5F",
        "outputId": "6fbb45e8-e58d-45db-f0ae-5950d11b583f"
      },
      "source": [
        "# UniVariate Analysis before treating Outliers\n",
        "# Univariate except names column\n",
        "\n",
        "fig, axes = plt.subplots(nrows=6,ncols=2)\n",
        "fig.set_size_inches(12, 14)\n",
        "\n",
        "a = sns.distplot(df2['revolving_balance'] , ax=axes[0][0])\n",
        "a.set_title(\"revolving_balance Distribution\",fontsize=15)\n",
        "a = sns.boxplot(df2['revolving_balance'] , orient = \"h\" , ax=axes[0][1])\n",
        "a.set_title(\"revolving_balance Distribution\",fontsize=15)\n",
        "\n",
        "\n",
        "a = sns.distplot(df2['total_acc'] , ax=axes[1][0])\n",
        "a.set_title(\"total_acc Distribution\",fontsize=15)\n",
        "a = sns.boxplot(df2['total_acc'] , orient = \"h\" , ax=axes[1][1])\n",
        "a.set_title(\"total_acc Distribution\",fontsize=15)\n",
        "\n",
        "\n",
        "a = sns.distplot(df2['interest_receive'] , ax=axes[2][0])\n",
        "a.set_title(\"interest_receive Distribution\",fontsize=15)\n",
        "a = sns.boxplot(df2['interest_receive'] , orient = \"h\" , ax=axes[2][1])\n",
        "a.set_title(\"interest_receive Distribution\",fontsize=15)\n",
        "\n",
        "\n",
        "a = sns.distplot(df2['last_week_pay'] , ax=axes[3][0])\n",
        "a.set_title(\"last_week_pay Distribution\",fontsize=15)\n",
        "a = sns.boxplot(df2['last_week_pay'] , orient = \"h\" , ax=axes[3][1])\n",
        "a.set_title(\"last_week_pay Distribution\",fontsize=15)\n",
        "\n",
        "\n",
        "a = sns.distplot(df2['total_current_balance'] , ax=axes[4][0])\n",
        "a.set_title(\"total_current_balance Distribution\",fontsize=15)\n",
        "a = sns.boxplot(df2['total_current_balance'] , orient = \"h\" , ax=axes[4][1])\n",
        "a.set_title(\"total_current_balance Distribution\",fontsize=15)\n",
        "\n",
        "\n",
        "a = sns.distplot(df2['total_revolving_limit'] , ax=axes[5][0])\n",
        "a.set_title(\"total_revolving_limit Distribution\",fontsize=15)\n",
        "a = sns.boxplot(df2['total_revolving_limit'] , orient = \"h\" , ax=axes[5][1])\n",
        "a.set_title(\"total_revolving_limit Distribution\",fontsize=15)\n",
        "\n",
        "\n",
        "plt.show()"
      ],
      "execution_count": null,
      "outputs": [
        {
          "output_type": "display_data",
          "data": {
            "image/png": "[encoded data removed]",
            "text/plain": [
              "<Figure size 864x1008 with 12 Axes>"
            ]
          },
          "metadata": {
            "tags": [],
            "needs_background": "light"
          }
        }
      ]
    },
    {
      "cell_type": "code",
      "metadata": {
        "id": "xl8fevgRHl5G",
        "outputId": "ed2f73a7-58b1-442c-dff5-bf832cf474b3"
      },
      "source": [
        "#Skew\n",
        "\n",
        "df2.skew()"
      ],
      "execution_count": null,
      "outputs": [
        {
          "output_type": "execute_result",
          "data": {
            "text/plain": [
              "ID                         0.030397\n",
              "loan_amnt                  0.674104\n",
              "interest_rate              0.439289\n",
              "annual_income             20.713209\n",
              "debt_to_income             2.163136\n",
              "delinq_2yrs                5.164267\n",
              "public_records             7.375972\n",
              "revolving_balance         35.076225\n",
              "total_acc                  0.864873\n",
              "interest_receive           2.752037\n",
              "last_week_pay              0.997807\n",
              "total_current_balance      3.187230\n",
              "total_revolving_limit    120.753679\n",
              "dtype: float64"
            ]
          },
          "metadata": {
            "tags": []
          },
          "execution_count": 71
        }
      ]
    },
    {
      "cell_type": "code",
      "metadata": {
        "id": "0BixswFbHl5G",
        "outputId": "8095544e-a404-4c40-86bc-6b63544d6f1f"
      },
      "source": [
        "# Multi- Variate Analysis\n",
        "# Check for correlation of variable\n",
        "# pearson correlation - linear relation between numeric variables only \n",
        "\n",
        "df2.corr(method='pearson')"
      ],
      "execution_count": null,
      "outputs": [
        {
          "output_type": "execute_result",
          "data": {
            "text/html": [
              "<div>\n",
              "<style scoped>\n",
              "    .dataframe tbody tr th:only-of-type {\n",
              "        vertical-align: middle;\n",
              "    }\n",
              "\n",
              "    .dataframe tbody tr th {\n",
              "        vertical-align: top;\n",
              "    }\n",
              "\n",
              "    .dataframe thead th {\n",
              "        text-align: right;\n",
              "    }\n",
              "</style>\n",
              "<table border=\"1\" class=\"dataframe\">\n",
              "  <thead>\n",
              "    <tr style=\"text-align: right;\">\n",
              "      <th></th>\n",
              "      <th>ID</th>\n",
              "      <th>loan_amnt</th>\n",
              "      <th>interest_rate</th>\n",
              "      <th>annual_income</th>\n",
              "      <th>debt_to_income</th>\n",
              "      <th>delinq_2yrs</th>\n",
              "      <th>public_records</th>\n",
              "      <th>revolving_balance</th>\n",
              "      <th>total_acc</th>\n",
              "      <th>interest_receive</th>\n",
              "      <th>last_week_pay</th>\n",
              "      <th>total_current_balance</th>\n",
              "      <th>total_revolving_limit</th>\n",
              "    </tr>\n",
              "  </thead>\n",
              "  <tbody>\n",
              "    <tr>\n",
              "      <th>ID</th>\n",
              "      <td>1.000000</td>\n",
              "      <td>0.058760</td>\n",
              "      <td>-0.153652</td>\n",
              "      <td>0.047427</td>\n",
              "      <td>0.126511</td>\n",
              "      <td>0.057106</td>\n",
              "      <td>0.078368</td>\n",
              "      <td>0.031802</td>\n",
              "      <td>0.025264</td>\n",
              "      <td>-0.464443</td>\n",
              "      <td>-0.782456</td>\n",
              "      <td>0.002922</td>\n",
              "      <td>0.024225</td>\n",
              "    </tr>\n",
              "    <tr>\n",
              "      <th>loan_amnt</th>\n",
              "      <td>0.058760</td>\n",
              "      <td>1.000000</td>\n",
              "      <td>0.146914</td>\n",
              "      <td>0.385389</td>\n",
              "      <td>0.040019</td>\n",
              "      <td>0.009659</td>\n",
              "      <td>-0.087014</td>\n",
              "      <td>0.288362</td>\n",
              "      <td>0.225241</td>\n",
              "      <td>0.538531</td>\n",
              "      <td>-0.042884</td>\n",
              "      <td>0.318287</td>\n",
              "      <td>0.186938</td>\n",
              "    </tr>\n",
              "    <tr>\n",
              "      <th>interest_rate</th>\n",
              "      <td>-0.153652</td>\n",
              "      <td>0.146914</td>\n",
              "      <td>1.000000</td>\n",
              "      <td>-0.082386</td>\n",
              "      <td>0.156638</td>\n",
              "      <td>0.054410</td>\n",
              "      <td>0.047647</td>\n",
              "      <td>-0.028533</td>\n",
              "      <td>-0.041323</td>\n",
              "      <td>0.451795</td>\n",
              "      <td>0.084363</td>\n",
              "      <td>-0.091491</td>\n",
              "      <td>-0.100789</td>\n",
              "    </tr>\n",
              "    <tr>\n",
              "      <th>annual_income</th>\n",
              "      <td>0.047427</td>\n",
              "      <td>0.385389</td>\n",
              "      <td>-0.082386</td>\n",
              "      <td>1.000000</td>\n",
              "      <td>-0.199589</td>\n",
              "      <td>0.060254</td>\n",
              "      <td>-0.006278</td>\n",
              "      <td>0.326454</td>\n",
              "      <td>0.212984</td>\n",
              "      <td>0.145332</td>\n",
              "      <td>-0.038441</td>\n",
              "      <td>0.481591</td>\n",
              "      <td>0.241264</td>\n",
              "    </tr>\n",
              "    <tr>\n",
              "      <th>debt_to_income</th>\n",
              "      <td>0.126511</td>\n",
              "      <td>0.040019</td>\n",
              "      <td>0.156638</td>\n",
              "      <td>-0.199589</td>\n",
              "      <td>1.000000</td>\n",
              "      <td>-0.003181</td>\n",
              "      <td>-0.047663</td>\n",
              "      <td>0.122943</td>\n",
              "      <td>0.233546</td>\n",
              "      <td>0.019891</td>\n",
              "      <td>-0.094859</td>\n",
              "      <td>-0.010279</td>\n",
              "      <td>0.043147</td>\n",
              "    </tr>\n",
              "    <tr>\n",
              "      <th>delinq_2yrs</th>\n",
              "      <td>0.057106</td>\n",
              "      <td>0.009659</td>\n",
              "      <td>0.054410</td>\n",
              "      <td>0.060254</td>\n",
              "      <td>-0.003181</td>\n",
              "      <td>1.000000</td>\n",
              "      <td>-0.021179</td>\n",
              "      <td>-0.021148</td>\n",
              "      <td>0.121494</td>\n",
              "      <td>0.000936</td>\n",
              "      <td>-0.048962</td>\n",
              "      <td>0.069587</td>\n",
              "      <td>-0.023173</td>\n",
              "    </tr>\n",
              "    <tr>\n",
              "      <th>public_records</th>\n",
              "      <td>0.078368</td>\n",
              "      <td>-0.087014</td>\n",
              "      <td>0.047647</td>\n",
              "      <td>-0.006278</td>\n",
              "      <td>-0.047663</td>\n",
              "      <td>-0.021179</td>\n",
              "      <td>1.000000</td>\n",
              "      <td>-0.091343</td>\n",
              "      <td>0.014331</td>\n",
              "      <td>-0.062511</td>\n",
              "      <td>-0.078424</td>\n",
              "      <td>-0.079698</td>\n",
              "      <td>-0.064252</td>\n",
              "    </tr>\n",
              "    <tr>\n",
              "      <th>revolving_balance</th>\n",
              "      <td>0.031802</td>\n",
              "      <td>0.288362</td>\n",
              "      <td>-0.028533</td>\n",
              "      <td>0.326454</td>\n",
              "      <td>0.122943</td>\n",
              "      <td>-0.021148</td>\n",
              "      <td>-0.091343</td>\n",
              "      <td>1.000000</td>\n",
              "      <td>0.166876</td>\n",
              "      <td>0.119629</td>\n",
              "      <td>-0.014079</td>\n",
              "      <td>0.437792</td>\n",
              "      <td>0.799612</td>\n",
              "    </tr>\n",
              "    <tr>\n",
              "      <th>total_acc</th>\n",
              "      <td>0.025264</td>\n",
              "      <td>0.225241</td>\n",
              "      <td>-0.041323</td>\n",
              "      <td>0.212984</td>\n",
              "      <td>0.233546</td>\n",
              "      <td>0.121494</td>\n",
              "      <td>0.014331</td>\n",
              "      <td>0.166876</td>\n",
              "      <td>1.000000</td>\n",
              "      <td>0.096968</td>\n",
              "      <td>-0.048620</td>\n",
              "      <td>0.301870</td>\n",
              "      <td>0.152119</td>\n",
              "    </tr>\n",
              "    <tr>\n",
              "      <th>interest_receive</th>\n",
              "      <td>-0.464443</td>\n",
              "      <td>0.538531</td>\n",
              "      <td>0.451795</td>\n",
              "      <td>0.145332</td>\n",
              "      <td>0.019891</td>\n",
              "      <td>0.000936</td>\n",
              "      <td>-0.062511</td>\n",
              "      <td>0.119629</td>\n",
              "      <td>0.096968</td>\n",
              "      <td>1.000000</td>\n",
              "      <td>0.525121</td>\n",
              "      <td>0.121738</td>\n",
              "      <td>0.043355</td>\n",
              "    </tr>\n",
              "    <tr>\n",
              "      <th>last_week_pay</th>\n",
              "      <td>-0.782456</td>\n",
              "      <td>-0.042884</td>\n",
              "      <td>0.084363</td>\n",
              "      <td>-0.038441</td>\n",
              "      <td>-0.094859</td>\n",
              "      <td>-0.048962</td>\n",
              "      <td>-0.078424</td>\n",
              "      <td>-0.014079</td>\n",
              "      <td>-0.048620</td>\n",
              "      <td>0.525121</td>\n",
              "      <td>1.000000</td>\n",
              "      <td>-0.002315</td>\n",
              "      <td>-0.011306</td>\n",
              "    </tr>\n",
              "    <tr>\n",
              "      <th>total_current_balance</th>\n",
              "      <td>0.002922</td>\n",
              "      <td>0.318287</td>\n",
              "      <td>-0.091491</td>\n",
              "      <td>0.481591</td>\n",
              "      <td>-0.010279</td>\n",
              "      <td>0.069587</td>\n",
              "      <td>-0.079698</td>\n",
              "      <td>0.437792</td>\n",
              "      <td>0.301870</td>\n",
              "      <td>0.121738</td>\n",
              "      <td>-0.002315</td>\n",
              "      <td>1.000000</td>\n",
              "      <td>0.330854</td>\n",
              "    </tr>\n",
              "    <tr>\n",
              "      <th>total_revolving_limit</th>\n",
              "      <td>0.024225</td>\n",
              "      <td>0.186938</td>\n",
              "      <td>-0.100789</td>\n",
              "      <td>0.241264</td>\n",
              "      <td>0.043147</td>\n",
              "      <td>-0.023173</td>\n",
              "      <td>-0.064252</td>\n",
              "      <td>0.799612</td>\n",
              "      <td>0.152119</td>\n",
              "      <td>0.043355</td>\n",
              "      <td>-0.011306</td>\n",
              "      <td>0.330854</td>\n",
              "      <td>1.000000</td>\n",
              "    </tr>\n",
              "  </tbody>\n",
              "</table>\n",
              "</div>"
            ],
            "text/plain": [
              "                             ID  loan_amnt  interest_rate  annual_income  \\\n",
              "ID                     1.000000   0.058760      -0.153652       0.047427   \n",
              "loan_amnt              0.058760   1.000000       0.146914       0.385389   \n",
              "interest_rate         -0.153652   0.146914       1.000000      -0.082386   \n",
              "annual_income          0.047427   0.385389      -0.082386       1.000000   \n",
              "debt_to_income         0.126511   0.040019       0.156638      -0.199589   \n",
              "delinq_2yrs            0.057106   0.009659       0.054410       0.060254   \n",
              "public_records         0.078368  -0.087014       0.047647      -0.006278   \n",
              "revolving_balance      0.031802   0.288362      -0.028533       0.326454   \n",
              "total_acc              0.025264   0.225241      -0.041323       0.212984   \n",
              "interest_receive      -0.464443   0.538531       0.451795       0.145332   \n",
              "last_week_pay         -0.782456  -0.042884       0.084363      -0.038441   \n",
              "total_current_balance  0.002922   0.318287      -0.091491       0.481591   \n",
              "total_revolving_limit  0.024225   0.186938      -0.100789       0.241264   \n",
              "\n",
              "                       debt_to_income  delinq_2yrs  public_records  \\\n",
              "ID                           0.126511     0.057106        0.078368   \n",
              "loan_amnt                    0.040019     0.009659       -0.087014   \n",
              "interest_rate                0.156638     0.054410        0.047647   \n",
              "annual_income               -0.199589     0.060254       -0.006278   \n",
              "debt_to_income               1.000000    -0.003181       -0.047663   \n",
              "delinq_2yrs                 -0.003181     1.000000       -0.021179   \n",
              "public_records              -0.047663    -0.021179        1.000000   \n",
              "revolving_balance            0.122943    -0.021148       -0.091343   \n",
              "total_acc                    0.233546     0.121494        0.014331   \n",
              "interest_receive             0.019891     0.000936       -0.062511   \n",
              "last_week_pay               -0.094859    -0.048962       -0.078424   \n",
              "total_current_balance       -0.010279     0.069587       -0.079698   \n",
              "total_revolving_limit        0.043147    -0.023173       -0.064252   \n",
              "\n",
              "                       revolving_balance  total_acc  interest_receive  \\\n",
              "ID                              0.031802   0.025264         -0.464443   \n",
              "loan_amnt                       0.288362   0.225241          0.538531   \n",
              "interest_rate                  -0.028533  -0.041323          0.451795   \n",
              "annual_income                   0.326454   0.212984          0.145332   \n",
              "debt_to_income                  0.122943   0.233546          0.019891   \n",
              "delinq_2yrs                    -0.021148   0.121494          0.000936   \n",
              "public_records                 -0.091343   0.014331         -0.062511   \n",
              "revolving_balance               1.000000   0.166876          0.119629   \n",
              "total_acc                       0.166876   1.000000          0.096968   \n",
              "interest_receive                0.119629   0.096968          1.000000   \n",
              "last_week_pay                  -0.014079  -0.048620          0.525121   \n",
              "total_current_balance           0.437792   0.301870          0.121738   \n",
              "total_revolving_limit           0.799612   0.152119          0.043355   \n",
              "\n",
              "                       last_week_pay  total_current_balance  \\\n",
              "ID                         -0.782456               0.002922   \n",
              "loan_amnt                  -0.042884               0.318287   \n",
              "interest_rate               0.084363              -0.091491   \n",
              "annual_income              -0.038441               0.481591   \n",
              "debt_to_income             -0.094859              -0.010279   \n",
              "delinq_2yrs                -0.048962               0.069587   \n",
              "public_records             -0.078424              -0.079698   \n",
              "revolving_balance          -0.014079               0.437792   \n",
              "total_acc                  -0.048620               0.301870   \n",
              "interest_receive            0.525121               0.121738   \n",
              "last_week_pay               1.000000              -0.002315   \n",
              "total_current_balance      -0.002315               1.000000   \n",
              "total_revolving_limit      -0.011306               0.330854   \n",
              "\n",
              "                       total_revolving_limit  \n",
              "ID                                  0.024225  \n",
              "loan_amnt                           0.186938  \n",
              "interest_rate                      -0.100789  \n",
              "annual_income                       0.241264  \n",
              "debt_to_income                      0.043147  \n",
              "delinq_2yrs                        -0.023173  \n",
              "public_records                     -0.064252  \n",
              "revolving_balance                   0.799612  \n",
              "total_acc                           0.152119  \n",
              "interest_receive                    0.043355  \n",
              "last_week_pay                      -0.011306  \n",
              "total_current_balance               0.330854  \n",
              "total_revolving_limit               1.000000  "
            ]
          },
          "metadata": {
            "tags": []
          },
          "execution_count": 72
        }
      ]
    },
    {
      "cell_type": "code",
      "metadata": {
        "id": "0jtMK1MwHl5G",
        "outputId": "07c4306b-87b0-4f69-8ceb-01ff1ed55be3"
      },
      "source": [
        "#heatmap\n",
        "\n",
        "plt.subplots(figsize=(10,10))\n",
        "sns.heatmap(df2.corr(), annot=True, fmt='.2f')  # plot the correlation coefficients as a heatmap"
      ],
      "execution_count": null,
      "outputs": [
        {
          "output_type": "execute_result",
          "data": {
            "text/plain": [
              "<matplotlib.axes._subplots.AxesSubplot at 0x104071a4c70>"
            ]
          },
          "metadata": {
            "tags": []
          },
          "execution_count": 73
        },
        {
          "output_type": "display_data",
          "data": {
            "image/png": "[encoded data removed]",
            "text/plain": [
              "<Figure size 720x720 with 2 Axes>"
            ]
          },
          "metadata": {
            "tags": [],
            "needs_background": "light"
          }
        }
      ]
    },
    {
      "cell_type": "code",
      "metadata": {
        "id": "E9JHwCKnHl5G",
        "outputId": "108bba48-1939-4855-e3a3-cbba56b74f08"
      },
      "source": [
        "# unique values for categorical variables (datatype=object)\n",
        "\n",
        "for i in df2.columns:\n",
        "    if df2[i].dtype == 'object':\n",
        "        print('\\n')\n",
        "        print('feature:',i)\n",
        "        print(pd.Categorical(df2[i].unique()))\n",
        "        print(pd.Categorical(df2[i].unique()).codes)\n",
        "        df2[i] = pd.Categorical(df2[i]).codes  "
      ],
      "execution_count": null,
      "outputs": [
        {
          "output_type": "stream",
          "text": [
            "\n",
            "\n",
            "feature: loan_term\n",
            "[3 years, 5 years]\n",
            "Categories (2, object): [3 years, 5 years]\n",
            "[0 1]\n",
            "\n",
            "\n",
            "feature: loan_grade\n",
            "[C, A, B, E, D, G, F]\n",
            "Categories (7, object): [A, B, C, D, E, F, G]\n",
            "[2 0 1 4 3 6 5]\n",
            "\n",
            "\n",
            "feature: loan_subgrade\n",
            "[C2, A4, C1, B3, B5, ..., F5, G2, F4, G4, G5]\n",
            "Length: 35\n",
            "Categories (35, object): [A1, A2, A3, A4, ..., G2, G3, G4, G5]\n",
            "[11  3 10  7  9 20 23 12 21 18 16  2  8  0 30  5  4 13  6  1 26 25 15 19\n",
            " 17 14 27 32 22 24 29 31 28 33 34]\n",
            "\n",
            "\n",
            "feature: job_experience\n",
            "[<5 Years, 10+ years, 6-10 years]\n",
            "Categories (3, object): [10+ years, 6-10 years, <5 Years]\n",
            "[2 0 1]\n",
            "\n",
            "\n",
            "feature: home_ownership\n",
            "[MORTGAGE, RENT, OWN, OTHER, NONE]\n",
            "Categories (5, object): [MORTGAGE, NONE, OTHER, OWN, RENT]\n",
            "[0 4 3 2 1]\n",
            "\n",
            "\n",
            "feature: income_verification_status\n",
            "[Not Verified, Verified, Source Verified]\n",
            "Categories (3, object): [Not Verified, Source Verified, Verified]\n",
            "[0 2 1]\n",
            "\n",
            "\n",
            "feature: loan_purpose\n",
            "[debt_consolidation, credit_card, other, home_improvement]\n",
            "Categories (4, object): [credit_card, debt_consolidation, home_improvement, other]\n",
            "[1 0 3 2]\n",
            "\n",
            "\n",
            "feature: state_code\n",
            "[CA, VA, TX, NJ, OK, ..., ND, ME, WY, DC, ID]\n",
            "Length: 50\n",
            "Categories (50, object): [AK, AL, AR, AZ, ..., WA, WI, WV, WY]\n",
            "[ 4 44 42 30 35 18 15  1 33 46 32 34 13 43  5  9 24 21 19 47 36 11 25 14\n",
            " 16 10 37 39 17  3  6 26 23 22  2 31 29 41 28  0 38 48 45  8 40 27 20 49\n",
            "  7 12]\n",
            "\n",
            "\n",
            "feature: application_type\n",
            "[INDIVIDUAL, JOINT]\n",
            "Categories (2, object): [INDIVIDUAL, JOINT]\n",
            "[0 1]\n"
          ],
          "name": "stdout"
        }
      ]
    },
    {
      "cell_type": "code",
      "metadata": {
        "id": "4m88HCWIHl5H",
        "outputId": "0f290357-eb3b-4139-91d1-1ad0718983b6"
      },
      "source": [
        "# Converting categorical to dummy variables\n",
        "\n",
        "df2 = pd.get_dummies(df2, columns=['loan_term','loan_grade','loan_subgrade','job_experience', 'home_ownership','income_verification_status','loan_purpose','state_code','application_type'],drop_first=True)\n",
        "\n",
        "df2.info()\n"
      ],
      "execution_count": null,
      "outputs": [
        {
          "output_type": "stream",
          "text": [
            "<class 'pandas.core.frame.DataFrame'>\n",
            "RangeIndex: 39933 entries, 0 to 39932\n",
            "Columns: 115 entries, ID to application_type_1\n",
            "dtypes: float64(10), int64(3), uint8(102)\n",
            "memory usage: 7.8 MB\n"
          ],
          "name": "stdout"
        }
      ]
    },
    {
      "cell_type": "code",
      "metadata": {
        "id": "g0LGM76hHl5H",
        "outputId": "a886310e-aa08-49c4-bb96-855b4e35f227"
      },
      "source": [
        "# construct box plot for continuous variables\n",
        "\n",
        "cont = df2.dtypes[(df2.dtypes!='uint8') & (df2.dtypes!='bool')].index\n",
        "\n",
        "plt.figure(figsize=(10,10))\n",
        "df2[cont].boxplot(vert=0)\n",
        "plt.title('With Outliers',fontsize=12)\n",
        "plt.show()"
      ],
      "execution_count": null,
      "outputs": [
        {
          "output_type": "display_data",
          "data": {
            "image/png": "[encoded data removed]",
            "text/plain": [
              "<Figure size 720x720 with 1 Axes>"
            ]
          },
          "metadata": {
            "tags": [],
            "needs_background": "light"
          }
        }
      ]
    },
    {
      "cell_type": "code",
      "metadata": {
        "id": "SBKHdskvHl5I"
      },
      "source": [
        "#Outlier Treatment\n",
        "def remove_outlier(col):\n",
        "    sorted(col)\n",
        "    Q1,Q3=np.percentile(col,[25,75])\n",
        "    IQR=Q3-Q1\n",
        "    lower_range= Q1-(1.5 * IQR)\n",
        "    upper_range= Q3+(1.5 * IQR)\n",
        "    return lower_range, upper_range"
      ],
      "execution_count": null,
      "outputs": []
    },
    {
      "cell_type": "code",
      "metadata": {
        "id": "JkW_K0byHl5I"
      },
      "source": [
        "#Outlier Treatment\n",
        "\n",
        "for column in df2[cont].columns:\n",
        "    lr,ur=remove_outlier(df2[column])\n",
        "    df2[column]=np.where(df2[column]>ur,ur,df2[column])\n",
        "    df2[column]=np.where(df2[column]<lr,lr,df2[column])"
      ],
      "execution_count": null,
      "outputs": []
    },
    {
      "cell_type": "code",
      "metadata": {
        "id": "P4-oFv1KHl5I",
        "outputId": "651ae88b-c9af-440a-c998-f2f6e3365c97"
      },
      "source": [
        "plt.figure(figsize=(10,10))\n",
        "df2[cont].boxplot(vert=0)\n",
        "plt.title('After Outlier Removal',fontsize=12)\n",
        "plt.show()"
      ],
      "execution_count": null,
      "outputs": [
        {
          "output_type": "display_data",
          "data": {
            "image/png": "[encoded data removed]",
            "text/plain": [
              "<Figure size 720x720 with 1 Axes>"
            ]
          },
          "metadata": {
            "tags": [],
            "needs_background": "light"
          }
        }
      ]
    },
    {
      "cell_type": "code",
      "metadata": {
        "id": "c1PjLRlTHl5I"
      },
      "source": [
        "import statsmodels.api as sm  #stats summary\n",
        "import sklearn  #machinelearning\n",
        "from sklearn.linear_model import LinearRegression\n",
        "from sklearn import metrics\n",
        "from scipy.stats import zscore\n",
        "\n",
        "from sklearn.model_selection import train_test_split,GridSearchCV\n",
        "from sklearn.linear_model import LogisticRegression\n",
        "from sklearn import metrics\n",
        "from sklearn.metrics import roc_auc_score,roc_curve,classification_report,confusion_matrix,plot_confusion_matrix\n",
        "\n",
        "from sklearn.discriminant_analysis import LinearDiscriminantAnalysis\n",
        "from sklearn import metrics,model_selection\n",
        "from sklearn.preprocessing import scale"
      ],
      "execution_count": null,
      "outputs": []
    },
    {
      "cell_type": "code",
      "metadata": {
        "id": "pAdinL-fHl5I"
      },
      "source": [
        "# Add new column to dataframe\n",
        "# add an empty columns\n",
        "\n",
        "# df2['default'] = ''\n",
        "# df2['default'] = np.nan"
      ],
      "execution_count": null,
      "outputs": []
    },
    {
      "cell_type": "code",
      "metadata": {
        "id": "HQGbm5uRHl5J"
      },
      "source": [
        "# Copy all the predictor variables into X dataframe\n",
        "#Test_X = df2\n",
        "\n",
        "# Copy target into the y dataframe. \n",
        "#Test_y = df2['ID']"
      ],
      "execution_count": null,
      "outputs": []
    },
    {
      "cell_type": "code",
      "metadata": {
        "id": "EPcWh8QEHl5J"
      },
      "source": [
        "# Copy all the predictor variables into X dataframe\n",
        "Test_X = df2\n",
        "\n",
        "# Copy target into the y dataframe. \n",
        "Test_y = df2['ID']"
      ],
      "execution_count": null,
      "outputs": []
    },
    {
      "cell_type": "code",
      "metadata": {
        "id": "YGttp1_vHl5J"
      },
      "source": [
        "Test_X = scale(Test_X)"
      ],
      "execution_count": null,
      "outputs": []
    },
    {
      "cell_type": "code",
      "metadata": {
        "id": "XBCG5P5FHl5J",
        "outputId": "3af73c9d-3fd5-4a4c-aaf8-89ed114010a3"
      },
      "source": [
        "# Checking dimensions on the train and test data\n",
        "\n",
        "print('Test_X: ',Test_X.shape)\n",
        "print('Test_y: ',Test_y.shape)\n",
        "\n",
        "from sklearn.model_selection import train_test_split\n",
        "Test_X_train, Test_X_test, Test_y_train, Test_y_test = train_test_split(Test_X, Test_y,random_state=1)\n",
        "\n",
        "# Checking dimensions on the train and test data\n",
        "\n",
        "print('Test_X_train: ',Test_X_train.shape)\n",
        "print('Test_X_test: ',Test_X_test.shape)\n",
        "print('Test_y_train: ',Test_y_train.shape)\n",
        "print('Test_y_test: ',Test_y_test.shape)"
      ],
      "execution_count": null,
      "outputs": [
        {
          "output_type": "stream",
          "text": [
            "Test_X:  (39933, 115)\n",
            "Test_y:  (39933,)\n",
            "Test_X_train:  (29949, 115)\n",
            "Test_X_test:  (9984, 115)\n",
            "Test_y_train:  (29949,)\n",
            "Test_y_test:  (9984,)\n"
          ],
          "name": "stdout"
        }
      ]
    },
    {
      "cell_type": "code",
      "metadata": {
        "id": "D1Wp2d-THl5J"
      },
      "source": [
        ""
      ],
      "execution_count": null,
      "outputs": []
    },
    {
      "cell_type": "code",
      "metadata": {
        "id": "OitRNmWVHl5K"
      },
      "source": [
        "# Predict it\n",
        "\n",
        "pred_class = lda_model.predict(Test_X)\n",
        "df2['default'] = pred_class "
      ],
      "execution_count": null,
      "outputs": []
    },
    {
      "cell_type": "code",
      "metadata": {
        "id": "mC4SA6KgHl5K"
      },
      "source": [
        ""
      ],
      "execution_count": null,
      "outputs": []
    },
    {
      "cell_type": "code",
      "metadata": {
        "id": "WN9wODODHl5K",
        "outputId": "7d120e2c-cebe-48e1-a74f-81209a738ee0"
      },
      "source": [
        "df2['default']"
      ],
      "execution_count": null,
      "outputs": [
        {
          "output_type": "execute_result",
          "data": {
            "text/plain": [
              "0        1\n",
              "1        0\n",
              "2        1\n",
              "3        0\n",
              "4        0\n",
              "        ..\n",
              "39928    0\n",
              "39929    0\n",
              "39930    0\n",
              "39931    0\n",
              "39932    0\n",
              "Name: default, Length: 39933, dtype: int64"
            ]
          },
          "metadata": {
            "tags": []
          },
          "execution_count": 87
        }
      ]
    },
    {
      "cell_type": "code",
      "metadata": {
        "id": "AMsFAKNyHl5K",
        "outputId": "ee6c4e6b-41f7-4c15-bb80-2868f26742f1"
      },
      "source": [
        "df2['default'].isnull().sum()\n"
      ],
      "execution_count": null,
      "outputs": [
        {
          "output_type": "execute_result",
          "data": {
            "text/plain": [
              "0"
            ]
          },
          "metadata": {
            "tags": []
          },
          "execution_count": 88
        }
      ]
    },
    {
      "cell_type": "code",
      "metadata": {
        "id": "gGMVjpmsHl5K",
        "outputId": "04905fd0-5e9c-4d0d-e86e-cc79efd1a3dc"
      },
      "source": [
        "df4 = pd.DataFrame(df2['ID'])\n",
        "df4"
      ],
      "execution_count": null,
      "outputs": [
        {
          "output_type": "execute_result",
          "data": {
            "text/html": [
              "<div>\n",
              "<style scoped>\n",
              "    .dataframe tbody tr th:only-of-type {\n",
              "        vertical-align: middle;\n",
              "    }\n",
              "\n",
              "    .dataframe tbody tr th {\n",
              "        vertical-align: top;\n",
              "    }\n",
              "\n",
              "    .dataframe thead th {\n",
              "        text-align: right;\n",
              "    }\n",
              "</style>\n",
              "<table border=\"1\" class=\"dataframe\">\n",
              "  <thead>\n",
              "    <tr style=\"text-align: right;\">\n",
              "      <th></th>\n",
              "      <th>ID</th>\n",
              "    </tr>\n",
              "  </thead>\n",
              "  <tbody>\n",
              "    <tr>\n",
              "      <th>0</th>\n",
              "      <td>4855329.0</td>\n",
              "    </tr>\n",
              "    <tr>\n",
              "      <th>1</th>\n",
              "      <td>66862420.0</td>\n",
              "    </tr>\n",
              "    <tr>\n",
              "      <th>2</th>\n",
              "      <td>3637416.0</td>\n",
              "    </tr>\n",
              "    <tr>\n",
              "      <th>3</th>\n",
              "      <td>53682249.0</td>\n",
              "    </tr>\n",
              "    <tr>\n",
              "      <th>4</th>\n",
              "      <td>53937165.0</td>\n",
              "    </tr>\n",
              "    <tr>\n",
              "      <th>...</th>\n",
              "      <td>...</td>\n",
              "    </tr>\n",
              "    <tr>\n",
              "      <th>39928</th>\n",
              "      <td>57779318.0</td>\n",
              "    </tr>\n",
              "    <tr>\n",
              "      <th>39929</th>\n",
              "      <td>59742362.0</td>\n",
              "    </tr>\n",
              "    <tr>\n",
              "      <th>39930</th>\n",
              "      <td>72657145.0</td>\n",
              "    </tr>\n",
              "    <tr>\n",
              "      <th>39931</th>\n",
              "      <td>15220189.0</td>\n",
              "    </tr>\n",
              "    <tr>\n",
              "      <th>39932</th>\n",
              "      <td>21810584.0</td>\n",
              "    </tr>\n",
              "  </tbody>\n",
              "</table>\n",
              "<p>39933 rows × 1 columns</p>\n",
              "</div>"
            ],
            "text/plain": [
              "               ID\n",
              "0       4855329.0\n",
              "1      66862420.0\n",
              "2       3637416.0\n",
              "3      53682249.0\n",
              "4      53937165.0\n",
              "...           ...\n",
              "39928  57779318.0\n",
              "39929  59742362.0\n",
              "39930  72657145.0\n",
              "39931  15220189.0\n",
              "39932  21810584.0\n",
              "\n",
              "[39933 rows x 1 columns]"
            ]
          },
          "metadata": {
            "tags": []
          },
          "execution_count": 89
        }
      ]
    },
    {
      "cell_type": "code",
      "metadata": {
        "id": "ZoJjU88UHl5L",
        "outputId": "cdec2f54-aab5-4240-cd6a-eb19377b65a9"
      },
      "source": [
        "df4.isnull().sum()"
      ],
      "execution_count": null,
      "outputs": [
        {
          "output_type": "execute_result",
          "data": {
            "text/plain": [
              "ID    0\n",
              "dtype: int64"
            ]
          },
          "metadata": {
            "tags": []
          },
          "execution_count": 90
        }
      ]
    },
    {
      "cell_type": "code",
      "metadata": {
        "id": "jLTUhjt3Hl5L"
      },
      "source": [
        ""
      ],
      "execution_count": null,
      "outputs": []
    },
    {
      "cell_type": "code",
      "metadata": {
        "id": "LdMnVpVIHl5L",
        "outputId": "3e871231-7519-428b-f96e-e1c8ee743abb"
      },
      "source": [
        "# Place the DataFrames side by side\n",
        "df5 = pd.concat([df4, df2['default']], axis=1)\n",
        "df5"
      ],
      "execution_count": null,
      "outputs": [
        {
          "output_type": "execute_result",
          "data": {
            "text/html": [
              "<div>\n",
              "<style scoped>\n",
              "    .dataframe tbody tr th:only-of-type {\n",
              "        vertical-align: middle;\n",
              "    }\n",
              "\n",
              "    .dataframe tbody tr th {\n",
              "        vertical-align: top;\n",
              "    }\n",
              "\n",
              "    .dataframe thead th {\n",
              "        text-align: right;\n",
              "    }\n",
              "</style>\n",
              "<table border=\"1\" class=\"dataframe\">\n",
              "  <thead>\n",
              "    <tr style=\"text-align: right;\">\n",
              "      <th></th>\n",
              "      <th>ID</th>\n",
              "      <th>default</th>\n",
              "    </tr>\n",
              "  </thead>\n",
              "  <tbody>\n",
              "    <tr>\n",
              "      <th>0</th>\n",
              "      <td>4855329.0</td>\n",
              "      <td>1</td>\n",
              "    </tr>\n",
              "    <tr>\n",
              "      <th>1</th>\n",
              "      <td>66862420.0</td>\n",
              "      <td>0</td>\n",
              "    </tr>\n",
              "    <tr>\n",
              "      <th>2</th>\n",
              "      <td>3637416.0</td>\n",
              "      <td>1</td>\n",
              "    </tr>\n",
              "    <tr>\n",
              "      <th>3</th>\n",
              "      <td>53682249.0</td>\n",
              "      <td>0</td>\n",
              "    </tr>\n",
              "    <tr>\n",
              "      <th>4</th>\n",
              "      <td>53937165.0</td>\n",
              "      <td>0</td>\n",
              "    </tr>\n",
              "    <tr>\n",
              "      <th>...</th>\n",
              "      <td>...</td>\n",
              "      <td>...</td>\n",
              "    </tr>\n",
              "    <tr>\n",
              "      <th>39928</th>\n",
              "      <td>57779318.0</td>\n",
              "      <td>0</td>\n",
              "    </tr>\n",
              "    <tr>\n",
              "      <th>39929</th>\n",
              "      <td>59742362.0</td>\n",
              "      <td>0</td>\n",
              "    </tr>\n",
              "    <tr>\n",
              "      <th>39930</th>\n",
              "      <td>72657145.0</td>\n",
              "      <td>0</td>\n",
              "    </tr>\n",
              "    <tr>\n",
              "      <th>39931</th>\n",
              "      <td>15220189.0</td>\n",
              "      <td>0</td>\n",
              "    </tr>\n",
              "    <tr>\n",
              "      <th>39932</th>\n",
              "      <td>21810584.0</td>\n",
              "      <td>0</td>\n",
              "    </tr>\n",
              "  </tbody>\n",
              "</table>\n",
              "<p>39933 rows × 2 columns</p>\n",
              "</div>"
            ],
            "text/plain": [
              "               ID  default\n",
              "0       4855329.0        1\n",
              "1      66862420.0        0\n",
              "2       3637416.0        1\n",
              "3      53682249.0        0\n",
              "4      53937165.0        0\n",
              "...           ...      ...\n",
              "39928  57779318.0        0\n",
              "39929  59742362.0        0\n",
              "39930  72657145.0        0\n",
              "39931  15220189.0        0\n",
              "39932  21810584.0        0\n",
              "\n",
              "[39933 rows x 2 columns]"
            ]
          },
          "metadata": {
            "tags": []
          },
          "execution_count": 91
        }
      ]
    },
    {
      "cell_type": "code",
      "metadata": {
        "id": "-B2q9-dmHl5L",
        "outputId": "f2a04762-e165-4ac1-85a6-bedfa8b4bfbb"
      },
      "source": [
        "df5.isnull().sum()"
      ],
      "execution_count": null,
      "outputs": [
        {
          "output_type": "execute_result",
          "data": {
            "text/plain": [
              "ID         0\n",
              "default    0\n",
              "dtype: int64"
            ]
          },
          "metadata": {
            "tags": []
          },
          "execution_count": 92
        }
      ]
    },
    {
      "cell_type": "code",
      "metadata": {
        "id": "h5iPADCsHl5L"
      },
      "source": [
        "df5.reset_index(drop=True, inplace=True)"
      ],
      "execution_count": null,
      "outputs": []
    },
    {
      "cell_type": "code",
      "metadata": {
        "id": "9_upXYs8Hl5M",
        "outputId": "6a851e93-d1be-47e7-ae8a-e2f18eb7cf29"
      },
      "source": [
        "df5"
      ],
      "execution_count": null,
      "outputs": [
        {
          "output_type": "execute_result",
          "data": {
            "text/html": [
              "<div>\n",
              "<style scoped>\n",
              "    .dataframe tbody tr th:only-of-type {\n",
              "        vertical-align: middle;\n",
              "    }\n",
              "\n",
              "    .dataframe tbody tr th {\n",
              "        vertical-align: top;\n",
              "    }\n",
              "\n",
              "    .dataframe thead th {\n",
              "        text-align: right;\n",
              "    }\n",
              "</style>\n",
              "<table border=\"1\" class=\"dataframe\">\n",
              "  <thead>\n",
              "    <tr style=\"text-align: right;\">\n",
              "      <th></th>\n",
              "      <th>ID</th>\n",
              "      <th>default</th>\n",
              "    </tr>\n",
              "  </thead>\n",
              "  <tbody>\n",
              "    <tr>\n",
              "      <th>0</th>\n",
              "      <td>4855329.0</td>\n",
              "      <td>1</td>\n",
              "    </tr>\n",
              "    <tr>\n",
              "      <th>1</th>\n",
              "      <td>66862420.0</td>\n",
              "      <td>0</td>\n",
              "    </tr>\n",
              "    <tr>\n",
              "      <th>2</th>\n",
              "      <td>3637416.0</td>\n",
              "      <td>1</td>\n",
              "    </tr>\n",
              "    <tr>\n",
              "      <th>3</th>\n",
              "      <td>53682249.0</td>\n",
              "      <td>0</td>\n",
              "    </tr>\n",
              "    <tr>\n",
              "      <th>4</th>\n",
              "      <td>53937165.0</td>\n",
              "      <td>0</td>\n",
              "    </tr>\n",
              "    <tr>\n",
              "      <th>...</th>\n",
              "      <td>...</td>\n",
              "      <td>...</td>\n",
              "    </tr>\n",
              "    <tr>\n",
              "      <th>39928</th>\n",
              "      <td>57779318.0</td>\n",
              "      <td>0</td>\n",
              "    </tr>\n",
              "    <tr>\n",
              "      <th>39929</th>\n",
              "      <td>59742362.0</td>\n",
              "      <td>0</td>\n",
              "    </tr>\n",
              "    <tr>\n",
              "      <th>39930</th>\n",
              "      <td>72657145.0</td>\n",
              "      <td>0</td>\n",
              "    </tr>\n",
              "    <tr>\n",
              "      <th>39931</th>\n",
              "      <td>15220189.0</td>\n",
              "      <td>0</td>\n",
              "    </tr>\n",
              "    <tr>\n",
              "      <th>39932</th>\n",
              "      <td>21810584.0</td>\n",
              "      <td>0</td>\n",
              "    </tr>\n",
              "  </tbody>\n",
              "</table>\n",
              "<p>39933 rows × 2 columns</p>\n",
              "</div>"
            ],
            "text/plain": [
              "               ID  default\n",
              "0       4855329.0        1\n",
              "1      66862420.0        0\n",
              "2       3637416.0        1\n",
              "3      53682249.0        0\n",
              "4      53937165.0        0\n",
              "...           ...      ...\n",
              "39928  57779318.0        0\n",
              "39929  59742362.0        0\n",
              "39930  72657145.0        0\n",
              "39931  15220189.0        0\n",
              "39932  21810584.0        0\n",
              "\n",
              "[39933 rows x 2 columns]"
            ]
          },
          "metadata": {
            "tags": []
          },
          "execution_count": 94
        }
      ]
    },
    {
      "cell_type": "code",
      "metadata": {
        "id": "KOo7VtZAHl5M"
      },
      "source": [
        "df5.to_csv(r'C:\\Users\\achin1828\\Desktop\\PGP_GL_DSBA\\Hackthon\\May2021\\File_df5_model1.csv')"
      ],
      "execution_count": null,
      "outputs": []
    },
    {
      "cell_type": "code",
      "metadata": {
        "id": "XFcZzyujHl5M"
      },
      "source": [
        ""
      ],
      "execution_count": null,
      "outputs": []
    }
  ]
}