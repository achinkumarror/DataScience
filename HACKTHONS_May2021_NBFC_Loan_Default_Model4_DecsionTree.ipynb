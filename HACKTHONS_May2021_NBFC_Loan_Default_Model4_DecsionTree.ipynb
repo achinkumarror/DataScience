{
  "nbformat": 4,
  "nbformat_minor": 0,
  "metadata": {
    "kernelspec": {
      "display_name": "Python 3",
      "language": "python",
      "name": "python3"
    },
    "language_info": {
      "codemirror_mode": {
        "name": "ipython",
        "version": 3
      },
      "file_extension": ".py",
      "mimetype": "text/x-python",
      "name": "python",
      "nbconvert_exporter": "python",
      "pygments_lexer": "ipython3",
      "version": "3.8.3"
    },
    "colab": {
      "name": "HACKTHONS May2021 - NBFC Loan Default -Model4-DecsionTree.ipynb",
      "provenance": [],
      "include_colab_link": true
    }
  },
  "cells": [
    {
      "cell_type": "markdown",
      "metadata": {
        "id": "view-in-github",
        "colab_type": "text"
      },
      "source": [
        "<a href=\"https://colab.research.google.com/github/achinkumarror/DataScience/blob/Hackthon/HACKTHONS_May2021_NBFC_Loan_Default_Model4_DecsionTree.ipynb\" target=\"_parent\"><img src=\"https://colab.research.google.com/assets/colab-badge.svg\" alt=\"Open In Colab\"/></a>"
      ]
    },
    {
      "cell_type": "markdown",
      "metadata": {
        "id": "NFZU8ZNkWqlF"
      },
      "source": [
        "# The goal of the problem is to predict whether a client will default on the loan payment or not.\n",
        "A non-banking financial institution (NBFI) or non-bank financial company (NBFC) is a Financial Institution that does not have a full banking license or is not supervised by a national or international banking regulatory agency. NBFC facilitates bank-related financial services, such as investment, risk pooling, contractual savings, and market brokering.\n",
        "The following is the story of a challenge faced by DHDL Ltd. (Name Changed), an NBFC in India. In recent times, the company is struggling to mark profits due to an increase in Loan Defaults. The company aims to determine the relative importance of each parameter with regards to their contribution as to whether a loan is going to default or not. Provided is a sample that contains the data of 90,000 + clients who have taken a loan from the company in the past with the information on whether the loan defaulted. \n",
        "The objective of this exercise is to understand which parameters play an important role in determining whether a client will default on the loan payment or not. "
      ]
    },
    {
      "cell_type": "markdown",
      "metadata": {
        "id": "EB37HJZrWqlP"
      },
      "source": [
        "Goal:\n",
        "The goal of the problem is to predict whether a client will default on the loan payment or not. For each ID in the test_data, you must predict the “default” level.\n",
        "\n",
        "Datasets\n",
        "The problem contains two datasets, Train Data, and Test Data. Model building is to be done on Train Dataset and the Model testing is to be done on Test Dataset. The output from the Test Data is to be submitted in the Hackathon platform\n",
        "\n",
        "Metric to measure\n",
        "Your score is the percentage of all correct predictions made by you. This is simply known as accuracy. The best accuracy is 1 whereas the worst is 0. It will be calculated as the total number of two correct predictions (True positive + True negative) divided by the total number of observations in the dataset.\n",
        "\n",
        "Submission File Format:\n",
        "You should submit a CSV file with exactly 39933 entries plus a header row.\n",
        "The file should have exactly two columns\n",
        "\n",
        "·         ID ( sorted in any order)\n",
        "\n",
        "·         default (contains 0 & 1, 1 represents default)"
      ]
    },
    {
      "cell_type": "code",
      "metadata": {
        "id": "-EnV04yIWqlQ"
      },
      "source": [
        "import numpy as np\n",
        "import pandas as pd\n",
        "import seaborn as sns\n",
        "from matplotlib import pyplot as plt\n",
        "import matplotlib\n",
        "import sklearn\n",
        "import statsmodels"
      ],
      "execution_count": 3,
      "outputs": []
    },
    {
      "cell_type": "code",
      "metadata": {
        "colab": {
          "base_uri": "https://localhost:8080/",
          "height": 379
        },
        "id": "71U98fk0WqlR",
        "outputId": "482926ab-a044-4b6f-ee64-a58903968640"
      },
      "source": [
        "# Note uplaoded data file is deleted from google colab drive so we might have to uplaod it agagin to run these commands \n",
        "df1 = pd.read_csv('/content/sample_data/Train_set_(1).csv')\n",
        "#df1 = pd.read_csv('Train_set_(1).csv')\n",
        "df1.head(10)"
      ],
      "execution_count": 4,
      "outputs": [
        {
          "output_type": "execute_result",
          "data": {
            "text/html": [
              "<div>\n",
              "<style scoped>\n",
              "    .dataframe tbody tr th:only-of-type {\n",
              "        vertical-align: middle;\n",
              "    }\n",
              "\n",
              "    .dataframe tbody tr th {\n",
              "        vertical-align: top;\n",
              "    }\n",
              "\n",
              "    .dataframe thead th {\n",
              "        text-align: right;\n",
              "    }\n",
              "</style>\n",
              "<table border=\"1\" class=\"dataframe\">\n",
              "  <thead>\n",
              "    <tr style=\"text-align: right;\">\n",
              "      <th></th>\n",
              "      <th>ID</th>\n",
              "      <th>loan_amnt</th>\n",
              "      <th>loan_term</th>\n",
              "      <th>interest_rate</th>\n",
              "      <th>loan_grade</th>\n",
              "      <th>loan_subgrade</th>\n",
              "      <th>job_experience</th>\n",
              "      <th>home_ownership</th>\n",
              "      <th>annual_income</th>\n",
              "      <th>income_verification_status</th>\n",
              "      <th>loan_purpose</th>\n",
              "      <th>state_code</th>\n",
              "      <th>debt_to_income</th>\n",
              "      <th>delinq_2yrs</th>\n",
              "      <th>public_records</th>\n",
              "      <th>revolving_balance</th>\n",
              "      <th>total_acc</th>\n",
              "      <th>interest_receive</th>\n",
              "      <th>application_type</th>\n",
              "      <th>last_week_pay</th>\n",
              "      <th>total_current_balance</th>\n",
              "      <th>total_revolving_limit</th>\n",
              "      <th>default</th>\n",
              "    </tr>\n",
              "  </thead>\n",
              "  <tbody>\n",
              "    <tr>\n",
              "      <th>0</th>\n",
              "      <td>72199369</td>\n",
              "      <td>9000</td>\n",
              "      <td>3 years</td>\n",
              "      <td>9.17</td>\n",
              "      <td>B</td>\n",
              "      <td>B2</td>\n",
              "      <td>&lt;5 Years</td>\n",
              "      <td>OWN</td>\n",
              "      <td>85000.0</td>\n",
              "      <td>Not Verified</td>\n",
              "      <td>debt_consolidation</td>\n",
              "      <td>NC</td>\n",
              "      <td>26.68</td>\n",
              "      <td>0.0</td>\n",
              "      <td>0.0</td>\n",
              "      <td>39519</td>\n",
              "      <td>20.0</td>\n",
              "      <td>59.60</td>\n",
              "      <td>INDIVIDUAL</td>\n",
              "      <td>4.0</td>\n",
              "      <td>95493.0</td>\n",
              "      <td>84100.0</td>\n",
              "      <td>0.0</td>\n",
              "    </tr>\n",
              "    <tr>\n",
              "      <th>1</th>\n",
              "      <td>14257956</td>\n",
              "      <td>18000</td>\n",
              "      <td>3 years</td>\n",
              "      <td>13.65</td>\n",
              "      <td>C</td>\n",
              "      <td>C1</td>\n",
              "      <td>&lt;5 Years</td>\n",
              "      <td>OWN</td>\n",
              "      <td>64000.0</td>\n",
              "      <td>Verified</td>\n",
              "      <td>debt_consolidation</td>\n",
              "      <td>SC</td>\n",
              "      <td>31.67</td>\n",
              "      <td>0.0</td>\n",
              "      <td>1.0</td>\n",
              "      <td>9783</td>\n",
              "      <td>24.0</td>\n",
              "      <td>3348.25</td>\n",
              "      <td>INDIVIDUAL</td>\n",
              "      <td>95.0</td>\n",
              "      <td>185433.0</td>\n",
              "      <td>13500.0</td>\n",
              "      <td>0.0</td>\n",
              "    </tr>\n",
              "    <tr>\n",
              "      <th>2</th>\n",
              "      <td>66216451</td>\n",
              "      <td>16000</td>\n",
              "      <td>3 years</td>\n",
              "      <td>7.26</td>\n",
              "      <td>A</td>\n",
              "      <td>A4</td>\n",
              "      <td>&lt;5 Years</td>\n",
              "      <td>MORTGAGE</td>\n",
              "      <td>150000.0</td>\n",
              "      <td>Source Verified</td>\n",
              "      <td>debt_consolidation</td>\n",
              "      <td>TX</td>\n",
              "      <td>19.70</td>\n",
              "      <td>2.0</td>\n",
              "      <td>0.0</td>\n",
              "      <td>13641</td>\n",
              "      <td>27.0</td>\n",
              "      <td>276.69</td>\n",
              "      <td>INDIVIDUAL</td>\n",
              "      <td>13.0</td>\n",
              "      <td>180519.0</td>\n",
              "      <td>19300.0</td>\n",
              "      <td>0.0</td>\n",
              "    </tr>\n",
              "    <tr>\n",
              "      <th>3</th>\n",
              "      <td>46974169</td>\n",
              "      <td>25000</td>\n",
              "      <td>3 years</td>\n",
              "      <td>13.99</td>\n",
              "      <td>C</td>\n",
              "      <td>C4</td>\n",
              "      <td>NaN</td>\n",
              "      <td>MORTGAGE</td>\n",
              "      <td>59800.0</td>\n",
              "      <td>Verified</td>\n",
              "      <td>debt_consolidation</td>\n",
              "      <td>MO</td>\n",
              "      <td>37.39</td>\n",
              "      <td>0.0</td>\n",
              "      <td>0.0</td>\n",
              "      <td>35020</td>\n",
              "      <td>35.0</td>\n",
              "      <td>1106.72</td>\n",
              "      <td>INDIVIDUAL</td>\n",
              "      <td>17.0</td>\n",
              "      <td>183208.0</td>\n",
              "      <td>55400.0</td>\n",
              "      <td>0.0</td>\n",
              "    </tr>\n",
              "    <tr>\n",
              "      <th>4</th>\n",
              "      <td>46725961</td>\n",
              "      <td>17000</td>\n",
              "      <td>3 years</td>\n",
              "      <td>6.39</td>\n",
              "      <td>A</td>\n",
              "      <td>A2</td>\n",
              "      <td>10+ years</td>\n",
              "      <td>MORTGAGE</td>\n",
              "      <td>72000.0</td>\n",
              "      <td>Source Verified</td>\n",
              "      <td>credit_card</td>\n",
              "      <td>TX</td>\n",
              "      <td>8.92</td>\n",
              "      <td>0.0</td>\n",
              "      <td>0.0</td>\n",
              "      <td>23990</td>\n",
              "      <td>26.0</td>\n",
              "      <td>725.29</td>\n",
              "      <td>INDIVIDUAL</td>\n",
              "      <td>39.0</td>\n",
              "      <td>23990.0</td>\n",
              "      <td>81300.0</td>\n",
              "      <td>0.0</td>\n",
              "    </tr>\n",
              "    <tr>\n",
              "      <th>5</th>\n",
              "      <td>56469197</td>\n",
              "      <td>10000</td>\n",
              "      <td>3 years</td>\n",
              "      <td>12.69</td>\n",
              "      <td>C</td>\n",
              "      <td>C2</td>\n",
              "      <td>&lt;5 Years</td>\n",
              "      <td>OWN</td>\n",
              "      <td>56000.0</td>\n",
              "      <td>Not Verified</td>\n",
              "      <td>debt_consolidation</td>\n",
              "      <td>IL</td>\n",
              "      <td>16.16</td>\n",
              "      <td>0.0</td>\n",
              "      <td>1.0</td>\n",
              "      <td>6643</td>\n",
              "      <td>48.0</td>\n",
              "      <td>590.50</td>\n",
              "      <td>INDIVIDUAL</td>\n",
              "      <td>26.0</td>\n",
              "      <td>24054.0</td>\n",
              "      <td>25167.0</td>\n",
              "      <td>0.0</td>\n",
              "    </tr>\n",
              "    <tr>\n",
              "      <th>6</th>\n",
              "      <td>3409695</td>\n",
              "      <td>15000</td>\n",
              "      <td>3 years</td>\n",
              "      <td>11.14</td>\n",
              "      <td>B</td>\n",
              "      <td>B2</td>\n",
              "      <td>10+ years</td>\n",
              "      <td>RENT</td>\n",
              "      <td>100000.0</td>\n",
              "      <td>Not Verified</td>\n",
              "      <td>debt_consolidation</td>\n",
              "      <td>TX</td>\n",
              "      <td>10.51</td>\n",
              "      <td>0.0</td>\n",
              "      <td>1.0</td>\n",
              "      <td>14088</td>\n",
              "      <td>14.0</td>\n",
              "      <td>1020.57</td>\n",
              "      <td>INDIVIDUAL</td>\n",
              "      <td>35.0</td>\n",
              "      <td>14519.0</td>\n",
              "      <td>15200.0</td>\n",
              "      <td>1.0</td>\n",
              "    </tr>\n",
              "    <tr>\n",
              "      <th>7</th>\n",
              "      <td>26276447</td>\n",
              "      <td>10000</td>\n",
              "      <td>3 years</td>\n",
              "      <td>6.49</td>\n",
              "      <td>A</td>\n",
              "      <td>A2</td>\n",
              "      <td>10+ years</td>\n",
              "      <td>MORTGAGE</td>\n",
              "      <td>109000.0</td>\n",
              "      <td>Not Verified</td>\n",
              "      <td>credit_card</td>\n",
              "      <td>NY</td>\n",
              "      <td>10.84</td>\n",
              "      <td>1.0</td>\n",
              "      <td>0.0</td>\n",
              "      <td>12337</td>\n",
              "      <td>26.0</td>\n",
              "      <td>728.68</td>\n",
              "      <td>INDIVIDUAL</td>\n",
              "      <td>74.0</td>\n",
              "      <td>210751.0</td>\n",
              "      <td>18600.0</td>\n",
              "      <td>0.0</td>\n",
              "    </tr>\n",
              "    <tr>\n",
              "      <th>8</th>\n",
              "      <td>48393405</td>\n",
              "      <td>12000</td>\n",
              "      <td>3 years</td>\n",
              "      <td>10.99</td>\n",
              "      <td>B</td>\n",
              "      <td>B4</td>\n",
              "      <td>&lt;5 Years</td>\n",
              "      <td>RENT</td>\n",
              "      <td>45000.0</td>\n",
              "      <td>Verified</td>\n",
              "      <td>credit_card</td>\n",
              "      <td>CT</td>\n",
              "      <td>8.21</td>\n",
              "      <td>0.0</td>\n",
              "      <td>0.0</td>\n",
              "      <td>10550</td>\n",
              "      <td>12.0</td>\n",
              "      <td>879.15</td>\n",
              "      <td>INDIVIDUAL</td>\n",
              "      <td>39.0</td>\n",
              "      <td>10550.0</td>\n",
              "      <td>22000.0</td>\n",
              "      <td>0.0</td>\n",
              "    </tr>\n",
              "    <tr>\n",
              "      <th>9</th>\n",
              "      <td>15140624</td>\n",
              "      <td>7000</td>\n",
              "      <td>3 years</td>\n",
              "      <td>12.49</td>\n",
              "      <td>B</td>\n",
              "      <td>B4</td>\n",
              "      <td>&lt;5 Years</td>\n",
              "      <td>MORTGAGE</td>\n",
              "      <td>53000.0</td>\n",
              "      <td>Not Verified</td>\n",
              "      <td>debt_consolidation</td>\n",
              "      <td>TX</td>\n",
              "      <td>18.84</td>\n",
              "      <td>0.0</td>\n",
              "      <td>0.0</td>\n",
              "      <td>12108</td>\n",
              "      <td>20.0</td>\n",
              "      <td>1186.80</td>\n",
              "      <td>INDIVIDUAL</td>\n",
              "      <td>96.0</td>\n",
              "      <td>145801.0</td>\n",
              "      <td>16800.0</td>\n",
              "      <td>0.0</td>\n",
              "    </tr>\n",
              "  </tbody>\n",
              "</table>\n",
              "</div>"
            ],
            "text/plain": [
              "         ID  loan_amnt  ... total_revolving_limit  default\n",
              "0  72199369       9000  ...               84100.0      0.0\n",
              "1  14257956      18000  ...               13500.0      0.0\n",
              "2  66216451      16000  ...               19300.0      0.0\n",
              "3  46974169      25000  ...               55400.0      0.0\n",
              "4  46725961      17000  ...               81300.0      0.0\n",
              "5  56469197      10000  ...               25167.0      0.0\n",
              "6   3409695      15000  ...               15200.0      1.0\n",
              "7  26276447      10000  ...               18600.0      0.0\n",
              "8  48393405      12000  ...               22000.0      0.0\n",
              "9  15140624       7000  ...               16800.0      0.0\n",
              "\n",
              "[10 rows x 23 columns]"
            ]
          },
          "metadata": {
            "tags": []
          },
          "execution_count": 4
        }
      ]
    },
    {
      "cell_type": "code",
      "metadata": {
        "colab": {
          "base_uri": "https://localhost:8080/"
        },
        "id": "6x9V5A6EWqlS",
        "outputId": "d0bb7cdf-89e5-4388-b766-3e16b3c48f25"
      },
      "source": [
        "#datainfo\n",
        "\n",
        "df1.info()"
      ],
      "execution_count": null,
      "outputs": [
        {
          "output_type": "stream",
          "text": [
            "<class 'pandas.core.frame.DataFrame'>\n",
            "RangeIndex: 93174 entries, 0 to 93173\n",
            "Data columns (total 23 columns):\n",
            " #   Column                      Non-Null Count  Dtype  \n",
            "---  ------                      --------------  -----  \n",
            " 0   ID                          93174 non-null  int64  \n",
            " 1   loan_amnt                   93174 non-null  int64  \n",
            " 2   loan_term                   93174 non-null  object \n",
            " 3   interest_rate               93174 non-null  float64\n",
            " 4   loan_grade                  93174 non-null  object \n",
            " 5   loan_subgrade               93174 non-null  object \n",
            " 6   job_experience              88472 non-null  object \n",
            " 7   home_ownership              93174 non-null  object \n",
            " 8   annual_income               93173 non-null  float64\n",
            " 9   income_verification_status  93174 non-null  object \n",
            " 10  loan_purpose                93174 non-null  object \n",
            " 11  state_code                  93174 non-null  object \n",
            " 12  debt_to_income              93174 non-null  float64\n",
            " 13  delinq_2yrs                 93172 non-null  float64\n",
            " 14  public_records              93172 non-null  float64\n",
            " 15  revolving_balance           93174 non-null  int64  \n",
            " 16  total_acc                   93172 non-null  float64\n",
            " 17  interest_receive            93174 non-null  float64\n",
            " 18  application_type            93174 non-null  object \n",
            " 19  last_week_pay               91250 non-null  float64\n",
            " 20  total_current_balance       85788 non-null  float64\n",
            " 21  total_revolving_limit       85788 non-null  float64\n",
            " 22  default                     93174 non-null  int64  \n",
            "dtypes: float64(10), int64(4), object(9)\n",
            "memory usage: 16.3+ MB\n"
          ],
          "name": "stdout"
        }
      ]
    },
    {
      "cell_type": "code",
      "metadata": {
        "colab": {
          "base_uri": "https://localhost:8080/"
        },
        "id": "qvcZPnNPWqlS",
        "outputId": "a4e7ca26-8a53-4a78-d12f-31928585efe1"
      },
      "source": [
        "#datatypes\n",
        "\n",
        "df1.dtypes"
      ],
      "execution_count": null,
      "outputs": [
        {
          "output_type": "execute_result",
          "data": {
            "text/plain": [
              "ID                              int64\n",
              "loan_amnt                       int64\n",
              "loan_term                      object\n",
              "interest_rate                 float64\n",
              "loan_grade                     object\n",
              "loan_subgrade                  object\n",
              "job_experience                 object\n",
              "home_ownership                 object\n",
              "annual_income                 float64\n",
              "income_verification_status     object\n",
              "loan_purpose                   object\n",
              "state_code                     object\n",
              "debt_to_income                float64\n",
              "delinq_2yrs                   float64\n",
              "public_records                float64\n",
              "revolving_balance               int64\n",
              "total_acc                     float64\n",
              "interest_receive              float64\n",
              "application_type               object\n",
              "last_week_pay                 float64\n",
              "total_current_balance         float64\n",
              "total_revolving_limit         float64\n",
              "default                         int64\n",
              "dtype: object"
            ]
          },
          "metadata": {
            "tags": []
          },
          "execution_count": 4
        }
      ]
    },
    {
      "cell_type": "code",
      "metadata": {
        "colab": {
          "base_uri": "https://localhost:8080/"
        },
        "id": "K4wZjjonWqlT",
        "outputId": "ebfe4fad-5f60-406b-efbc-3be47c6f97b3"
      },
      "source": [
        "# number of rows and column\n",
        "\n",
        "df1.shape"
      ],
      "execution_count": null,
      "outputs": [
        {
          "output_type": "execute_result",
          "data": {
            "text/plain": [
              "(93174, 23)"
            ]
          },
          "metadata": {
            "tags": []
          },
          "execution_count": 5
        }
      ]
    },
    {
      "cell_type": "code",
      "metadata": {
        "colab": {
          "base_uri": "https://localhost:8080/"
        },
        "id": "RofXrmlAWqlT",
        "outputId": "fa89a36a-d33c-4ae0-f8a0-56661edb81fd"
      },
      "source": [
        "# Bad data like ‘$’ or ‘#’ in numerical column or any other unwanted character\n",
        "# Value counts of object variable\n",
        "\n",
        "print(df1['loan_term'].value_counts(sort=False))\n",
        "print(df1['loan_grade'].value_counts(sort=False))\n",
        "print(df1['loan_subgrade'].value_counts(sort=False))\n",
        "print(df1['job_experience'].value_counts(sort=False))\n",
        "print(df1['home_ownership'].value_counts(sort=False))\n",
        "print(df1['income_verification_status'].value_counts(sort=False))\n",
        "print(df1['loan_purpose'].value_counts(sort=False))\n",
        "print(df1['state_code'].value_counts(sort=False))\n",
        "print(df1['application_type'].value_counts(sort=False))\n"
      ],
      "execution_count": null,
      "outputs": [
        {
          "output_type": "stream",
          "text": [
            "3 years    65211\n",
            "5 years    27963\n",
            "Name: loan_term, dtype: int64\n",
            "D    14715\n",
            "C    25787\n",
            "F     2344\n",
            "E     7378\n",
            "A    15534\n",
            "G      551\n",
            "B    26865\n",
            "Name: loan_grade, dtype: int64\n",
            "F2     545\n",
            "A1    2377\n",
            "A3    2450\n",
            "E2    1736\n",
            "B3    5879\n",
            "A2    2353\n",
            "D1    3716\n",
            "E4    1228\n",
            "G5      66\n",
            "B5    5095\n",
            "A5    4723\n",
            "F1     745\n",
            "F5     234\n",
            "G1     174\n",
            "F4     355\n",
            "A4    3631\n",
            "C4    5182\n",
            "D2    3239\n",
            "B2    5169\n",
            "E3    1513\n",
            "C3    5270\n",
            "C1    5443\n",
            "B4    5879\n",
            "C5    4413\n",
            "G4      60\n",
            "D4    2717\n",
            "E1    1924\n",
            "D3    2759\n",
            "G3     105\n",
            "D5    2284\n",
            "E5     977\n",
            "C2    5479\n",
            "F3     465\n",
            "B1    4843\n",
            "G2     146\n",
            "Name: loan_subgrade, dtype: int64\n",
            "10+ years     30362\n",
            "<5 Years      40610\n",
            "6-10 years    17500\n",
            "Name: job_experience, dtype: int64\n",
            "MORTGAGE    46445\n",
            "OTHER          18\n",
            "NONE            8\n",
            "RENT        37449\n",
            "OWN          9254\n",
            "Name: home_ownership, dtype: int64\n",
            "Verified           30450\n",
            "Not Verified       28237\n",
            "Source Verified    34487\n",
            "Name: income_verification_status, dtype: int64\n",
            "debt_consolidation    55241\n",
            "credit_card           21571\n",
            "other                 10971\n",
            "home_improvement       5391\n",
            "Name: loan_purpose, dtype: int64\n",
            "MA     2232\n",
            "DC      271\n",
            "SD      198\n",
            "NM      507\n",
            "IL     3699\n",
            "SC     1108\n",
            "NJ     3464\n",
            "FL     6360\n",
            "WY      212\n",
            "VT      174\n",
            "CO     1924\n",
            "WV      460\n",
            "MT      253\n",
            "PA     3321\n",
            "NV     1326\n",
            "LA     1112\n",
            "TN     1365\n",
            "ID        1\n",
            "ME       59\n",
            "MO     1485\n",
            "CA    13744\n",
            "OH     3104\n",
            "CT     1402\n",
            "GA     2998\n",
            "OK      851\n",
            "AR      694\n",
            "AL     1188\n",
            "OR     1102\n",
            "TX     7467\n",
            "VA     2793\n",
            "IN     1420\n",
            "AZ     2115\n",
            "NC     2669\n",
            "NY     7782\n",
            "AK      231\n",
            "MI     2415\n",
            "MD     2279\n",
            "WA     2038\n",
            "NH      447\n",
            "KY      933\n",
            "HI      451\n",
            "MS      389\n",
            "RI      412\n",
            "NE      126\n",
            "ND       45\n",
            "WI     1206\n",
            "UT      658\n",
            "MN     1638\n",
            "DE      246\n",
            "KS      800\n",
            "Name: state_code, dtype: int64\n",
            "JOINT            56\n",
            "INDIVIDUAL    93118\n",
            "Name: application_type, dtype: int64\n"
          ],
          "name": "stdout"
        }
      ]
    },
    {
      "cell_type": "code",
      "metadata": {
        "colab": {
          "base_uri": "https://localhost:8080/"
        },
        "id": "Sj5ea66nWqlU",
        "outputId": "b544a220-56fd-4e3a-ab33-d7f0983df804"
      },
      "source": [
        "df1.count()\n",
        "df1.count(axis='columns')"
      ],
      "execution_count": null,
      "outputs": [
        {
          "output_type": "execute_result",
          "data": {
            "text/plain": [
              "0        23\n",
              "1        23\n",
              "2        23\n",
              "3        22\n",
              "4        23\n",
              "         ..\n",
              "93169    23\n",
              "93170    20\n",
              "93171    23\n",
              "93172    23\n",
              "93173    23\n",
              "Length: 93174, dtype: int64"
            ]
          },
          "metadata": {
            "tags": []
          },
          "execution_count": 7
        }
      ]
    },
    {
      "cell_type": "code",
      "metadata": {
        "colab": {
          "base_uri": "https://localhost:8080/"
        },
        "id": "DGW9qxevWqlU",
        "outputId": "c0710ade-fbd6-4c1e-dc11-219c65e32b56"
      },
      "source": [
        "# check for null values\n",
        "# Are there any missing values ?\n",
        "\n",
        "df1.isnull().sum()"
      ],
      "execution_count": null,
      "outputs": [
        {
          "output_type": "execute_result",
          "data": {
            "text/plain": [
              "ID                               0\n",
              "loan_amnt                        0\n",
              "loan_term                        0\n",
              "interest_rate                    0\n",
              "loan_grade                       0\n",
              "loan_subgrade                    0\n",
              "job_experience                4702\n",
              "home_ownership                   0\n",
              "annual_income                    1\n",
              "income_verification_status       0\n",
              "loan_purpose                     0\n",
              "state_code                       0\n",
              "debt_to_income                   0\n",
              "delinq_2yrs                      2\n",
              "public_records                   2\n",
              "revolving_balance                0\n",
              "total_acc                        2\n",
              "interest_receive                 0\n",
              "application_type                 0\n",
              "last_week_pay                 1924\n",
              "total_current_balance         7386\n",
              "total_revolving_limit         7386\n",
              "default                          0\n",
              "dtype: int64"
            ]
          },
          "metadata": {
            "tags": []
          },
          "execution_count": 8
        }
      ]
    },
    {
      "cell_type": "code",
      "metadata": {
        "colab": {
          "base_uri": "https://localhost:8080/"
        },
        "id": "KaivzXL0WqlV",
        "outputId": "deffc5e9-a387-4c6d-ad07-ba41e7435108"
      },
      "source": [
        "# Imput missing value\n",
        "for column in df1.columns:\n",
        "    if df1[column].dtype != 'object':\n",
        "        mean = df1[column].mean()\n",
        "        df1[column] = df1[column].fillna(mean)    \n",
        "        \n",
        "df1.isnull().sum()   "
      ],
      "execution_count": null,
      "outputs": [
        {
          "output_type": "execute_result",
          "data": {
            "text/plain": [
              "ID                               0\n",
              "loan_amnt                        0\n",
              "loan_term                        0\n",
              "interest_rate                    0\n",
              "loan_grade                       0\n",
              "loan_subgrade                    0\n",
              "job_experience                4702\n",
              "home_ownership                   0\n",
              "annual_income                    0\n",
              "income_verification_status       0\n",
              "loan_purpose                     0\n",
              "state_code                       0\n",
              "debt_to_income                   0\n",
              "delinq_2yrs                      0\n",
              "public_records                   0\n",
              "revolving_balance                0\n",
              "total_acc                        0\n",
              "interest_receive                 0\n",
              "application_type                 0\n",
              "last_week_pay                    0\n",
              "total_current_balance            0\n",
              "total_revolving_limit            0\n",
              "default                          0\n",
              "dtype: int64"
            ]
          },
          "metadata": {
            "tags": []
          },
          "execution_count": 9
        }
      ]
    },
    {
      "cell_type": "code",
      "metadata": {
        "id": "GoSPi6ouWqlV"
      },
      "source": [
        "# Imputing Nan for \"object\" type data column - job_experience\n",
        "# Imput missing value"
      ],
      "execution_count": null,
      "outputs": []
    },
    {
      "cell_type": "code",
      "metadata": {
        "colab": {
          "base_uri": "https://localhost:8080/"
        },
        "id": "OSp8obujWqlV",
        "outputId": "6ce350c6-5111-4465-cf73-9b85360f1e24"
      },
      "source": [
        "from sklearn.impute import SimpleImputer\n",
        "imp = SimpleImputer(missing_values=np.nan, strategy='most_frequent')\n",
        "imp.fit(df1[['job_experience']]) "
      ],
      "execution_count": null,
      "outputs": [
        {
          "output_type": "execute_result",
          "data": {
            "text/plain": [
              "SimpleImputer(add_indicator=False, copy=True, fill_value=None,\n",
              "              missing_values=nan, strategy='most_frequent', verbose=0)"
            ]
          },
          "metadata": {
            "tags": []
          },
          "execution_count": 11
        }
      ]
    },
    {
      "cell_type": "code",
      "metadata": {
        "colab": {
          "base_uri": "https://localhost:8080/"
        },
        "id": "QmLJYoajWqlW",
        "outputId": "3b84c4ff-80fc-423f-c857-b528a909509d"
      },
      "source": [
        "df1['job_experience']=imp.transform(df1[['job_experience']])\n",
        "df1.isnull().sum() "
      ],
      "execution_count": null,
      "outputs": [
        {
          "output_type": "execute_result",
          "data": {
            "text/plain": [
              "ID                            0\n",
              "loan_amnt                     0\n",
              "loan_term                     0\n",
              "interest_rate                 0\n",
              "loan_grade                    0\n",
              "loan_subgrade                 0\n",
              "job_experience                0\n",
              "home_ownership                0\n",
              "annual_income                 0\n",
              "income_verification_status    0\n",
              "loan_purpose                  0\n",
              "state_code                    0\n",
              "debt_to_income                0\n",
              "delinq_2yrs                   0\n",
              "public_records                0\n",
              "revolving_balance             0\n",
              "total_acc                     0\n",
              "interest_receive              0\n",
              "application_type              0\n",
              "last_week_pay                 0\n",
              "total_current_balance         0\n",
              "total_revolving_limit         0\n",
              "default                       0\n",
              "dtype: int64"
            ]
          },
          "metadata": {
            "tags": []
          },
          "execution_count": 12
        }
      ]
    },
    {
      "cell_type": "code",
      "metadata": {
        "colab": {
          "base_uri": "https://localhost:8080/"
        },
        "id": "cwXU_vezWqlW",
        "outputId": "20e41161-68db-4eac-c783-e6507ec384b4"
      },
      "source": [
        "# check for duplicates\n",
        "\n",
        "df1.duplicated().sum()"
      ],
      "execution_count": null,
      "outputs": [
        {
          "output_type": "execute_result",
          "data": {
            "text/plain": [
              "0"
            ]
          },
          "metadata": {
            "tags": []
          },
          "execution_count": 13
        }
      ]
    },
    {
      "cell_type": "code",
      "metadata": {
        "scrolled": false,
        "colab": {
          "base_uri": "https://localhost:8080/",
          "height": 483
        },
        "id": "e5gx4sgSWqlX",
        "outputId": "dc2af721-c2aa-423b-d674-6411454c2fbf"
      },
      "source": [
        "df1.describe().transpose()"
      ],
      "execution_count": null,
      "outputs": [
        {
          "output_type": "execute_result",
          "data": {
            "text/html": [
              "<div>\n",
              "<style scoped>\n",
              "    .dataframe tbody tr th:only-of-type {\n",
              "        vertical-align: middle;\n",
              "    }\n",
              "\n",
              "    .dataframe tbody tr th {\n",
              "        vertical-align: top;\n",
              "    }\n",
              "\n",
              "    .dataframe thead th {\n",
              "        text-align: right;\n",
              "    }\n",
              "</style>\n",
              "<table border=\"1\" class=\"dataframe\">\n",
              "  <thead>\n",
              "    <tr style=\"text-align: right;\">\n",
              "      <th></th>\n",
              "      <th>count</th>\n",
              "      <th>mean</th>\n",
              "      <th>std</th>\n",
              "      <th>min</th>\n",
              "      <th>25%</th>\n",
              "      <th>50%</th>\n",
              "      <th>75%</th>\n",
              "      <th>max</th>\n",
              "    </tr>\n",
              "  </thead>\n",
              "  <tbody>\n",
              "    <tr>\n",
              "      <th>ID</th>\n",
              "      <td>93174.0</td>\n",
              "      <td>3.505021e+07</td>\n",
              "      <td>2.414926e+07</td>\n",
              "      <td>70735.00</td>\n",
              "      <td>10859832.50</td>\n",
              "      <td>3.710751e+07</td>\n",
              "      <td>5.859895e+07</td>\n",
              "      <td>73519746.00</td>\n",
              "    </tr>\n",
              "    <tr>\n",
              "      <th>loan_amnt</th>\n",
              "      <td>93174.0</td>\n",
              "      <td>1.473386e+04</td>\n",
              "      <td>8.428185e+03</td>\n",
              "      <td>500.00</td>\n",
              "      <td>8000.00</td>\n",
              "      <td>1.300000e+04</td>\n",
              "      <td>2.000000e+04</td>\n",
              "      <td>35000.00</td>\n",
              "    </tr>\n",
              "    <tr>\n",
              "      <th>interest_rate</th>\n",
              "      <td>93174.0</td>\n",
              "      <td>1.323343e+01</td>\n",
              "      <td>4.368728e+00</td>\n",
              "      <td>5.32</td>\n",
              "      <td>9.99</td>\n",
              "      <td>1.299000e+01</td>\n",
              "      <td>1.620000e+01</td>\n",
              "      <td>28.99</td>\n",
              "    </tr>\n",
              "    <tr>\n",
              "      <th>annual_income</th>\n",
              "      <td>93174.0</td>\n",
              "      <td>7.502826e+04</td>\n",
              "      <td>6.945441e+04</td>\n",
              "      <td>1200.00</td>\n",
              "      <td>45000.00</td>\n",
              "      <td>6.400000e+04</td>\n",
              "      <td>9.000000e+04</td>\n",
              "      <td>9500000.00</td>\n",
              "    </tr>\n",
              "    <tr>\n",
              "      <th>debt_to_income</th>\n",
              "      <td>93174.0</td>\n",
              "      <td>1.812762e+01</td>\n",
              "      <td>8.563084e+00</td>\n",
              "      <td>0.00</td>\n",
              "      <td>11.93</td>\n",
              "      <td>1.764000e+01</td>\n",
              "      <td>2.389000e+01</td>\n",
              "      <td>672.52</td>\n",
              "    </tr>\n",
              "    <tr>\n",
              "      <th>delinq_2yrs</th>\n",
              "      <td>93174.0</td>\n",
              "      <td>3.169944e-01</td>\n",
              "      <td>8.808497e-01</td>\n",
              "      <td>0.00</td>\n",
              "      <td>0.00</td>\n",
              "      <td>0.000000e+00</td>\n",
              "      <td>0.000000e+00</td>\n",
              "      <td>22.00</td>\n",
              "    </tr>\n",
              "    <tr>\n",
              "      <th>public_records</th>\n",
              "      <td>93174.0</td>\n",
              "      <td>1.961212e-01</td>\n",
              "      <td>5.811820e-01</td>\n",
              "      <td>0.00</td>\n",
              "      <td>0.00</td>\n",
              "      <td>0.000000e+00</td>\n",
              "      <td>0.000000e+00</td>\n",
              "      <td>49.00</td>\n",
              "    </tr>\n",
              "    <tr>\n",
              "      <th>revolving_balance</th>\n",
              "      <td>93174.0</td>\n",
              "      <td>1.685447e+04</td>\n",
              "      <td>2.368907e+04</td>\n",
              "      <td>0.00</td>\n",
              "      <td>6433.00</td>\n",
              "      <td>1.185600e+04</td>\n",
              "      <td>2.074500e+04</td>\n",
              "      <td>2560703.00</td>\n",
              "    </tr>\n",
              "    <tr>\n",
              "      <th>total_acc</th>\n",
              "      <td>93174.0</td>\n",
              "      <td>2.524891e+01</td>\n",
              "      <td>1.185493e+01</td>\n",
              "      <td>1.00</td>\n",
              "      <td>17.00</td>\n",
              "      <td>2.400000e+01</td>\n",
              "      <td>3.200000e+01</td>\n",
              "      <td>119.00</td>\n",
              "    </tr>\n",
              "    <tr>\n",
              "      <th>interest_receive</th>\n",
              "      <td>93174.0</td>\n",
              "      <td>1.747264e+03</td>\n",
              "      <td>2.088236e+03</td>\n",
              "      <td>0.00</td>\n",
              "      <td>439.88</td>\n",
              "      <td>1.070755e+03</td>\n",
              "      <td>2.219613e+03</td>\n",
              "      <td>23172.31</td>\n",
              "    </tr>\n",
              "    <tr>\n",
              "      <th>last_week_pay</th>\n",
              "      <td>93174.0</td>\n",
              "      <td>5.815488e+01</td>\n",
              "      <td>4.386651e+01</td>\n",
              "      <td>0.00</td>\n",
              "      <td>22.00</td>\n",
              "      <td>4.800000e+01</td>\n",
              "      <td>8.300000e+01</td>\n",
              "      <td>291.00</td>\n",
              "    </tr>\n",
              "    <tr>\n",
              "      <th>total_current_balance</th>\n",
              "      <td>93174.0</td>\n",
              "      <td>1.392529e+05</td>\n",
              "      <td>1.513077e+05</td>\n",
              "      <td>0.00</td>\n",
              "      <td>31953.00</td>\n",
              "      <td>9.843500e+04</td>\n",
              "      <td>1.949948e+05</td>\n",
              "      <td>8000078.00</td>\n",
              "    </tr>\n",
              "    <tr>\n",
              "      <th>total_revolving_limit</th>\n",
              "      <td>93174.0</td>\n",
              "      <td>3.208590e+04</td>\n",
              "      <td>4.514904e+04</td>\n",
              "      <td>0.00</td>\n",
              "      <td>14700.00</td>\n",
              "      <td>2.570000e+04</td>\n",
              "      <td>3.787500e+04</td>\n",
              "      <td>9999999.00</td>\n",
              "    </tr>\n",
              "    <tr>\n",
              "      <th>default</th>\n",
              "      <td>93174.0</td>\n",
              "      <td>2.375019e-01</td>\n",
              "      <td>4.255546e-01</td>\n",
              "      <td>0.00</td>\n",
              "      <td>0.00</td>\n",
              "      <td>0.000000e+00</td>\n",
              "      <td>0.000000e+00</td>\n",
              "      <td>1.00</td>\n",
              "    </tr>\n",
              "  </tbody>\n",
              "</table>\n",
              "</div>"
            ],
            "text/plain": [
              "                         count          mean  ...           75%          max\n",
              "ID                     93174.0  3.505021e+07  ...  5.859895e+07  73519746.00\n",
              "loan_amnt              93174.0  1.473386e+04  ...  2.000000e+04     35000.00\n",
              "interest_rate          93174.0  1.323343e+01  ...  1.620000e+01        28.99\n",
              "annual_income          93174.0  7.502826e+04  ...  9.000000e+04   9500000.00\n",
              "debt_to_income         93174.0  1.812762e+01  ...  2.389000e+01       672.52\n",
              "delinq_2yrs            93174.0  3.169944e-01  ...  0.000000e+00        22.00\n",
              "public_records         93174.0  1.961212e-01  ...  0.000000e+00        49.00\n",
              "revolving_balance      93174.0  1.685447e+04  ...  2.074500e+04   2560703.00\n",
              "total_acc              93174.0  2.524891e+01  ...  3.200000e+01       119.00\n",
              "interest_receive       93174.0  1.747264e+03  ...  2.219613e+03     23172.31\n",
              "last_week_pay          93174.0  5.815488e+01  ...  8.300000e+01       291.00\n",
              "total_current_balance  93174.0  1.392529e+05  ...  1.949948e+05   8000078.00\n",
              "total_revolving_limit  93174.0  3.208590e+04  ...  3.787500e+04   9999999.00\n",
              "default                93174.0  2.375019e-01  ...  0.000000e+00         1.00\n",
              "\n",
              "[14 rows x 8 columns]"
            ]
          },
          "metadata": {
            "tags": []
          },
          "execution_count": 14
        }
      ]
    },
    {
      "cell_type": "code",
      "metadata": {
        "id": "rtEgpYngWqlX"
      },
      "source": [
        "# Check for Outliers"
      ],
      "execution_count": null,
      "outputs": []
    },
    {
      "cell_type": "code",
      "metadata": {
        "colab": {
          "base_uri": "https://localhost:8080/",
          "height": 294
        },
        "id": "90J2dRLpWqlX",
        "outputId": "2e177d7c-d2db-42d1-96ab-9912396c6703"
      },
      "source": [
        "#box plot to check outliers\n",
        "\n",
        "plt.subplots(figsize=(20,4))\n",
        "df1.boxplot(figsize=(20,4))"
      ],
      "execution_count": null,
      "outputs": [
        {
          "output_type": "execute_result",
          "data": {
            "text/plain": [
              "<matplotlib.axes._subplots.AxesSubplot at 0x7f320aea9150>"
            ]
          },
          "metadata": {
            "tags": []
          },
          "execution_count": 16
        },
        {
          "output_type": "display_data",
          "data": {
            "image/png": "[encoded data removed]",
            "text/plain": [
              "<Figure size 1440x288 with 1 Axes>"
            ]
          },
          "metadata": {
            "tags": [],
            "needs_background": "light"
          }
        }
      ]
    },
    {
      "cell_type": "code",
      "metadata": {
        "id": "8lPj_tE_WqlY"
      },
      "source": [
        "# UniVariate Analysis before treating Outliers\n",
        "# Univariate except names column"
      ],
      "execution_count": null,
      "outputs": []
    },
    {
      "cell_type": "code",
      "metadata": {
        "colab": {
          "base_uri": "https://localhost:8080/",
          "height": 1000
        },
        "id": "Dr9cSaVxWqlY",
        "outputId": "6643c476-1b8e-480f-9600-56f2eee8aa3a"
      },
      "source": [
        "# UniVariate Analysis before treating Outliers\n",
        "# Univariate except names column\n",
        "\n",
        "fig, axes = plt.subplots(nrows=6,ncols=2)\n",
        "fig.set_size_inches(12, 14)\n",
        "\n",
        "a = sns.distplot(df1['loan_amnt'] , ax=axes[0][0])\n",
        "a.set_title(\"loan_amnt Distribution\",fontsize=15)\n",
        "a = sns.boxplot(df1['loan_amnt'] , orient = \"h\" , ax=axes[0][1])\n",
        "a.set_title(\"loan_amnt Distribution\",fontsize=15)\n",
        "\n",
        "\n",
        "a = sns.distplot(df1['interest_rate'] , ax=axes[1][0])\n",
        "a.set_title(\"interest_rate Distribution\",fontsize=15)\n",
        "a = sns.boxplot(df1['interest_rate'] , orient = \"h\" , ax=axes[1][1])\n",
        "a.set_title(\"interest_rate Distribution\",fontsize=15)\n",
        "\n",
        "\n",
        "a = sns.distplot(df1['annual_income'] , ax=axes[2][0])\n",
        "a.set_title(\"annual_income Distribution\",fontsize=15)\n",
        "a = sns.boxplot(df1['annual_income'] , orient = \"h\" , ax=axes[2][1])\n",
        "a.set_title(\"annual_income Distribution\",fontsize=15)\n",
        "\n",
        "\n",
        "a = sns.distplot(df1['debt_to_income'] , ax=axes[3][0])\n",
        "a.set_title(\"debt_to_income Distribution\",fontsize=15)\n",
        "a = sns.boxplot(df1['debt_to_income'] , orient = \"h\" , ax=axes[3][1])\n",
        "a.set_title(\"debt_to_income Distribution\",fontsize=15)\n",
        "\n",
        "\n",
        "a = sns.distplot(df1['delinq_2yrs'] , ax=axes[4][0])\n",
        "a.set_title(\"delinq_2yrs Distribution\",fontsize=15)\n",
        "a = sns.boxplot(df1['delinq_2yrs'] , orient = \"h\" , ax=axes[4][1])\n",
        "a.set_title(\"delinq_2yrs Distribution\",fontsize=15)\n",
        "\n",
        "\n",
        "a = sns.distplot(df1['public_records'] , ax=axes[5][0])\n",
        "a.set_title(\"public_records Distribution\",fontsize=15)\n",
        "a = sns.boxplot(df1['public_records'] , orient = \"h\" , ax=axes[5][1])\n",
        "a.set_title(\"public_records Distribution\",fontsize=15)\n",
        "\n",
        "\n",
        "plt.show()"
      ],
      "execution_count": null,
      "outputs": [
        {
          "output_type": "stream",
          "text": [
            "/usr/local/lib/python3.7/dist-packages/seaborn/distributions.py:2557: FutureWarning: `distplot` is a deprecated function and will be removed in a future version. Please adapt your code to use either `displot` (a figure-level function with similar flexibility) or `histplot` (an axes-level function for histograms).\n",
            "  warnings.warn(msg, FutureWarning)\n",
            "/usr/local/lib/python3.7/dist-packages/seaborn/_decorators.py:43: FutureWarning: Pass the following variable as a keyword arg: x. From version 0.12, the only valid positional argument will be `data`, and passing other arguments without an explicit keyword will result in an error or misinterpretation.\n",
            "  FutureWarning\n",
            "/usr/local/lib/python3.7/dist-packages/seaborn/distributions.py:2557: FutureWarning: `distplot` is a deprecated function and will be removed in a future version. Please adapt your code to use either `displot` (a figure-level function with similar flexibility) or `histplot` (an axes-level function for histograms).\n",
            "  warnings.warn(msg, FutureWarning)\n",
            "/usr/local/lib/python3.7/dist-packages/seaborn/_decorators.py:43: FutureWarning: Pass the following variable as a keyword arg: x. From version 0.12, the only valid positional argument will be `data`, and passing other arguments without an explicit keyword will result in an error or misinterpretation.\n",
            "  FutureWarning\n",
            "/usr/local/lib/python3.7/dist-packages/seaborn/distributions.py:2557: FutureWarning: `distplot` is a deprecated function and will be removed in a future version. Please adapt your code to use either `displot` (a figure-level function with similar flexibility) or `histplot` (an axes-level function for histograms).\n",
            "  warnings.warn(msg, FutureWarning)\n",
            "/usr/local/lib/python3.7/dist-packages/seaborn/_decorators.py:43: FutureWarning: Pass the following variable as a keyword arg: x. From version 0.12, the only valid positional argument will be `data`, and passing other arguments without an explicit keyword will result in an error or misinterpretation.\n",
            "  FutureWarning\n",
            "/usr/local/lib/python3.7/dist-packages/seaborn/distributions.py:2557: FutureWarning: `distplot` is a deprecated function and will be removed in a future version. Please adapt your code to use either `displot` (a figure-level function with similar flexibility) or `histplot` (an axes-level function for histograms).\n",
            "  warnings.warn(msg, FutureWarning)\n",
            "/usr/local/lib/python3.7/dist-packages/seaborn/_decorators.py:43: FutureWarning: Pass the following variable as a keyword arg: x. From version 0.12, the only valid positional argument will be `data`, and passing other arguments without an explicit keyword will result in an error or misinterpretation.\n",
            "  FutureWarning\n",
            "/usr/local/lib/python3.7/dist-packages/seaborn/distributions.py:2557: FutureWarning: `distplot` is a deprecated function and will be removed in a future version. Please adapt your code to use either `displot` (a figure-level function with similar flexibility) or `histplot` (an axes-level function for histograms).\n",
            "  warnings.warn(msg, FutureWarning)\n",
            "/usr/local/lib/python3.7/dist-packages/seaborn/_decorators.py:43: FutureWarning: Pass the following variable as a keyword arg: x. From version 0.12, the only valid positional argument will be `data`, and passing other arguments without an explicit keyword will result in an error or misinterpretation.\n",
            "  FutureWarning\n",
            "/usr/local/lib/python3.7/dist-packages/seaborn/distributions.py:2557: FutureWarning: `distplot` is a deprecated function and will be removed in a future version. Please adapt your code to use either `displot` (a figure-level function with similar flexibility) or `histplot` (an axes-level function for histograms).\n",
            "  warnings.warn(msg, FutureWarning)\n",
            "/usr/local/lib/python3.7/dist-packages/seaborn/_decorators.py:43: FutureWarning: Pass the following variable as a keyword arg: x. From version 0.12, the only valid positional argument will be `data`, and passing other arguments without an explicit keyword will result in an error or misinterpretation.\n",
            "  FutureWarning\n"
          ],
          "name": "stderr"
        },
        {
          "output_type": "display_data",
          "data": {
            "image/png": "[encoded data removed]",
            "text/plain": [
              "<Figure size 864x1008 with 12 Axes>"
            ]
          },
          "metadata": {
            "tags": [],
            "needs_background": "light"
          }
        }
      ]
    },
    {
      "cell_type": "code",
      "metadata": {
        "colab": {
          "base_uri": "https://localhost:8080/",
          "height": 1000
        },
        "id": "VybqcXGbWqlZ",
        "outputId": "3e3f9906-3ae7-4188-838a-8d0be9111685"
      },
      "source": [
        "# UniVariate Analysis before treating Outliers\n",
        "# Univariate except names column\n",
        "\n",
        "fig, axes = plt.subplots(nrows=7,ncols=2)\n",
        "fig.set_size_inches(12, 14)\n",
        "\n",
        "a = sns.distplot(df1['revolving_balance'] , ax=axes[0][0])\n",
        "a.set_title(\"revolving_balance Distribution\",fontsize=15)\n",
        "a = sns.boxplot(df1['revolving_balance'] , orient = \"h\" , ax=axes[0][1])\n",
        "a.set_title(\"revolving_balance Distribution\",fontsize=15)\n",
        "\n",
        "\n",
        "a = sns.distplot(df1['total_acc'] , ax=axes[1][0])\n",
        "a.set_title(\"total_acc Distribution\",fontsize=15)\n",
        "a = sns.boxplot(df1['total_acc'] , orient = \"h\" , ax=axes[1][1])\n",
        "a.set_title(\"total_acc Distribution\",fontsize=15)\n",
        "\n",
        "\n",
        "a = sns.distplot(df1['interest_receive'] , ax=axes[2][0])\n",
        "a.set_title(\"interest_receive Distribution\",fontsize=15)\n",
        "a = sns.boxplot(df1['interest_receive'] , orient = \"h\" , ax=axes[2][1])\n",
        "a.set_title(\"interest_receive Distribution\",fontsize=15)\n",
        "\n",
        "\n",
        "a = sns.distplot(df1['last_week_pay'] , ax=axes[3][0])\n",
        "a.set_title(\"last_week_pay Distribution\",fontsize=15)\n",
        "a = sns.boxplot(df1['last_week_pay'] , orient = \"h\" , ax=axes[3][1])\n",
        "a.set_title(\"last_week_pay Distribution\",fontsize=15)\n",
        "\n",
        "\n",
        "a = sns.distplot(df1['total_current_balance'] , ax=axes[4][0])\n",
        "a.set_title(\"total_current_balance Distribution\",fontsize=15)\n",
        "a = sns.boxplot(df1['total_current_balance'] , orient = \"h\" , ax=axes[4][1])\n",
        "a.set_title(\"total_current_balance Distribution\",fontsize=15)\n",
        "\n",
        "\n",
        "a = sns.distplot(df1['total_revolving_limit'] , ax=axes[5][0])\n",
        "a.set_title(\"total_revolving_limit Distribution\",fontsize=15)\n",
        "a = sns.boxplot(df1['total_revolving_limit'] , orient = \"h\" , ax=axes[5][1])\n",
        "a.set_title(\"total_revolving_limit Distribution\",fontsize=15)\n",
        "\n",
        "a = sns.distplot(df1['default'] , ax=axes[6][0])\n",
        "a.set_title(\"default Distribution\",fontsize=15)\n",
        "a = sns.boxplot(df1['default'] , orient = \"h\" , ax=axes[5][1])\n",
        "a.set_title(\"default Distribution\",fontsize=15)\n",
        "\n",
        "plt.show()"
      ],
      "execution_count": null,
      "outputs": [
        {
          "output_type": "stream",
          "text": [
            "/usr/local/lib/python3.7/dist-packages/seaborn/distributions.py:2557: FutureWarning: `distplot` is a deprecated function and will be removed in a future version. Please adapt your code to use either `displot` (a figure-level function with similar flexibility) or `histplot` (an axes-level function for histograms).\n",
            "  warnings.warn(msg, FutureWarning)\n",
            "/usr/local/lib/python3.7/dist-packages/seaborn/_decorators.py:43: FutureWarning: Pass the following variable as a keyword arg: x. From version 0.12, the only valid positional argument will be `data`, and passing other arguments without an explicit keyword will result in an error or misinterpretation.\n",
            "  FutureWarning\n",
            "/usr/local/lib/python3.7/dist-packages/seaborn/distributions.py:2557: FutureWarning: `distplot` is a deprecated function and will be removed in a future version. Please adapt your code to use either `displot` (a figure-level function with similar flexibility) or `histplot` (an axes-level function for histograms).\n",
            "  warnings.warn(msg, FutureWarning)\n",
            "/usr/local/lib/python3.7/dist-packages/seaborn/_decorators.py:43: FutureWarning: Pass the following variable as a keyword arg: x. From version 0.12, the only valid positional argument will be `data`, and passing other arguments without an explicit keyword will result in an error or misinterpretation.\n",
            "  FutureWarning\n",
            "/usr/local/lib/python3.7/dist-packages/seaborn/distributions.py:2557: FutureWarning: `distplot` is a deprecated function and will be removed in a future version. Please adapt your code to use either `displot` (a figure-level function with similar flexibility) or `histplot` (an axes-level function for histograms).\n",
            "  warnings.warn(msg, FutureWarning)\n",
            "/usr/local/lib/python3.7/dist-packages/seaborn/_decorators.py:43: FutureWarning: Pass the following variable as a keyword arg: x. From version 0.12, the only valid positional argument will be `data`, and passing other arguments without an explicit keyword will result in an error or misinterpretation.\n",
            "  FutureWarning\n",
            "/usr/local/lib/python3.7/dist-packages/seaborn/distributions.py:2557: FutureWarning: `distplot` is a deprecated function and will be removed in a future version. Please adapt your code to use either `displot` (a figure-level function with similar flexibility) or `histplot` (an axes-level function for histograms).\n",
            "  warnings.warn(msg, FutureWarning)\n",
            "/usr/local/lib/python3.7/dist-packages/seaborn/_decorators.py:43: FutureWarning: Pass the following variable as a keyword arg: x. From version 0.12, the only valid positional argument will be `data`, and passing other arguments without an explicit keyword will result in an error or misinterpretation.\n",
            "  FutureWarning\n",
            "/usr/local/lib/python3.7/dist-packages/seaborn/distributions.py:2557: FutureWarning: `distplot` is a deprecated function and will be removed in a future version. Please adapt your code to use either `displot` (a figure-level function with similar flexibility) or `histplot` (an axes-level function for histograms).\n",
            "  warnings.warn(msg, FutureWarning)\n",
            "/usr/local/lib/python3.7/dist-packages/seaborn/_decorators.py:43: FutureWarning: Pass the following variable as a keyword arg: x. From version 0.12, the only valid positional argument will be `data`, and passing other arguments without an explicit keyword will result in an error or misinterpretation.\n",
            "  FutureWarning\n",
            "/usr/local/lib/python3.7/dist-packages/seaborn/distributions.py:2557: FutureWarning: `distplot` is a deprecated function and will be removed in a future version. Please adapt your code to use either `displot` (a figure-level function with similar flexibility) or `histplot` (an axes-level function for histograms).\n",
            "  warnings.warn(msg, FutureWarning)\n",
            "/usr/local/lib/python3.7/dist-packages/seaborn/_decorators.py:43: FutureWarning: Pass the following variable as a keyword arg: x. From version 0.12, the only valid positional argument will be `data`, and passing other arguments without an explicit keyword will result in an error or misinterpretation.\n",
            "  FutureWarning\n",
            "/usr/local/lib/python3.7/dist-packages/seaborn/distributions.py:2557: FutureWarning: `distplot` is a deprecated function and will be removed in a future version. Please adapt your code to use either `displot` (a figure-level function with similar flexibility) or `histplot` (an axes-level function for histograms).\n",
            "  warnings.warn(msg, FutureWarning)\n",
            "/usr/local/lib/python3.7/dist-packages/seaborn/_decorators.py:43: FutureWarning: Pass the following variable as a keyword arg: x. From version 0.12, the only valid positional argument will be `data`, and passing other arguments without an explicit keyword will result in an error or misinterpretation.\n",
            "  FutureWarning\n"
          ],
          "name": "stderr"
        },
        {
          "output_type": "display_data",
          "data": {
            "image/png": "[encoded data removed]",
            "text/plain": [
              "<Figure size 864x1008 with 14 Axes>"
            ]
          },
          "metadata": {
            "tags": [],
            "needs_background": "light"
          }
        }
      ]
    },
    {
      "cell_type": "code",
      "metadata": {
        "colab": {
          "base_uri": "https://localhost:8080/"
        },
        "id": "14JGiSmTWqla",
        "outputId": "fc337950-8550-47a2-96f6-33ac40807c73"
      },
      "source": [
        "#Skew\n",
        "\n",
        "df1.skew()"
      ],
      "execution_count": null,
      "outputs": [
        {
          "output_type": "execute_result",
          "data": {
            "text/plain": [
              "ID                         0.017670\n",
              "loan_amnt                  0.686590\n",
              "interest_rate              0.426024\n",
              "annual_income             56.671147\n",
              "debt_to_income             5.005686\n",
              "delinq_2yrs                5.659111\n",
              "public_records            10.940404\n",
              "revolving_balance         24.717052\n",
              "total_acc                  0.892771\n",
              "interest_receive           2.835085\n",
              "last_week_pay              1.022865\n",
              "total_current_balance      4.549702\n",
              "total_revolving_limit    118.212652\n",
              "default                    1.233702\n",
              "dtype: float64"
            ]
          },
          "metadata": {
            "tags": []
          },
          "execution_count": 20
        }
      ]
    },
    {
      "cell_type": "code",
      "metadata": {
        "id": "EHOaXpH3Wqla"
      },
      "source": [
        "\n"
      ],
      "execution_count": null,
      "outputs": []
    },
    {
      "cell_type": "code",
      "metadata": {
        "colab": {
          "base_uri": "https://localhost:8080/",
          "height": 503
        },
        "id": "yuBHAAifWqla",
        "outputId": "5b4f10e3-24d1-4342-aa44-28b153775a48"
      },
      "source": [
        "# Multi- Variate Analysis\n",
        "# Check for correlation of variable\n",
        "# pearson correlation - linear relation between numeric variables only \n",
        "\n",
        "df1.corr(method='pearson')"
      ],
      "execution_count": null,
      "outputs": [
        {
          "output_type": "execute_result",
          "data": {
            "text/html": [
              "<div>\n",
              "<style scoped>\n",
              "    .dataframe tbody tr th:only-of-type {\n",
              "        vertical-align: middle;\n",
              "    }\n",
              "\n",
              "    .dataframe tbody tr th {\n",
              "        vertical-align: top;\n",
              "    }\n",
              "\n",
              "    .dataframe thead th {\n",
              "        text-align: right;\n",
              "    }\n",
              "</style>\n",
              "<table border=\"1\" class=\"dataframe\">\n",
              "  <thead>\n",
              "    <tr style=\"text-align: right;\">\n",
              "      <th></th>\n",
              "      <th>ID</th>\n",
              "      <th>loan_amnt</th>\n",
              "      <th>interest_rate</th>\n",
              "      <th>annual_income</th>\n",
              "      <th>debt_to_income</th>\n",
              "      <th>delinq_2yrs</th>\n",
              "      <th>public_records</th>\n",
              "      <th>revolving_balance</th>\n",
              "      <th>total_acc</th>\n",
              "      <th>interest_receive</th>\n",
              "      <th>last_week_pay</th>\n",
              "      <th>total_current_balance</th>\n",
              "      <th>total_revolving_limit</th>\n",
              "      <th>default</th>\n",
              "    </tr>\n",
              "  </thead>\n",
              "  <tbody>\n",
              "    <tr>\n",
              "      <th>ID</th>\n",
              "      <td>1.000000</td>\n",
              "      <td>0.070550</td>\n",
              "      <td>-0.140946</td>\n",
              "      <td>0.029651</td>\n",
              "      <td>0.130825</td>\n",
              "      <td>0.048395</td>\n",
              "      <td>0.085459</td>\n",
              "      <td>0.029953</td>\n",
              "      <td>0.027138</td>\n",
              "      <td>-0.462155</td>\n",
              "      <td>-0.782800</td>\n",
              "      <td>0.003717</td>\n",
              "      <td>0.029545</td>\n",
              "      <td>-0.493881</td>\n",
              "    </tr>\n",
              "    <tr>\n",
              "      <th>loan_amnt</th>\n",
              "      <td>0.070550</td>\n",
              "      <td>1.000000</td>\n",
              "      <td>0.146269</td>\n",
              "      <td>0.312600</td>\n",
              "      <td>0.036418</td>\n",
              "      <td>0.000051</td>\n",
              "      <td>-0.083575</td>\n",
              "      <td>0.313683</td>\n",
              "      <td>0.221027</td>\n",
              "      <td>0.530076</td>\n",
              "      <td>-0.050366</td>\n",
              "      <td>0.308804</td>\n",
              "      <td>0.240932</td>\n",
              "      <td>-0.093673</td>\n",
              "    </tr>\n",
              "    <tr>\n",
              "      <th>interest_rate</th>\n",
              "      <td>-0.140946</td>\n",
              "      <td>0.146269</td>\n",
              "      <td>1.000000</td>\n",
              "      <td>-0.064548</td>\n",
              "      <td>0.163057</td>\n",
              "      <td>0.055203</td>\n",
              "      <td>0.048747</td>\n",
              "      <td>-0.032946</td>\n",
              "      <td>-0.029836</td>\n",
              "      <td>0.446891</td>\n",
              "      <td>0.074183</td>\n",
              "      <td>-0.086098</td>\n",
              "      <td>-0.129055</td>\n",
              "      <td>-0.000201</td>\n",
              "    </tr>\n",
              "    <tr>\n",
              "      <th>annual_income</th>\n",
              "      <td>0.029651</td>\n",
              "      <td>0.312600</td>\n",
              "      <td>-0.064548</td>\n",
              "      <td>1.000000</td>\n",
              "      <td>-0.165572</td>\n",
              "      <td>0.047677</td>\n",
              "      <td>-0.009154</td>\n",
              "      <td>0.291281</td>\n",
              "      <td>0.175375</td>\n",
              "      <td>0.122774</td>\n",
              "      <td>-0.025010</td>\n",
              "      <td>0.407298</td>\n",
              "      <td>0.228075</td>\n",
              "      <td>-0.003014</td>\n",
              "    </tr>\n",
              "    <tr>\n",
              "      <th>debt_to_income</th>\n",
              "      <td>0.130825</td>\n",
              "      <td>0.036418</td>\n",
              "      <td>0.163057</td>\n",
              "      <td>-0.165572</td>\n",
              "      <td>1.000000</td>\n",
              "      <td>-0.015269</td>\n",
              "      <td>-0.044236</td>\n",
              "      <td>0.122731</td>\n",
              "      <td>0.214984</td>\n",
              "      <td>0.014969</td>\n",
              "      <td>-0.099769</td>\n",
              "      <td>-0.017865</td>\n",
              "      <td>0.047069</td>\n",
              "      <td>-0.132776</td>\n",
              "    </tr>\n",
              "    <tr>\n",
              "      <th>delinq_2yrs</th>\n",
              "      <td>0.048395</td>\n",
              "      <td>0.000051</td>\n",
              "      <td>0.055203</td>\n",
              "      <td>0.047677</td>\n",
              "      <td>-0.015269</td>\n",
              "      <td>1.000000</td>\n",
              "      <td>-0.009842</td>\n",
              "      <td>-0.028839</td>\n",
              "      <td>0.128916</td>\n",
              "      <td>0.002880</td>\n",
              "      <td>-0.043750</td>\n",
              "      <td>0.067947</td>\n",
              "      <td>-0.031133</td>\n",
              "      <td>-0.040747</td>\n",
              "    </tr>\n",
              "    <tr>\n",
              "      <th>public_records</th>\n",
              "      <td>0.085459</td>\n",
              "      <td>-0.083575</td>\n",
              "      <td>0.048747</td>\n",
              "      <td>-0.009154</td>\n",
              "      <td>-0.044236</td>\n",
              "      <td>-0.009842</td>\n",
              "      <td>1.000000</td>\n",
              "      <td>-0.096294</td>\n",
              "      <td>0.015716</td>\n",
              "      <td>-0.066196</td>\n",
              "      <td>-0.080061</td>\n",
              "      <td>-0.072014</td>\n",
              "      <td>-0.080367</td>\n",
              "      <td>-0.050407</td>\n",
              "    </tr>\n",
              "    <tr>\n",
              "      <th>revolving_balance</th>\n",
              "      <td>0.029953</td>\n",
              "      <td>0.313683</td>\n",
              "      <td>-0.032946</td>\n",
              "      <td>0.291281</td>\n",
              "      <td>0.122731</td>\n",
              "      <td>-0.028839</td>\n",
              "      <td>-0.096294</td>\n",
              "      <td>1.000000</td>\n",
              "      <td>0.180104</td>\n",
              "      <td>0.130156</td>\n",
              "      <td>-0.015430</td>\n",
              "      <td>0.441148</td>\n",
              "      <td>0.785215</td>\n",
              "      <td>-0.034000</td>\n",
              "    </tr>\n",
              "    <tr>\n",
              "      <th>total_acc</th>\n",
              "      <td>0.027138</td>\n",
              "      <td>0.221027</td>\n",
              "      <td>-0.029836</td>\n",
              "      <td>0.175375</td>\n",
              "      <td>0.214984</td>\n",
              "      <td>0.128916</td>\n",
              "      <td>0.015716</td>\n",
              "      <td>0.180104</td>\n",
              "      <td>1.000000</td>\n",
              "      <td>0.097986</td>\n",
              "      <td>-0.043644</td>\n",
              "      <td>0.296194</td>\n",
              "      <td>0.193711</td>\n",
              "      <td>0.000561</td>\n",
              "    </tr>\n",
              "    <tr>\n",
              "      <th>interest_receive</th>\n",
              "      <td>-0.462155</td>\n",
              "      <td>0.530076</td>\n",
              "      <td>0.446891</td>\n",
              "      <td>0.122774</td>\n",
              "      <td>0.014969</td>\n",
              "      <td>0.002880</td>\n",
              "      <td>-0.066196</td>\n",
              "      <td>0.130156</td>\n",
              "      <td>0.097986</td>\n",
              "      <td>1.000000</td>\n",
              "      <td>0.522943</td>\n",
              "      <td>0.116504</td>\n",
              "      <td>0.053091</td>\n",
              "      <td>0.041364</td>\n",
              "    </tr>\n",
              "    <tr>\n",
              "      <th>last_week_pay</th>\n",
              "      <td>-0.782800</td>\n",
              "      <td>-0.050366</td>\n",
              "      <td>0.074183</td>\n",
              "      <td>-0.025010</td>\n",
              "      <td>-0.099769</td>\n",
              "      <td>-0.043750</td>\n",
              "      <td>-0.080061</td>\n",
              "      <td>-0.015430</td>\n",
              "      <td>-0.043644</td>\n",
              "      <td>0.522943</td>\n",
              "      <td>1.000000</td>\n",
              "      <td>-0.003438</td>\n",
              "      <td>-0.018346</td>\n",
              "      <td>0.263697</td>\n",
              "    </tr>\n",
              "    <tr>\n",
              "      <th>total_current_balance</th>\n",
              "      <td>0.003717</td>\n",
              "      <td>0.308804</td>\n",
              "      <td>-0.086098</td>\n",
              "      <td>0.407298</td>\n",
              "      <td>-0.017865</td>\n",
              "      <td>0.067947</td>\n",
              "      <td>-0.072014</td>\n",
              "      <td>0.441148</td>\n",
              "      <td>0.296194</td>\n",
              "      <td>0.116504</td>\n",
              "      <td>-0.003438</td>\n",
              "      <td>1.000000</td>\n",
              "      <td>0.352051</td>\n",
              "      <td>0.018321</td>\n",
              "    </tr>\n",
              "    <tr>\n",
              "      <th>total_revolving_limit</th>\n",
              "      <td>0.029545</td>\n",
              "      <td>0.240932</td>\n",
              "      <td>-0.129055</td>\n",
              "      <td>0.228075</td>\n",
              "      <td>0.047069</td>\n",
              "      <td>-0.031133</td>\n",
              "      <td>-0.080367</td>\n",
              "      <td>0.785215</td>\n",
              "      <td>0.193711</td>\n",
              "      <td>0.053091</td>\n",
              "      <td>-0.018346</td>\n",
              "      <td>0.352051</td>\n",
              "      <td>1.000000</td>\n",
              "      <td>-0.009337</td>\n",
              "    </tr>\n",
              "    <tr>\n",
              "      <th>default</th>\n",
              "      <td>-0.493881</td>\n",
              "      <td>-0.093673</td>\n",
              "      <td>-0.000201</td>\n",
              "      <td>-0.003014</td>\n",
              "      <td>-0.132776</td>\n",
              "      <td>-0.040747</td>\n",
              "      <td>-0.050407</td>\n",
              "      <td>-0.034000</td>\n",
              "      <td>0.000561</td>\n",
              "      <td>0.041364</td>\n",
              "      <td>0.263697</td>\n",
              "      <td>0.018321</td>\n",
              "      <td>-0.009337</td>\n",
              "      <td>1.000000</td>\n",
              "    </tr>\n",
              "  </tbody>\n",
              "</table>\n",
              "</div>"
            ],
            "text/plain": [
              "                             ID  loan_amnt  ...  total_revolving_limit   default\n",
              "ID                     1.000000   0.070550  ...               0.029545 -0.493881\n",
              "loan_amnt              0.070550   1.000000  ...               0.240932 -0.093673\n",
              "interest_rate         -0.140946   0.146269  ...              -0.129055 -0.000201\n",
              "annual_income          0.029651   0.312600  ...               0.228075 -0.003014\n",
              "debt_to_income         0.130825   0.036418  ...               0.047069 -0.132776\n",
              "delinq_2yrs            0.048395   0.000051  ...              -0.031133 -0.040747\n",
              "public_records         0.085459  -0.083575  ...              -0.080367 -0.050407\n",
              "revolving_balance      0.029953   0.313683  ...               0.785215 -0.034000\n",
              "total_acc              0.027138   0.221027  ...               0.193711  0.000561\n",
              "interest_receive      -0.462155   0.530076  ...               0.053091  0.041364\n",
              "last_week_pay         -0.782800  -0.050366  ...              -0.018346  0.263697\n",
              "total_current_balance  0.003717   0.308804  ...               0.352051  0.018321\n",
              "total_revolving_limit  0.029545   0.240932  ...               1.000000 -0.009337\n",
              "default               -0.493881  -0.093673  ...              -0.009337  1.000000\n",
              "\n",
              "[14 rows x 14 columns]"
            ]
          },
          "metadata": {
            "tags": []
          },
          "execution_count": 21
        }
      ]
    },
    {
      "cell_type": "code",
      "metadata": {
        "colab": {
          "base_uri": "https://localhost:8080/",
          "height": 711
        },
        "id": "04MbCdYIWqlb",
        "outputId": "77cadd03-c9d2-45fe-cb93-817e3cf70c3e"
      },
      "source": [
        "#heatmap\n",
        "\n",
        "plt.subplots(figsize=(10,10))\n",
        "sns.heatmap(df1.corr(), annot=True, fmt='.2f')  # plot the correlation coefficients as a heatmap"
      ],
      "execution_count": null,
      "outputs": [
        {
          "output_type": "execute_result",
          "data": {
            "text/plain": [
              "<matplotlib.axes._subplots.AxesSubplot at 0x7f320a7a2410>"
            ]
          },
          "metadata": {
            "tags": []
          },
          "execution_count": 22
        },
        {
          "output_type": "display_data",
          "data": {
            "image/png": "[encoded data removed]",
            "text/plain": [
              "<Figure size 720x720 with 2 Axes>"
            ]
          },
          "metadata": {
            "tags": [],
            "needs_background": "light"
          }
        }
      ]
    },
    {
      "cell_type": "code",
      "metadata": {
        "id": "8fVSwBmvWqlb"
      },
      "source": [
        "# Highest correlation is between: \n",
        "# 2nd Highest correlation is between: \n",
        "# This heaptmap/table clearly shows the presence of multi collinearity in the dataset. which impacts the model\n",
        "# Lowest correlation is between:table and depth =-0.30"
      ],
      "execution_count": null,
      "outputs": []
    },
    {
      "cell_type": "code",
      "metadata": {
        "id": "eLIEqo5BWqlb"
      },
      "source": [
        "# Data Distribution\n",
        "# Pair Plot for continious variables\n",
        "# sns.pairplot(df1)\n",
        "# plt.show()"
      ],
      "execution_count": null,
      "outputs": []
    },
    {
      "cell_type": "code",
      "metadata": {
        "id": "0sP1z8aaWqlc"
      },
      "source": [
        "# Univariate Graphs (Single Variable graphs)"
      ],
      "execution_count": null,
      "outputs": []
    },
    {
      "cell_type": "code",
      "metadata": {
        "id": "BvROlykFWqlc"
      },
      "source": [
        "# Do you think scaling is necessary?"
      ],
      "execution_count": null,
      "outputs": []
    },
    {
      "cell_type": "code",
      "metadata": {
        "colab": {
          "base_uri": "https://localhost:8080/",
          "height": 297
        },
        "id": "VtMp6S-OWqlc",
        "outputId": "9527efe9-46fc-4277-83ca-f4d25d76ebdd"
      },
      "source": [
        "df1.describe()"
      ],
      "execution_count": null,
      "outputs": [
        {
          "output_type": "execute_result",
          "data": {
            "text/html": [
              "<div>\n",
              "<style scoped>\n",
              "    .dataframe tbody tr th:only-of-type {\n",
              "        vertical-align: middle;\n",
              "    }\n",
              "\n",
              "    .dataframe tbody tr th {\n",
              "        vertical-align: top;\n",
              "    }\n",
              "\n",
              "    .dataframe thead th {\n",
              "        text-align: right;\n",
              "    }\n",
              "</style>\n",
              "<table border=\"1\" class=\"dataframe\">\n",
              "  <thead>\n",
              "    <tr style=\"text-align: right;\">\n",
              "      <th></th>\n",
              "      <th>ID</th>\n",
              "      <th>loan_amnt</th>\n",
              "      <th>interest_rate</th>\n",
              "      <th>annual_income</th>\n",
              "      <th>debt_to_income</th>\n",
              "      <th>delinq_2yrs</th>\n",
              "      <th>public_records</th>\n",
              "      <th>revolving_balance</th>\n",
              "      <th>total_acc</th>\n",
              "      <th>interest_receive</th>\n",
              "      <th>last_week_pay</th>\n",
              "      <th>total_current_balance</th>\n",
              "      <th>total_revolving_limit</th>\n",
              "      <th>default</th>\n",
              "    </tr>\n",
              "  </thead>\n",
              "  <tbody>\n",
              "    <tr>\n",
              "      <th>count</th>\n",
              "      <td>9.317400e+04</td>\n",
              "      <td>93174.000000</td>\n",
              "      <td>93174.000000</td>\n",
              "      <td>9.317400e+04</td>\n",
              "      <td>93174.000000</td>\n",
              "      <td>93174.000000</td>\n",
              "      <td>93174.000000</td>\n",
              "      <td>9.317400e+04</td>\n",
              "      <td>93174.000000</td>\n",
              "      <td>93174.000000</td>\n",
              "      <td>93174.000000</td>\n",
              "      <td>9.317400e+04</td>\n",
              "      <td>9.317400e+04</td>\n",
              "      <td>93174.000000</td>\n",
              "    </tr>\n",
              "    <tr>\n",
              "      <th>mean</th>\n",
              "      <td>3.505021e+07</td>\n",
              "      <td>14733.861378</td>\n",
              "      <td>13.233433</td>\n",
              "      <td>7.502826e+04</td>\n",
              "      <td>18.127623</td>\n",
              "      <td>0.316994</td>\n",
              "      <td>0.196121</td>\n",
              "      <td>1.685447e+04</td>\n",
              "      <td>25.248905</td>\n",
              "      <td>1747.263530</td>\n",
              "      <td>58.154882</td>\n",
              "      <td>1.392529e+05</td>\n",
              "      <td>3.208590e+04</td>\n",
              "      <td>0.237502</td>\n",
              "    </tr>\n",
              "    <tr>\n",
              "      <th>std</th>\n",
              "      <td>2.414926e+07</td>\n",
              "      <td>8428.184858</td>\n",
              "      <td>4.368728</td>\n",
              "      <td>6.945441e+04</td>\n",
              "      <td>8.563084</td>\n",
              "      <td>0.880850</td>\n",
              "      <td>0.581182</td>\n",
              "      <td>2.368907e+04</td>\n",
              "      <td>11.854934</td>\n",
              "      <td>2088.236141</td>\n",
              "      <td>43.866507</td>\n",
              "      <td>1.513077e+05</td>\n",
              "      <td>4.514904e+04</td>\n",
              "      <td>0.425555</td>\n",
              "    </tr>\n",
              "    <tr>\n",
              "      <th>min</th>\n",
              "      <td>7.073500e+04</td>\n",
              "      <td>500.000000</td>\n",
              "      <td>5.320000</td>\n",
              "      <td>1.200000e+03</td>\n",
              "      <td>0.000000</td>\n",
              "      <td>0.000000</td>\n",
              "      <td>0.000000</td>\n",
              "      <td>0.000000e+00</td>\n",
              "      <td>1.000000</td>\n",
              "      <td>0.000000</td>\n",
              "      <td>0.000000</td>\n",
              "      <td>0.000000e+00</td>\n",
              "      <td>0.000000e+00</td>\n",
              "      <td>0.000000</td>\n",
              "    </tr>\n",
              "    <tr>\n",
              "      <th>25%</th>\n",
              "      <td>1.085983e+07</td>\n",
              "      <td>8000.000000</td>\n",
              "      <td>9.990000</td>\n",
              "      <td>4.500000e+04</td>\n",
              "      <td>11.930000</td>\n",
              "      <td>0.000000</td>\n",
              "      <td>0.000000</td>\n",
              "      <td>6.433000e+03</td>\n",
              "      <td>17.000000</td>\n",
              "      <td>439.880000</td>\n",
              "      <td>22.000000</td>\n",
              "      <td>3.195300e+04</td>\n",
              "      <td>1.470000e+04</td>\n",
              "      <td>0.000000</td>\n",
              "    </tr>\n",
              "    <tr>\n",
              "      <th>50%</th>\n",
              "      <td>3.710751e+07</td>\n",
              "      <td>13000.000000</td>\n",
              "      <td>12.990000</td>\n",
              "      <td>6.400000e+04</td>\n",
              "      <td>17.640000</td>\n",
              "      <td>0.000000</td>\n",
              "      <td>0.000000</td>\n",
              "      <td>1.185600e+04</td>\n",
              "      <td>24.000000</td>\n",
              "      <td>1070.755000</td>\n",
              "      <td>48.000000</td>\n",
              "      <td>9.843500e+04</td>\n",
              "      <td>2.570000e+04</td>\n",
              "      <td>0.000000</td>\n",
              "    </tr>\n",
              "    <tr>\n",
              "      <th>75%</th>\n",
              "      <td>5.859895e+07</td>\n",
              "      <td>20000.000000</td>\n",
              "      <td>16.200000</td>\n",
              "      <td>9.000000e+04</td>\n",
              "      <td>23.890000</td>\n",
              "      <td>0.000000</td>\n",
              "      <td>0.000000</td>\n",
              "      <td>2.074500e+04</td>\n",
              "      <td>32.000000</td>\n",
              "      <td>2219.612500</td>\n",
              "      <td>83.000000</td>\n",
              "      <td>1.949948e+05</td>\n",
              "      <td>3.787500e+04</td>\n",
              "      <td>0.000000</td>\n",
              "    </tr>\n",
              "    <tr>\n",
              "      <th>max</th>\n",
              "      <td>7.351975e+07</td>\n",
              "      <td>35000.000000</td>\n",
              "      <td>28.990000</td>\n",
              "      <td>9.500000e+06</td>\n",
              "      <td>672.520000</td>\n",
              "      <td>22.000000</td>\n",
              "      <td>49.000000</td>\n",
              "      <td>2.560703e+06</td>\n",
              "      <td>119.000000</td>\n",
              "      <td>23172.310000</td>\n",
              "      <td>291.000000</td>\n",
              "      <td>8.000078e+06</td>\n",
              "      <td>9.999999e+06</td>\n",
              "      <td>1.000000</td>\n",
              "    </tr>\n",
              "  </tbody>\n",
              "</table>\n",
              "</div>"
            ],
            "text/plain": [
              "                 ID     loan_amnt  ...  total_revolving_limit       default\n",
              "count  9.317400e+04  93174.000000  ...           9.317400e+04  93174.000000\n",
              "mean   3.505021e+07  14733.861378  ...           3.208590e+04      0.237502\n",
              "std    2.414926e+07   8428.184858  ...           4.514904e+04      0.425555\n",
              "min    7.073500e+04    500.000000  ...           0.000000e+00      0.000000\n",
              "25%    1.085983e+07   8000.000000  ...           1.470000e+04      0.000000\n",
              "50%    3.710751e+07  13000.000000  ...           2.570000e+04      0.000000\n",
              "75%    5.859895e+07  20000.000000  ...           3.787500e+04      0.000000\n",
              "max    7.351975e+07  35000.000000  ...           9.999999e+06      1.000000\n",
              "\n",
              "[8 rows x 14 columns]"
            ]
          },
          "metadata": {
            "tags": []
          },
          "execution_count": 27
        }
      ]
    },
    {
      "cell_type": "code",
      "metadata": {
        "id": "R6AOB005Wqlc"
      },
      "source": [
        "# yes scaling is required as some data is in signle, double and four digits\n",
        "# The independent attributes have different units and scales of measurement\n",
        "# It is always a good practise to scale all the dimesions using Z-score or someother method to address the problem of different units"
      ],
      "execution_count": null,
      "outputs": []
    },
    {
      "cell_type": "code",
      "metadata": {
        "id": "r1QtG8DIWqld"
      },
      "source": [
        ""
      ],
      "execution_count": null,
      "outputs": []
    },
    {
      "cell_type": "code",
      "metadata": {
        "id": "TGZ7HjpZWqld"
      },
      "source": [
        ""
      ],
      "execution_count": null,
      "outputs": []
    },
    {
      "cell_type": "code",
      "metadata": {
        "id": "yEXj-ovUWqld"
      },
      "source": [
        "# Encode the data (having string values) for Modelling\n",
        "# unique values for categorical variables (datatype=object)\n",
        "# Creating all OBJECT datatype to int as LR and LDA does not accept object data type."
      ],
      "execution_count": null,
      "outputs": []
    },
    {
      "cell_type": "code",
      "metadata": {
        "colab": {
          "base_uri": "https://localhost:8080/"
        },
        "id": "xr5IlQh8Wqld",
        "outputId": "ad9ea399-f3a9-4780-f1b2-e692d28f1551"
      },
      "source": [
        "# unique values for categorical variables (datatype=object)\n",
        "\n",
        "for i in df1.columns:\n",
        "    if df1[i].dtype == 'object':\n",
        "        print('\\n')\n",
        "        print('feature:',i)\n",
        "        print(pd.Categorical(df1[i].unique()))\n",
        "        print(pd.Categorical(df1[i].unique()).codes)\n",
        "        df1[i] = pd.Categorical(df1[i]).codes  "
      ],
      "execution_count": null,
      "outputs": [
        {
          "output_type": "stream",
          "text": [
            "\n",
            "\n",
            "feature: loan_term\n",
            "['3 years', '5 years']\n",
            "Categories (2, object): ['3 years', '5 years']\n",
            "[0 1]\n",
            "\n",
            "\n",
            "feature: loan_grade\n",
            "['B', 'C', 'A', 'E', 'D', 'F', 'G']\n",
            "Categories (7, object): ['A', 'B', 'C', 'D', 'E', 'F', 'G']\n",
            "[1 2 0 4 3 5 6]\n",
            "\n",
            "\n",
            "feature: loan_subgrade\n",
            "['B2', 'C1', 'A4', 'C4', 'A2', ..., 'F1', 'G1', 'G5', 'G2', 'G4']\n",
            "Length: 35\n",
            "Categories (35, object): ['A1', 'A2', 'A3', 'A4', ..., 'G2', 'G3', 'G4', 'G5']\n",
            "[ 6 10  3 13  1 11  8  4 21  9  2 14 24  5 19 18 22  7 12 17  0 29 20 23\n",
            " 27 15 32 26 16 28 25 30 34 31 33]\n",
            "\n",
            "\n",
            "feature: job_experience\n",
            "['<5 Years', '10+ years', '6-10 years']\n",
            "Categories (3, object): ['10+ years', '6-10 years', '<5 Years']\n",
            "[2 0 1]\n",
            "\n",
            "\n",
            "feature: home_ownership\n",
            "['OWN', 'MORTGAGE', 'RENT', 'NONE', 'OTHER']\n",
            "Categories (5, object): ['MORTGAGE', 'NONE', 'OTHER', 'OWN', 'RENT']\n",
            "[3 0 4 1 2]\n",
            "\n",
            "\n",
            "feature: income_verification_status\n",
            "['Not Verified', 'Verified', 'Source Verified']\n",
            "Categories (3, object): ['Not Verified', 'Source Verified', 'Verified']\n",
            "[0 2 1]\n",
            "\n",
            "\n",
            "feature: loan_purpose\n",
            "['debt_consolidation', 'credit_card', 'other', 'home_improvement']\n",
            "Categories (4, object): ['credit_card', 'debt_consolidation', 'home_improvement', 'other']\n",
            "[1 0 3 2]\n",
            "\n",
            "\n",
            "feature: state_code\n",
            "['NC', 'SC', 'TX', 'MO', 'IL', ..., 'AR', 'NH', 'ME', 'ND', 'ID']\n",
            "Length: 50\n",
            "Categories (50, object): ['AK', 'AL', 'AR', 'AZ', ..., 'WA', 'WI', 'WV', 'WY']\n",
            "[26 39 42 23 13 33  6  4 44 10 36 32 17 38 14  3 35 22 49 11 21  5 24 30\n",
            " 46 43 31 16 18  9 37 47 34  8  7 48 19 41 28  1 15 40 45 25  0  2 29 20\n",
            " 27 12]\n",
            "\n",
            "\n",
            "feature: application_type\n",
            "['INDIVIDUAL', 'JOINT']\n",
            "Categories (2, object): ['INDIVIDUAL', 'JOINT']\n",
            "[0 1]\n"
          ],
          "name": "stdout"
        }
      ]
    },
    {
      "cell_type": "code",
      "metadata": {
        "colab": {
          "base_uri": "https://localhost:8080/",
          "height": 379
        },
        "id": "INf5irRJWqle",
        "outputId": "77872829-d5bb-45c6-f0e1-d8947b8b3fd3"
      },
      "source": [
        "df1.head(10)"
      ],
      "execution_count": null,
      "outputs": [
        {
          "output_type": "execute_result",
          "data": {
            "text/html": [
              "<div>\n",
              "<style scoped>\n",
              "    .dataframe tbody tr th:only-of-type {\n",
              "        vertical-align: middle;\n",
              "    }\n",
              "\n",
              "    .dataframe tbody tr th {\n",
              "        vertical-align: top;\n",
              "    }\n",
              "\n",
              "    .dataframe thead th {\n",
              "        text-align: right;\n",
              "    }\n",
              "</style>\n",
              "<table border=\"1\" class=\"dataframe\">\n",
              "  <thead>\n",
              "    <tr style=\"text-align: right;\">\n",
              "      <th></th>\n",
              "      <th>ID</th>\n",
              "      <th>loan_amnt</th>\n",
              "      <th>loan_term</th>\n",
              "      <th>interest_rate</th>\n",
              "      <th>loan_grade</th>\n",
              "      <th>loan_subgrade</th>\n",
              "      <th>job_experience</th>\n",
              "      <th>home_ownership</th>\n",
              "      <th>annual_income</th>\n",
              "      <th>income_verification_status</th>\n",
              "      <th>loan_purpose</th>\n",
              "      <th>state_code</th>\n",
              "      <th>debt_to_income</th>\n",
              "      <th>delinq_2yrs</th>\n",
              "      <th>public_records</th>\n",
              "      <th>revolving_balance</th>\n",
              "      <th>total_acc</th>\n",
              "      <th>interest_receive</th>\n",
              "      <th>application_type</th>\n",
              "      <th>last_week_pay</th>\n",
              "      <th>total_current_balance</th>\n",
              "      <th>total_revolving_limit</th>\n",
              "      <th>default</th>\n",
              "    </tr>\n",
              "  </thead>\n",
              "  <tbody>\n",
              "    <tr>\n",
              "      <th>0</th>\n",
              "      <td>72199369</td>\n",
              "      <td>9000</td>\n",
              "      <td>0</td>\n",
              "      <td>9.17</td>\n",
              "      <td>1</td>\n",
              "      <td>6</td>\n",
              "      <td>2</td>\n",
              "      <td>3</td>\n",
              "      <td>85000.0</td>\n",
              "      <td>0</td>\n",
              "      <td>1</td>\n",
              "      <td>26</td>\n",
              "      <td>26.68</td>\n",
              "      <td>0.0</td>\n",
              "      <td>0.0</td>\n",
              "      <td>39519</td>\n",
              "      <td>20.0</td>\n",
              "      <td>59.60</td>\n",
              "      <td>0</td>\n",
              "      <td>4.0</td>\n",
              "      <td>95493.0</td>\n",
              "      <td>84100.0</td>\n",
              "      <td>0</td>\n",
              "    </tr>\n",
              "    <tr>\n",
              "      <th>1</th>\n",
              "      <td>14257956</td>\n",
              "      <td>18000</td>\n",
              "      <td>0</td>\n",
              "      <td>13.65</td>\n",
              "      <td>2</td>\n",
              "      <td>10</td>\n",
              "      <td>2</td>\n",
              "      <td>3</td>\n",
              "      <td>64000.0</td>\n",
              "      <td>2</td>\n",
              "      <td>1</td>\n",
              "      <td>39</td>\n",
              "      <td>31.67</td>\n",
              "      <td>0.0</td>\n",
              "      <td>1.0</td>\n",
              "      <td>9783</td>\n",
              "      <td>24.0</td>\n",
              "      <td>3348.25</td>\n",
              "      <td>0</td>\n",
              "      <td>95.0</td>\n",
              "      <td>185433.0</td>\n",
              "      <td>13500.0</td>\n",
              "      <td>0</td>\n",
              "    </tr>\n",
              "    <tr>\n",
              "      <th>2</th>\n",
              "      <td>66216451</td>\n",
              "      <td>16000</td>\n",
              "      <td>0</td>\n",
              "      <td>7.26</td>\n",
              "      <td>0</td>\n",
              "      <td>3</td>\n",
              "      <td>2</td>\n",
              "      <td>0</td>\n",
              "      <td>150000.0</td>\n",
              "      <td>1</td>\n",
              "      <td>1</td>\n",
              "      <td>42</td>\n",
              "      <td>19.70</td>\n",
              "      <td>2.0</td>\n",
              "      <td>0.0</td>\n",
              "      <td>13641</td>\n",
              "      <td>27.0</td>\n",
              "      <td>276.69</td>\n",
              "      <td>0</td>\n",
              "      <td>13.0</td>\n",
              "      <td>180519.0</td>\n",
              "      <td>19300.0</td>\n",
              "      <td>0</td>\n",
              "    </tr>\n",
              "    <tr>\n",
              "      <th>3</th>\n",
              "      <td>46974169</td>\n",
              "      <td>25000</td>\n",
              "      <td>0</td>\n",
              "      <td>13.99</td>\n",
              "      <td>2</td>\n",
              "      <td>13</td>\n",
              "      <td>2</td>\n",
              "      <td>0</td>\n",
              "      <td>59800.0</td>\n",
              "      <td>2</td>\n",
              "      <td>1</td>\n",
              "      <td>23</td>\n",
              "      <td>37.39</td>\n",
              "      <td>0.0</td>\n",
              "      <td>0.0</td>\n",
              "      <td>35020</td>\n",
              "      <td>35.0</td>\n",
              "      <td>1106.72</td>\n",
              "      <td>0</td>\n",
              "      <td>17.0</td>\n",
              "      <td>183208.0</td>\n",
              "      <td>55400.0</td>\n",
              "      <td>0</td>\n",
              "    </tr>\n",
              "    <tr>\n",
              "      <th>4</th>\n",
              "      <td>46725961</td>\n",
              "      <td>17000</td>\n",
              "      <td>0</td>\n",
              "      <td>6.39</td>\n",
              "      <td>0</td>\n",
              "      <td>1</td>\n",
              "      <td>0</td>\n",
              "      <td>0</td>\n",
              "      <td>72000.0</td>\n",
              "      <td>1</td>\n",
              "      <td>0</td>\n",
              "      <td>42</td>\n",
              "      <td>8.92</td>\n",
              "      <td>0.0</td>\n",
              "      <td>0.0</td>\n",
              "      <td>23990</td>\n",
              "      <td>26.0</td>\n",
              "      <td>725.29</td>\n",
              "      <td>0</td>\n",
              "      <td>39.0</td>\n",
              "      <td>23990.0</td>\n",
              "      <td>81300.0</td>\n",
              "      <td>0</td>\n",
              "    </tr>\n",
              "    <tr>\n",
              "      <th>5</th>\n",
              "      <td>56469197</td>\n",
              "      <td>10000</td>\n",
              "      <td>0</td>\n",
              "      <td>12.69</td>\n",
              "      <td>2</td>\n",
              "      <td>11</td>\n",
              "      <td>2</td>\n",
              "      <td>3</td>\n",
              "      <td>56000.0</td>\n",
              "      <td>0</td>\n",
              "      <td>1</td>\n",
              "      <td>13</td>\n",
              "      <td>16.16</td>\n",
              "      <td>0.0</td>\n",
              "      <td>1.0</td>\n",
              "      <td>6643</td>\n",
              "      <td>48.0</td>\n",
              "      <td>590.50</td>\n",
              "      <td>0</td>\n",
              "      <td>26.0</td>\n",
              "      <td>24054.0</td>\n",
              "      <td>25167.0</td>\n",
              "      <td>0</td>\n",
              "    </tr>\n",
              "    <tr>\n",
              "      <th>6</th>\n",
              "      <td>3409695</td>\n",
              "      <td>15000</td>\n",
              "      <td>0</td>\n",
              "      <td>11.14</td>\n",
              "      <td>1</td>\n",
              "      <td>6</td>\n",
              "      <td>0</td>\n",
              "      <td>4</td>\n",
              "      <td>100000.0</td>\n",
              "      <td>0</td>\n",
              "      <td>1</td>\n",
              "      <td>42</td>\n",
              "      <td>10.51</td>\n",
              "      <td>0.0</td>\n",
              "      <td>1.0</td>\n",
              "      <td>14088</td>\n",
              "      <td>14.0</td>\n",
              "      <td>1020.57</td>\n",
              "      <td>0</td>\n",
              "      <td>35.0</td>\n",
              "      <td>14519.0</td>\n",
              "      <td>15200.0</td>\n",
              "      <td>1</td>\n",
              "    </tr>\n",
              "    <tr>\n",
              "      <th>7</th>\n",
              "      <td>26276447</td>\n",
              "      <td>10000</td>\n",
              "      <td>0</td>\n",
              "      <td>6.49</td>\n",
              "      <td>0</td>\n",
              "      <td>1</td>\n",
              "      <td>0</td>\n",
              "      <td>0</td>\n",
              "      <td>109000.0</td>\n",
              "      <td>0</td>\n",
              "      <td>0</td>\n",
              "      <td>33</td>\n",
              "      <td>10.84</td>\n",
              "      <td>1.0</td>\n",
              "      <td>0.0</td>\n",
              "      <td>12337</td>\n",
              "      <td>26.0</td>\n",
              "      <td>728.68</td>\n",
              "      <td>0</td>\n",
              "      <td>74.0</td>\n",
              "      <td>210751.0</td>\n",
              "      <td>18600.0</td>\n",
              "      <td>0</td>\n",
              "    </tr>\n",
              "    <tr>\n",
              "      <th>8</th>\n",
              "      <td>48393405</td>\n",
              "      <td>12000</td>\n",
              "      <td>0</td>\n",
              "      <td>10.99</td>\n",
              "      <td>1</td>\n",
              "      <td>8</td>\n",
              "      <td>2</td>\n",
              "      <td>4</td>\n",
              "      <td>45000.0</td>\n",
              "      <td>2</td>\n",
              "      <td>0</td>\n",
              "      <td>6</td>\n",
              "      <td>8.21</td>\n",
              "      <td>0.0</td>\n",
              "      <td>0.0</td>\n",
              "      <td>10550</td>\n",
              "      <td>12.0</td>\n",
              "      <td>879.15</td>\n",
              "      <td>0</td>\n",
              "      <td>39.0</td>\n",
              "      <td>10550.0</td>\n",
              "      <td>22000.0</td>\n",
              "      <td>0</td>\n",
              "    </tr>\n",
              "    <tr>\n",
              "      <th>9</th>\n",
              "      <td>15140624</td>\n",
              "      <td>7000</td>\n",
              "      <td>0</td>\n",
              "      <td>12.49</td>\n",
              "      <td>1</td>\n",
              "      <td>8</td>\n",
              "      <td>2</td>\n",
              "      <td>0</td>\n",
              "      <td>53000.0</td>\n",
              "      <td>0</td>\n",
              "      <td>1</td>\n",
              "      <td>42</td>\n",
              "      <td>18.84</td>\n",
              "      <td>0.0</td>\n",
              "      <td>0.0</td>\n",
              "      <td>12108</td>\n",
              "      <td>20.0</td>\n",
              "      <td>1186.80</td>\n",
              "      <td>0</td>\n",
              "      <td>96.0</td>\n",
              "      <td>145801.0</td>\n",
              "      <td>16800.0</td>\n",
              "      <td>0</td>\n",
              "    </tr>\n",
              "  </tbody>\n",
              "</table>\n",
              "</div>"
            ],
            "text/plain": [
              "         ID  loan_amnt  ...  total_revolving_limit  default\n",
              "0  72199369       9000  ...                84100.0        0\n",
              "1  14257956      18000  ...                13500.0        0\n",
              "2  66216451      16000  ...                19300.0        0\n",
              "3  46974169      25000  ...                55400.0        0\n",
              "4  46725961      17000  ...                81300.0        0\n",
              "5  56469197      10000  ...                25167.0        0\n",
              "6   3409695      15000  ...                15200.0        1\n",
              "7  26276447      10000  ...                18600.0        0\n",
              "8  48393405      12000  ...                22000.0        0\n",
              "9  15140624       7000  ...                16800.0        0\n",
              "\n",
              "[10 rows x 23 columns]"
            ]
          },
          "metadata": {
            "tags": []
          },
          "execution_count": 31
        }
      ]
    },
    {
      "cell_type": "code",
      "metadata": {
        "colab": {
          "base_uri": "https://localhost:8080/"
        },
        "id": "XnPSgdJnWqle",
        "outputId": "019b6127-7b41-417e-ec13-b9b12f2ba4a0"
      },
      "source": [
        "# Converting categorical to dummy variables\n",
        "\n",
        "df1 = pd.get_dummies(df1, columns=['loan_term','loan_grade','loan_subgrade','job_experience', 'home_ownership','income_verification_status','loan_purpose','state_code','application_type'],drop_first=True)\n",
        "\n",
        "df1.info()"
      ],
      "execution_count": null,
      "outputs": [
        {
          "output_type": "stream",
          "text": [
            "<class 'pandas.core.frame.DataFrame'>\n",
            "RangeIndex: 93174 entries, 0 to 93173\n",
            "Columns: 116 entries, ID to application_type_1\n",
            "dtypes: float64(10), int64(4), uint8(102)\n",
            "memory usage: 19.0 MB\n"
          ],
          "name": "stdout"
        }
      ]
    },
    {
      "cell_type": "code",
      "metadata": {
        "colab": {
          "base_uri": "https://localhost:8080/",
          "height": 419
        },
        "id": "F7DN8Wr6Wqle",
        "outputId": "eb6439ef-1a8e-4d25-83fd-af64973cabc7"
      },
      "source": [
        "#summary\n",
        "\n",
        "df1.describe().transpose()"
      ],
      "execution_count": null,
      "outputs": [
        {
          "output_type": "execute_result",
          "data": {
            "text/html": [
              "<div>\n",
              "<style scoped>\n",
              "    .dataframe tbody tr th:only-of-type {\n",
              "        vertical-align: middle;\n",
              "    }\n",
              "\n",
              "    .dataframe tbody tr th {\n",
              "        vertical-align: top;\n",
              "    }\n",
              "\n",
              "    .dataframe thead th {\n",
              "        text-align: right;\n",
              "    }\n",
              "</style>\n",
              "<table border=\"1\" class=\"dataframe\">\n",
              "  <thead>\n",
              "    <tr style=\"text-align: right;\">\n",
              "      <th></th>\n",
              "      <th>count</th>\n",
              "      <th>mean</th>\n",
              "      <th>std</th>\n",
              "      <th>min</th>\n",
              "      <th>25%</th>\n",
              "      <th>50%</th>\n",
              "      <th>75%</th>\n",
              "      <th>max</th>\n",
              "    </tr>\n",
              "  </thead>\n",
              "  <tbody>\n",
              "    <tr>\n",
              "      <th>ID</th>\n",
              "      <td>93174.0</td>\n",
              "      <td>3.505021e+07</td>\n",
              "      <td>2.414926e+07</td>\n",
              "      <td>70735.00</td>\n",
              "      <td>10859832.50</td>\n",
              "      <td>37107507.00</td>\n",
              "      <td>58598949.50</td>\n",
              "      <td>73519746.00</td>\n",
              "    </tr>\n",
              "    <tr>\n",
              "      <th>loan_amnt</th>\n",
              "      <td>93174.0</td>\n",
              "      <td>1.473386e+04</td>\n",
              "      <td>8.428185e+03</td>\n",
              "      <td>500.00</td>\n",
              "      <td>8000.00</td>\n",
              "      <td>13000.00</td>\n",
              "      <td>20000.00</td>\n",
              "      <td>35000.00</td>\n",
              "    </tr>\n",
              "    <tr>\n",
              "      <th>interest_rate</th>\n",
              "      <td>93174.0</td>\n",
              "      <td>1.323343e+01</td>\n",
              "      <td>4.368728e+00</td>\n",
              "      <td>5.32</td>\n",
              "      <td>9.99</td>\n",
              "      <td>12.99</td>\n",
              "      <td>16.20</td>\n",
              "      <td>28.99</td>\n",
              "    </tr>\n",
              "    <tr>\n",
              "      <th>annual_income</th>\n",
              "      <td>93174.0</td>\n",
              "      <td>7.502826e+04</td>\n",
              "      <td>6.945441e+04</td>\n",
              "      <td>1200.00</td>\n",
              "      <td>45000.00</td>\n",
              "      <td>64000.00</td>\n",
              "      <td>90000.00</td>\n",
              "      <td>9500000.00</td>\n",
              "    </tr>\n",
              "    <tr>\n",
              "      <th>debt_to_income</th>\n",
              "      <td>93174.0</td>\n",
              "      <td>1.812762e+01</td>\n",
              "      <td>8.563084e+00</td>\n",
              "      <td>0.00</td>\n",
              "      <td>11.93</td>\n",
              "      <td>17.64</td>\n",
              "      <td>23.89</td>\n",
              "      <td>672.52</td>\n",
              "    </tr>\n",
              "    <tr>\n",
              "      <th>...</th>\n",
              "      <td>...</td>\n",
              "      <td>...</td>\n",
              "      <td>...</td>\n",
              "      <td>...</td>\n",
              "      <td>...</td>\n",
              "      <td>...</td>\n",
              "      <td>...</td>\n",
              "      <td>...</td>\n",
              "    </tr>\n",
              "    <tr>\n",
              "      <th>state_code_46</th>\n",
              "      <td>93174.0</td>\n",
              "      <td>2.187305e-02</td>\n",
              "      <td>1.462698e-01</td>\n",
              "      <td>0.00</td>\n",
              "      <td>0.00</td>\n",
              "      <td>0.00</td>\n",
              "      <td>0.00</td>\n",
              "      <td>1.00</td>\n",
              "    </tr>\n",
              "    <tr>\n",
              "      <th>state_code_47</th>\n",
              "      <td>93174.0</td>\n",
              "      <td>1.294353e-02</td>\n",
              "      <td>1.130315e-01</td>\n",
              "      <td>0.00</td>\n",
              "      <td>0.00</td>\n",
              "      <td>0.00</td>\n",
              "      <td>0.00</td>\n",
              "      <td>1.00</td>\n",
              "    </tr>\n",
              "    <tr>\n",
              "      <th>state_code_48</th>\n",
              "      <td>93174.0</td>\n",
              "      <td>4.937000e-03</td>\n",
              "      <td>7.009050e-02</td>\n",
              "      <td>0.00</td>\n",
              "      <td>0.00</td>\n",
              "      <td>0.00</td>\n",
              "      <td>0.00</td>\n",
              "      <td>1.00</td>\n",
              "    </tr>\n",
              "    <tr>\n",
              "      <th>state_code_49</th>\n",
              "      <td>93174.0</td>\n",
              "      <td>2.275313e-03</td>\n",
              "      <td>4.764620e-02</td>\n",
              "      <td>0.00</td>\n",
              "      <td>0.00</td>\n",
              "      <td>0.00</td>\n",
              "      <td>0.00</td>\n",
              "      <td>1.00</td>\n",
              "    </tr>\n",
              "    <tr>\n",
              "      <th>application_type_1</th>\n",
              "      <td>93174.0</td>\n",
              "      <td>6.010260e-04</td>\n",
              "      <td>2.450860e-02</td>\n",
              "      <td>0.00</td>\n",
              "      <td>0.00</td>\n",
              "      <td>0.00</td>\n",
              "      <td>0.00</td>\n",
              "      <td>1.00</td>\n",
              "    </tr>\n",
              "  </tbody>\n",
              "</table>\n",
              "<p>116 rows × 8 columns</p>\n",
              "</div>"
            ],
            "text/plain": [
              "                      count          mean  ...          75%          max\n",
              "ID                  93174.0  3.505021e+07  ...  58598949.50  73519746.00\n",
              "loan_amnt           93174.0  1.473386e+04  ...     20000.00     35000.00\n",
              "interest_rate       93174.0  1.323343e+01  ...        16.20        28.99\n",
              "annual_income       93174.0  7.502826e+04  ...     90000.00   9500000.00\n",
              "debt_to_income      93174.0  1.812762e+01  ...        23.89       672.52\n",
              "...                     ...           ...  ...          ...          ...\n",
              "state_code_46       93174.0  2.187305e-02  ...         0.00         1.00\n",
              "state_code_47       93174.0  1.294353e-02  ...         0.00         1.00\n",
              "state_code_48       93174.0  4.937000e-03  ...         0.00         1.00\n",
              "state_code_49       93174.0  2.275313e-03  ...         0.00         1.00\n",
              "application_type_1  93174.0  6.010260e-04  ...         0.00         1.00\n",
              "\n",
              "[116 rows x 8 columns]"
            ]
          },
          "metadata": {
            "tags": []
          },
          "execution_count": 33
        }
      ]
    },
    {
      "cell_type": "code",
      "metadata": {
        "colab": {
          "base_uri": "https://localhost:8080/",
          "height": 621
        },
        "id": "kGAJ2nCiWqle",
        "outputId": "35e65f23-cc0e-4378-c8cc-09918510b678"
      },
      "source": [
        "# construct box plot for continuous variables\n",
        "\n",
        "cont = df1.dtypes[(df1.dtypes!='uint8') & (df1.dtypes!='bool')].index\n",
        "\n",
        "plt.figure(figsize=(10,10))\n",
        "df1[cont].boxplot(vert=0)\n",
        "plt.title('With Outliers',fontsize=12)\n",
        "plt.show()"
      ],
      "execution_count": null,
      "outputs": [
        {
          "output_type": "display_data",
          "data": {
            "image/png": "[encoded data removed]",
            "text/plain": [
              "<Figure size 720x720 with 1 Axes>"
            ]
          },
          "metadata": {
            "tags": [],
            "needs_background": "light"
          }
        }
      ]
    },
    {
      "cell_type": "code",
      "metadata": {
        "id": "cTnpPFPqWqlf"
      },
      "source": [
        "#Outlier treatment :  \n",
        "#define a custom function- If for a particular column the max value is greater than that assign max value,same logic for min value\n",
        "#These outliers value needs to be teated and there are several ways of treating them:\n",
        "#1. Drop the outlier value\n",
        "#2. Replace the outlier value using the IQR"
      ],
      "execution_count": null,
      "outputs": []
    },
    {
      "cell_type": "code",
      "metadata": {
        "id": "8h2OJLVBWqlf"
      },
      "source": [
        "#Outlier Treatment\n",
        "def remove_outlier(col):\n",
        "    sorted(col)\n",
        "    Q1,Q3=np.percentile(col,[25,75])\n",
        "    IQR=Q3-Q1\n",
        "    lower_range= Q1-(1.5 * IQR)\n",
        "    upper_range= Q3+(1.5 * IQR)\n",
        "    return lower_range, upper_range"
      ],
      "execution_count": null,
      "outputs": []
    },
    {
      "cell_type": "code",
      "metadata": {
        "id": "qNsy-fVzWqlf"
      },
      "source": [
        "#Outlier Treatment\n",
        "\n",
        "#for column in df1[cont].columns:\n",
        "#    lr,ur=remove_outlier(df1[column])\n",
        "#    df1[column]=np.where(df1[column]>ur,ur,df1[column])\n",
        "#    df1[column]=np.where(df1[column]<lr,lr,df1[column])"
      ],
      "execution_count": null,
      "outputs": []
    },
    {
      "cell_type": "code",
      "metadata": {
        "id": "PUpX0fFuWqlf"
      },
      "source": [
        "lrApps,urApps=remove_outlier(df1['interest_rate'])\n",
        "df1['interest_rate']=np.where(df1['interest_rate']>urApps,urApps,df1['interest_rate'])\n",
        "df1['interest_rate']=np.where(df1['interest_rate']<lrApps,lrApps,df1['interest_rate'])\n",
        "\n",
        "lrApps,urApps=remove_outlier(df1['annual_income'])\n",
        "df1['annual_income']=np.where(df1['annual_income']>urApps,urApps,df1['annual_income'])\n",
        "df1['annual_income']=np.where(df1['annual_income']<lrApps,lrApps,df1['annual_income'])\n",
        "\n",
        "lrApps,urApps=remove_outlier(df1['debt_to_income'])\n",
        "df1['debt_to_income']=np.where(df1['debt_to_income']>urApps,urApps,df1['debt_to_income'])\n",
        "df1['debt_to_income']=np.where(df1['debt_to_income']<lrApps,lrApps,df1['debt_to_income'])\n",
        "\n",
        "lrApps,urApps=remove_outlier(df1['delinq_2yrs'])\n",
        "df1['delinq_2yrs']=np.where(df1['delinq_2yrs']>urApps,urApps,df1['delinq_2yrs'])\n",
        "df1['delinq_2yrs']=np.where(df1['delinq_2yrs']<lrApps,lrApps,df1['delinq_2yrs'])\n",
        "\n",
        "lrApps,urApps=remove_outlier(df1['public_records'])\n",
        "df1['public_records']=np.where(df1['public_records']>urApps,urApps,df1['public_records'])\n",
        "df1['public_records']=np.where(df1['public_records']<lrApps,lrApps,df1['public_records'])\n",
        "\n",
        "lrApps,urApps=remove_outlier(df1['revolving_balance'])\n",
        "df1['revolving_balance']=np.where(df1['revolving_balance']>urApps,urApps,df1['revolving_balance'])\n",
        "df1['revolving_balance']=np.where(df1['revolving_balance']<lrApps,lrApps,df1['revolving_balance'])\n",
        "\n",
        "lrApps,urApps=remove_outlier(df1['total_acc'])\n",
        "df1['total_acc']=np.where(df1['total_acc']>urApps,urApps,df1['total_acc'])\n",
        "df1['total_acc']=np.where(df1['total_acc']<lrApps,lrApps,df1['total_acc'])\n",
        "\n",
        "lrApps,urApps=remove_outlier(df1['interest_receive'])\n",
        "df1['interest_receive']=np.where(df1['interest_receive']>urApps,urApps,df1['interest_receive'])\n",
        "df1['interest_receive']=np.where(df1['interest_receive']<lrApps,lrApps,df1['interest_receive'])\n",
        "\n",
        "lrApps,urApps=remove_outlier(df1['last_week_pay'])\n",
        "df1['last_week_pay']=np.where(df1['last_week_pay']>urApps,urApps,df1['last_week_pay'])\n",
        "df1['last_week_pay']=np.where(df1['last_week_pay']<lrApps,lrApps,df1['last_week_pay'])\n",
        "\n",
        "lrApps,urApps=remove_outlier(df1['total_current_balance'])\n",
        "df1['total_current_balance']=np.where(df1['total_current_balance']>urApps,urApps,df1['total_current_balance'])\n",
        "df1['total_current_balance']=np.where(df1['total_current_balance']<lrApps,lrApps,df1['total_current_balance'])\n",
        "\n",
        "lrApps,urApps=remove_outlier(df1['total_revolving_limit'])\n",
        "df1['total_revolving_limit']=np.where(df1['total_revolving_limit']>urApps,urApps,df1['total_revolving_limit'])\n",
        "df1['total_revolving_limit']=np.where(df1['total_revolving_limit']<lrApps,lrApps,df1['total_revolving_limit'])\n",
        "\n"
      ],
      "execution_count": null,
      "outputs": []
    },
    {
      "cell_type": "code",
      "metadata": {
        "colab": {
          "base_uri": "https://localhost:8080/",
          "height": 621
        },
        "id": "aPkzazk8Wqlg",
        "outputId": "dcfb1997-5286-4d5b-b709-820864d13f47"
      },
      "source": [
        "plt.figure(figsize=(10,10))\n",
        "df1[cont].boxplot(vert=0)\n",
        "plt.title('After Outlier Removal',fontsize=12)\n",
        "plt.show()"
      ],
      "execution_count": null,
      "outputs": [
        {
          "output_type": "display_data",
          "data": {
            "image/png": "[encoded data removed]",
            "text/plain": [
              "<Figure size 720x720 with 1 Axes>"
            ]
          },
          "metadata": {
            "tags": [],
            "needs_background": "light"
          }
        }
      ]
    },
    {
      "cell_type": "code",
      "metadata": {
        "colab": {
          "base_uri": "https://localhost:8080/"
        },
        "id": "gmb1tauiWqlg",
        "outputId": "a2b85cde-ed16-4f7c-fb0d-d1b2c6827eb9"
      },
      "source": [
        "# Proportion of 1s and 0s\n",
        "# Proportion of observations in Target - default\n",
        "\n",
        "df1['default'].value_counts()"
      ],
      "execution_count": null,
      "outputs": [
        {
          "output_type": "execute_result",
          "data": {
            "text/plain": [
              "0    71045\n",
              "1    22129\n",
              "Name: default, dtype: int64"
            ]
          },
          "metadata": {
            "tags": []
          },
          "execution_count": 40
        }
      ]
    },
    {
      "cell_type": "code",
      "metadata": {
        "colab": {
          "base_uri": "https://localhost:8080/"
        },
        "id": "CCNatbXKWqlh",
        "outputId": "dbc7c58a-98c5-4a9b-f7ef-5fc5f5004bba"
      },
      "source": [
        "import statsmodels.api as sm  #stats summary\n",
        "import sklearn  #machinelearning\n",
        "from sklearn.linear_model import LinearRegression\n",
        "from sklearn import metrics\n",
        "from scipy.stats import zscore\n",
        "\n",
        "from sklearn.model_selection import train_test_split,GridSearchCV\n",
        "from sklearn.linear_model import LogisticRegression\n",
        "from sklearn import metrics\n",
        "from sklearn.metrics import roc_auc_score,roc_curve,classification_report,confusion_matrix,plot_confusion_matrix\n",
        "\n",
        "from sklearn.discriminant_analysis import LinearDiscriminantAnalysis\n",
        "from sklearn import metrics,model_selection\n",
        "from sklearn.preprocessing import scale"
      ],
      "execution_count": null,
      "outputs": [
        {
          "output_type": "stream",
          "text": [
            "/usr/local/lib/python3.7/dist-packages/statsmodels/tools/_testing.py:19: FutureWarning: pandas.util.testing is deprecated. Use the functions in the public API at pandas.testing instead.\n",
            "  import pandas.util.testing as tm\n"
          ],
          "name": "stderr"
        }
      ]
    },
    {
      "cell_type": "code",
      "metadata": {
        "id": "AbLCbiMLWqlh"
      },
      "source": [
        "# Copy all the predictor variables into X dataframe\n",
        "X = df1.drop('default', axis=1)\n",
        "\n",
        "# Copy target into the y dataframe. \n",
        "y = df1['default']"
      ],
      "execution_count": null,
      "outputs": []
    },
    {
      "cell_type": "code",
      "metadata": {
        "id": "AZwcWGZQWqlh"
      },
      "source": [
        "X = scale(X)"
      ],
      "execution_count": null,
      "outputs": []
    },
    {
      "cell_type": "code",
      "metadata": {
        "colab": {
          "base_uri": "https://localhost:8080/"
        },
        "id": "EaDFwmThWqlh",
        "outputId": "6c54fa05-3972-4bca-9d6e-8faafd4f83ee"
      },
      "source": [
        "# Checking dimensions on the train and test data\n",
        "\n",
        "print('X: ',X.shape)\n",
        "print('y: ',y.shape)\n"
      ],
      "execution_count": null,
      "outputs": [
        {
          "output_type": "stream",
          "text": [
            "X:  (93174, 115)\n",
            "y:  (93174,)\n"
          ],
          "name": "stdout"
        }
      ]
    },
    {
      "cell_type": "code",
      "metadata": {
        "id": "cQcKTghbWqli"
      },
      "source": [
        "from sklearn.model_selection import train_test_split\n",
        "X_train, X_test, y_train, y_test = train_test_split(X, y,random_state=1)"
      ],
      "execution_count": null,
      "outputs": []
    },
    {
      "cell_type": "code",
      "metadata": {
        "colab": {
          "base_uri": "https://localhost:8080/"
        },
        "id": "kJYFZBnZWqli",
        "outputId": "dfeaae8a-9d92-420f-a5d5-0c40bac698c6"
      },
      "source": [
        "# Checking dimensions on the train and test data\n",
        "\n",
        "print('X_train: ',X_train.shape)\n",
        "print('X_test: ',X_test.shape)\n",
        "print('y_train: ',y_train.shape)\n",
        "print('y_test: ',y_test.shape)"
      ],
      "execution_count": null,
      "outputs": [
        {
          "output_type": "stream",
          "text": [
            "X_train:  (69880, 115)\n",
            "X_test:  (23294, 115)\n",
            "y_train:  (69880,)\n",
            "y_test:  (23294,)\n"
          ],
          "name": "stdout"
        }
      ]
    },
    {
      "cell_type": "code",
      "metadata": {
        "id": "UzAOaLjBWqli"
      },
      "source": [
        "#model"
      ],
      "execution_count": null,
      "outputs": []
    },
    {
      "cell_type": "markdown",
      "metadata": {
        "id": "fa66N-QbWqli"
      },
      "source": [
        "# DT"
      ]
    },
    {
      "cell_type": "code",
      "metadata": {
        "colab": {
          "base_uri": "https://localhost:8080/"
        },
        "id": "FhZeZodHWqlj",
        "outputId": "c94ed3bd-6a9b-406d-e579-1bb1044fdf98"
      },
      "source": [
        "from sklearn import tree\n",
        "\n",
        "\n",
        "DT_model= tree.DecisionTreeClassifier()\n",
        "DT_model.fit(X_train, y_train)"
      ],
      "execution_count": null,
      "outputs": [
        {
          "output_type": "execute_result",
          "data": {
            "text/plain": [
              "DecisionTreeClassifier(ccp_alpha=0.0, class_weight=None, criterion='gini',\n",
              "                       max_depth=None, max_features=None, max_leaf_nodes=None,\n",
              "                       min_impurity_decrease=0.0, min_impurity_split=None,\n",
              "                       min_samples_leaf=1, min_samples_split=2,\n",
              "                       min_weight_fraction_leaf=0.0, presort='deprecated',\n",
              "                       random_state=None, splitter='best')"
            ]
          },
          "metadata": {
            "tags": []
          },
          "execution_count": 48
        }
      ]
    },
    {
      "cell_type": "code",
      "metadata": {
        "colab": {
          "base_uri": "https://localhost:8080/"
        },
        "id": "Qc1LGjpoWqlj",
        "outputId": "32596cd9-e675-4fd2-eefd-9b95bb1bdf53"
      },
      "source": [
        "## Performance Matrix on train data set\n",
        "\n",
        "y_train_predict = DT_model.predict(X_train)\n",
        "train_model_score = DT_model.score(X_train, y_train)\n",
        "print(\"DT_Train_modelscore: \" , train_model_score)\n",
        "\n",
        "print(metrics.confusion_matrix(y_train, y_train_predict))\n",
        "\n",
        "print(metrics.classification_report(y_train, y_train_predict))"
      ],
      "execution_count": null,
      "outputs": [
        {
          "output_type": "stream",
          "text": [
            "DT_Train_modelscore:  1.0\n",
            "[[53236     0]\n",
            " [    0 16644]]\n",
            "              precision    recall  f1-score   support\n",
            "\n",
            "           0       1.00      1.00      1.00     53236\n",
            "           1       1.00      1.00      1.00     16644\n",
            "\n",
            "    accuracy                           1.00     69880\n",
            "   macro avg       1.00      1.00      1.00     69880\n",
            "weighted avg       1.00      1.00      1.00     69880\n",
            "\n"
          ],
          "name": "stdout"
        }
      ]
    },
    {
      "cell_type": "code",
      "metadata": {
        "colab": {
          "base_uri": "https://localhost:8080/"
        },
        "id": "T-2HHJN3Wqlj",
        "outputId": "1d262523-5a88-465e-883d-e4228f0ff71e"
      },
      "source": [
        "## Performance Matrix on test data set\n",
        "\n",
        "y_test_predict = DT_model.predict(X_test)\n",
        "test_model_score = DT_model.score(X_test, y_test)\n",
        "print(\"DT_Test_modelscore: \" ,test_model_score)\n",
        "\n",
        "print(metrics.confusion_matrix(y_test, y_test_predict))\n",
        "\n",
        "print(metrics.classification_report(y_test, y_test_predict))"
      ],
      "execution_count": null,
      "outputs": [
        {
          "output_type": "stream",
          "text": [
            "DT_Test_modelscore:  0.8699235854726539\n",
            "[[16268  1541]\n",
            " [ 1489  3996]]\n",
            "              precision    recall  f1-score   support\n",
            "\n",
            "           0       0.92      0.91      0.91     17809\n",
            "           1       0.72      0.73      0.73      5485\n",
            "\n",
            "    accuracy                           0.87     23294\n",
            "   macro avg       0.82      0.82      0.82     23294\n",
            "weighted avg       0.87      0.87      0.87     23294\n",
            "\n"
          ],
          "name": "stdout"
        }
      ]
    },
    {
      "cell_type": "markdown",
      "metadata": {
        "id": "fl-3lFYWWqlk"
      },
      "source": [
        "# Random Forest"
      ]
    },
    {
      "cell_type": "code",
      "metadata": {
        "colab": {
          "base_uri": "https://localhost:8080/"
        },
        "id": "1cqg5f7GWqlk",
        "outputId": "5d87d082-4db9-44c1-849c-0d536fff02f2"
      },
      "source": [
        "from sklearn.ensemble import RandomForestClassifier\n",
        "\n",
        "RF_model=RandomForestClassifier(n_estimators=100,random_state=1)\n",
        "RF_model.fit(X_train, y_train)"
      ],
      "execution_count": null,
      "outputs": [
        {
          "output_type": "execute_result",
          "data": {
            "text/plain": [
              "RandomForestClassifier(bootstrap=True, ccp_alpha=0.0, class_weight=None,\n",
              "                       criterion='gini', max_depth=None, max_features='auto',\n",
              "                       max_leaf_nodes=None, max_samples=None,\n",
              "                       min_impurity_decrease=0.0, min_impurity_split=None,\n",
              "                       min_samples_leaf=1, min_samples_split=2,\n",
              "                       min_weight_fraction_leaf=0.0, n_estimators=100,\n",
              "                       n_jobs=None, oob_score=False, random_state=1, verbose=0,\n",
              "                       warm_start=False)"
            ]
          },
          "metadata": {
            "tags": []
          },
          "execution_count": 51
        }
      ]
    },
    {
      "cell_type": "code",
      "metadata": {
        "colab": {
          "base_uri": "https://localhost:8080/"
        },
        "id": "OLcbDbUUWqlk",
        "outputId": "a594f877-10b9-4c37-ef11-897b6fd5adfb"
      },
      "source": [
        "## Performance Matrix on train data set\n",
        "y_train_predict = RF_model.predict(X_train)\n",
        "train_model_score =RF_model.score(X_train, y_train)\n",
        "print(\"RF_train_modelscore: \", train_model_score)\n",
        "\n",
        "print(metrics.confusion_matrix(y_train, y_train_predict))\n",
        "\n",
        "print(metrics.classification_report(y_train, y_train_predict))"
      ],
      "execution_count": null,
      "outputs": [
        {
          "output_type": "stream",
          "text": [
            "RF_train_modelscore:  1.0\n",
            "[[53236     0]\n",
            " [    0 16644]]\n",
            "              precision    recall  f1-score   support\n",
            "\n",
            "           0       1.00      1.00      1.00     53236\n",
            "           1       1.00      1.00      1.00     16644\n",
            "\n",
            "    accuracy                           1.00     69880\n",
            "   macro avg       1.00      1.00      1.00     69880\n",
            "weighted avg       1.00      1.00      1.00     69880\n",
            "\n"
          ],
          "name": "stdout"
        }
      ]
    },
    {
      "cell_type": "code",
      "metadata": {
        "colab": {
          "base_uri": "https://localhost:8080/"
        },
        "id": "_nGDH9UfWqlk",
        "outputId": "a94e0711-f4fc-490d-e2e9-9cedb4c40f53"
      },
      "source": [
        "## Performance Matrix on test data set\n",
        "y_test_predict = RF_model.predict(X_test)\n",
        "test_model_score = RF_model.score(X_test, y_test)\n",
        "print(\"RF_test_modelscore: \",test_model_score)\n",
        "\n",
        "print(metrics.confusion_matrix(y_test, y_test_predict))\n",
        "\n",
        "print(metrics.classification_report(y_test, y_test_predict))"
      ],
      "execution_count": null,
      "outputs": [
        {
          "output_type": "stream",
          "text": [
            "RF_test_modelscore:  0.864557396754529\n",
            "[[17106   703]\n",
            " [ 2452  3033]]\n",
            "              precision    recall  f1-score   support\n",
            "\n",
            "           0       0.87      0.96      0.92     17809\n",
            "           1       0.81      0.55      0.66      5485\n",
            "\n",
            "    accuracy                           0.86     23294\n",
            "   macro avg       0.84      0.76      0.79     23294\n",
            "weighted avg       0.86      0.86      0.85     23294\n",
            "\n"
          ],
          "name": "stdout"
        }
      ]
    },
    {
      "cell_type": "markdown",
      "metadata": {
        "id": "8qRyEbI6Wqll"
      },
      "source": [
        "# Bagging"
      ]
    },
    {
      "cell_type": "code",
      "metadata": {
        "id": "p4gw1TY6Wqll"
      },
      "source": [
        "from sklearn.ensemble import BaggingClassifier\n",
        "from sklearn.tree import DecisionTreeClassifier\n",
        "\n",
        "cart = DecisionTreeClassifier()\n",
        "Bagging_model=BaggingClassifier(base_estimator=cart,n_estimators=7000,random_state=1) #Try n_estimators for 100,500,1000,5000\n",
        "Bagging_model.fit(X_train, y_train)"
      ],
      "execution_count": null,
      "outputs": []
    },
    {
      "cell_type": "code",
      "metadata": {
        "id": "RRojrzY2Wqll"
      },
      "source": [
        "## Performance Matrix on train data set\n",
        "\n",
        "y_train_predict = Bagging_model.predict(X_train)\n",
        "train_model_score = Bagging_model.score(X_train, y_train)\n",
        "print(\"Bagging_Train_modelscore: \", train_model_score)\n",
        "\n",
        "print(metrics.confusion_matrix(y_train, y_train_predict))\n",
        "\n",
        "print(metrics.classification_report(y_train, y_train_predict))"
      ],
      "execution_count": null,
      "outputs": []
    },
    {
      "cell_type": "code",
      "metadata": {
        "id": "vnCFOuvuWqll"
      },
      "source": [
        "## Performance Matrix on test data set\n",
        "\n",
        "y_test_predict = Bagging_model.predict(X_test)\n",
        "test_model_score = Bagging_model.score(X_test, y_test)\n",
        "print(\"Bagging_Test_modelscore: \",test_model_score)\n",
        "\n",
        "print(metrics.confusion_matrix(y_test, y_test_predict))\n",
        "\n",
        "print(metrics.classification_report(y_test, y_test_predict))"
      ],
      "execution_count": null,
      "outputs": []
    },
    {
      "cell_type": "markdown",
      "metadata": {
        "id": "-lMUaXecWqlo"
      },
      "source": [
        "# Run this model on Test Data.csv"
      ]
    },
    {
      "cell_type": "code",
      "metadata": {
        "id": "sOc5IGn4Wqlp"
      },
      "source": [
        "df2 = pd.read_csv('Test_set_(1).csv')\n",
        "df2.head(10)"
      ],
      "execution_count": null,
      "outputs": []
    },
    {
      "cell_type": "code",
      "metadata": {
        "id": "MCU2oJjPWqlp"
      },
      "source": [
        "#datainfo\n",
        "\n",
        "df2.info()"
      ],
      "execution_count": null,
      "outputs": []
    },
    {
      "cell_type": "code",
      "metadata": {
        "id": "ZJU4rtroWqlp"
      },
      "source": [
        "#datatypes\n",
        "\n",
        "df2.dtypes"
      ],
      "execution_count": null,
      "outputs": []
    },
    {
      "cell_type": "code",
      "metadata": {
        "id": "KRbI-n48Wqlq"
      },
      "source": [
        "# number of rows and column\n",
        "\n",
        "df2.shape"
      ],
      "execution_count": null,
      "outputs": []
    },
    {
      "cell_type": "code",
      "metadata": {
        "id": "IriksHloWqlq"
      },
      "source": [
        "# check for null values\n",
        "# Are there any missing values ?\n",
        "\n",
        "df2.isnull().sum()"
      ],
      "execution_count": null,
      "outputs": []
    },
    {
      "cell_type": "code",
      "metadata": {
        "id": "ZQIx1EjMWqlq"
      },
      "source": [
        "# Imput missing value\n",
        "for column in df2.columns:\n",
        "    if df2[column].dtype != 'object':\n",
        "        mean = df2[column].mean()\n",
        "        df2[column] = df2[column].fillna(mean)    \n",
        "        \n",
        "df2.isnull().sum() "
      ],
      "execution_count": null,
      "outputs": []
    },
    {
      "cell_type": "code",
      "metadata": {
        "id": "ld7V6r0eWqlq"
      },
      "source": [
        "# Imputing Nan for \"object\" type data column - job_experience\n",
        "# Imput missing value"
      ],
      "execution_count": null,
      "outputs": []
    },
    {
      "cell_type": "code",
      "metadata": {
        "id": "_D9EEbXgWqlr"
      },
      "source": [
        "from sklearn.impute import SimpleImputer\n",
        "imp = SimpleImputer(missing_values=np.nan, strategy='most_frequent')\n",
        "imp.fit(df2[['job_experience']]) \n"
      ],
      "execution_count": null,
      "outputs": []
    },
    {
      "cell_type": "code",
      "metadata": {
        "id": "JYOwV9IgWqlr"
      },
      "source": [
        "df2['job_experience']=imp.transform(df2[['job_experience']])\n",
        "df2.isnull().sum() "
      ],
      "execution_count": null,
      "outputs": []
    },
    {
      "cell_type": "code",
      "metadata": {
        "id": "dH9MbIvPWqlr"
      },
      "source": [
        "# check for duplicates\n",
        "\n",
        "df2.duplicated().sum()"
      ],
      "execution_count": null,
      "outputs": []
    },
    {
      "cell_type": "code",
      "metadata": {
        "id": "xlXRcq-QWqlr"
      },
      "source": [
        "#box plot to check outliers\n",
        "\n",
        "plt.subplots(figsize=(20,4))\n",
        "df2.boxplot(figsize=(20,4))"
      ],
      "execution_count": null,
      "outputs": []
    },
    {
      "cell_type": "code",
      "metadata": {
        "id": "IrzWyj48Wqls"
      },
      "source": [
        "# UniVariate Analysis before treating Outliers\n",
        "# Univariate except names column\n",
        "\n",
        "fig, axes = plt.subplots(nrows=6,ncols=2)\n",
        "fig.set_size_inches(12, 14)\n",
        "\n",
        "a = sns.distplot(df2['loan_amnt'] , ax=axes[0][0])\n",
        "a.set_title(\"loan_amnt Distribution\",fontsize=15)\n",
        "a = sns.boxplot(df2['loan_amnt'] , orient = \"h\" , ax=axes[0][1])\n",
        "a.set_title(\"loan_amnt Distribution\",fontsize=15)\n",
        "\n",
        "\n",
        "a = sns.distplot(df2['interest_rate'] , ax=axes[1][0])\n",
        "a.set_title(\"interest_rate Distribution\",fontsize=15)\n",
        "a = sns.boxplot(df2['interest_rate'] , orient = \"h\" , ax=axes[1][1])\n",
        "a.set_title(\"interest_rate Distribution\",fontsize=15)\n",
        "\n",
        "\n",
        "a = sns.distplot(df2['annual_income'] , ax=axes[2][0])\n",
        "a.set_title(\"annual_income Distribution\",fontsize=15)\n",
        "a = sns.boxplot(df2['annual_income'] , orient = \"h\" , ax=axes[2][1])\n",
        "a.set_title(\"annual_income Distribution\",fontsize=15)\n",
        "\n",
        "\n",
        "a = sns.distplot(df2['debt_to_income'] , ax=axes[3][0])\n",
        "a.set_title(\"debt_to_income Distribution\",fontsize=15)\n",
        "a = sns.boxplot(df2['debt_to_income'] , orient = \"h\" , ax=axes[3][1])\n",
        "a.set_title(\"debt_to_income Distribution\",fontsize=15)\n",
        "\n",
        "\n",
        "a = sns.distplot(df2['delinq_2yrs'] , ax=axes[4][0])\n",
        "a.set_title(\"delinq_2yrs Distribution\",fontsize=15)\n",
        "a = sns.boxplot(df2['delinq_2yrs'] , orient = \"h\" , ax=axes[4][1])\n",
        "a.set_title(\"delinq_2yrs Distribution\",fontsize=15)\n",
        "\n",
        "\n",
        "a = sns.distplot(df2['public_records'] , ax=axes[5][0])\n",
        "a.set_title(\"public_records Distribution\",fontsize=15)\n",
        "a = sns.boxplot(df2['public_records'] , orient = \"h\" , ax=axes[5][1])\n",
        "a.set_title(\"public_records Distribution\",fontsize=15)\n",
        "\n",
        "\n",
        "plt.show()"
      ],
      "execution_count": null,
      "outputs": []
    },
    {
      "cell_type": "code",
      "metadata": {
        "id": "pzSz69hRWqls"
      },
      "source": [
        "# UniVariate Analysis before treating Outliers\n",
        "# Univariate except names column\n",
        "\n",
        "fig, axes = plt.subplots(nrows=6,ncols=2)\n",
        "fig.set_size_inches(12, 14)\n",
        "\n",
        "a = sns.distplot(df2['revolving_balance'] , ax=axes[0][0])\n",
        "a.set_title(\"revolving_balance Distribution\",fontsize=15)\n",
        "a = sns.boxplot(df2['revolving_balance'] , orient = \"h\" , ax=axes[0][1])\n",
        "a.set_title(\"revolving_balance Distribution\",fontsize=15)\n",
        "\n",
        "\n",
        "a = sns.distplot(df2['total_acc'] , ax=axes[1][0])\n",
        "a.set_title(\"total_acc Distribution\",fontsize=15)\n",
        "a = sns.boxplot(df2['total_acc'] , orient = \"h\" , ax=axes[1][1])\n",
        "a.set_title(\"total_acc Distribution\",fontsize=15)\n",
        "\n",
        "\n",
        "a = sns.distplot(df2['interest_receive'] , ax=axes[2][0])\n",
        "a.set_title(\"interest_receive Distribution\",fontsize=15)\n",
        "a = sns.boxplot(df2['interest_receive'] , orient = \"h\" , ax=axes[2][1])\n",
        "a.set_title(\"interest_receive Distribution\",fontsize=15)\n",
        "\n",
        "\n",
        "a = sns.distplot(df2['last_week_pay'] , ax=axes[3][0])\n",
        "a.set_title(\"last_week_pay Distribution\",fontsize=15)\n",
        "a = sns.boxplot(df2['last_week_pay'] , orient = \"h\" , ax=axes[3][1])\n",
        "a.set_title(\"last_week_pay Distribution\",fontsize=15)\n",
        "\n",
        "\n",
        "a = sns.distplot(df2['total_current_balance'] , ax=axes[4][0])\n",
        "a.set_title(\"total_current_balance Distribution\",fontsize=15)\n",
        "a = sns.boxplot(df2['total_current_balance'] , orient = \"h\" , ax=axes[4][1])\n",
        "a.set_title(\"total_current_balance Distribution\",fontsize=15)\n",
        "\n",
        "\n",
        "a = sns.distplot(df2['total_revolving_limit'] , ax=axes[5][0])\n",
        "a.set_title(\"total_revolving_limit Distribution\",fontsize=15)\n",
        "a = sns.boxplot(df2['total_revolving_limit'] , orient = \"h\" , ax=axes[5][1])\n",
        "a.set_title(\"total_revolving_limit Distribution\",fontsize=15)\n",
        "\n",
        "\n",
        "plt.show()"
      ],
      "execution_count": null,
      "outputs": []
    },
    {
      "cell_type": "code",
      "metadata": {
        "id": "55XXExZVWqlt"
      },
      "source": [
        "#Skew\n",
        "\n",
        "df2.skew()"
      ],
      "execution_count": null,
      "outputs": []
    },
    {
      "cell_type": "code",
      "metadata": {
        "id": "G_pc1kiQWqlu"
      },
      "source": [
        "# Multi- Variate Analysis\n",
        "# Check for correlation of variable\n",
        "# pearson correlation - linear relation between numeric variables only \n",
        "\n",
        "df2.corr(method='pearson')"
      ],
      "execution_count": null,
      "outputs": []
    },
    {
      "cell_type": "code",
      "metadata": {
        "id": "Bd2K0frUWqlu"
      },
      "source": [
        "#heatmap\n",
        "\n",
        "plt.subplots(figsize=(10,10))\n",
        "sns.heatmap(df2.corr(), annot=True, fmt='.2f')  # plot the correlation coefficients as a heatmap"
      ],
      "execution_count": null,
      "outputs": []
    },
    {
      "cell_type": "code",
      "metadata": {
        "id": "NtFmsuELWqlu"
      },
      "source": [
        "# unique values for categorical variables (datatype=object)\n",
        "\n",
        "for i in df2.columns:\n",
        "    if df2[i].dtype == 'object':\n",
        "        print('\\n')\n",
        "        print('feature:',i)\n",
        "        print(pd.Categorical(df2[i].unique()))\n",
        "        print(pd.Categorical(df2[i].unique()).codes)\n",
        "        df2[i] = pd.Categorical(df2[i]).codes  "
      ],
      "execution_count": null,
      "outputs": []
    },
    {
      "cell_type": "code",
      "metadata": {
        "id": "z_PeJtVaWqlv"
      },
      "source": [
        "# Converting categorical to dummy variables\n",
        "\n",
        "df2 = pd.get_dummies(df2, columns=['loan_term','loan_grade','loan_subgrade','job_experience', 'home_ownership','income_verification_status','loan_purpose','state_code','application_type'],drop_first=True)\n",
        "\n",
        "df2.info()\n"
      ],
      "execution_count": null,
      "outputs": []
    },
    {
      "cell_type": "code",
      "metadata": {
        "id": "5wmZE7JkWqlv"
      },
      "source": [
        "# construct box plot for continuous variables\n",
        "\n",
        "cont = df2.dtypes[(df2.dtypes!='uint8') & (df2.dtypes!='bool')].index\n",
        "\n",
        "plt.figure(figsize=(10,10))\n",
        "df2[cont].boxplot(vert=0)\n",
        "plt.title('With Outliers',fontsize=12)\n",
        "plt.show()"
      ],
      "execution_count": null,
      "outputs": []
    },
    {
      "cell_type": "code",
      "metadata": {
        "id": "i_pBCd4IWqlw"
      },
      "source": [
        "#Outlier Treatment\n",
        "def remove_outlier(col):\n",
        "    sorted(col)\n",
        "    Q1,Q3=np.percentile(col,[25,75])\n",
        "    IQR=Q3-Q1\n",
        "    lower_range= Q1-(1.5 * IQR)\n",
        "    upper_range= Q3+(1.5 * IQR)\n",
        "    return lower_range, upper_range"
      ],
      "execution_count": null,
      "outputs": []
    },
    {
      "cell_type": "code",
      "metadata": {
        "id": "I33dfTavWqlw"
      },
      "source": [
        "#Outlier Treatment\n",
        "\n",
        "for column in df2[cont].columns:\n",
        "    lr,ur=remove_outlier(df2[column])\n",
        "    df2[column]=np.where(df2[column]>ur,ur,df2[column])\n",
        "    df2[column]=np.where(df2[column]<lr,lr,df2[column])"
      ],
      "execution_count": null,
      "outputs": []
    },
    {
      "cell_type": "code",
      "metadata": {
        "id": "kF9EpKMbWqlw"
      },
      "source": [
        "plt.figure(figsize=(10,10))\n",
        "df2[cont].boxplot(vert=0)\n",
        "plt.title('After Outlier Removal',fontsize=12)\n",
        "plt.show()"
      ],
      "execution_count": null,
      "outputs": []
    },
    {
      "cell_type": "code",
      "metadata": {
        "id": "FA5oTTdWWqlw"
      },
      "source": [
        "import statsmodels.api as sm  #stats summary\n",
        "import sklearn  #machinelearning\n",
        "from sklearn.linear_model import LinearRegression\n",
        "from sklearn import metrics\n",
        "from scipy.stats import zscore\n",
        "\n",
        "from sklearn.model_selection import train_test_split,GridSearchCV\n",
        "from sklearn.linear_model import LogisticRegression\n",
        "from sklearn import metrics\n",
        "from sklearn.metrics import roc_auc_score,roc_curve,classification_report,confusion_matrix,plot_confusion_matrix\n",
        "\n",
        "from sklearn.discriminant_analysis import LinearDiscriminantAnalysis\n",
        "from sklearn import metrics,model_selection\n",
        "from sklearn.preprocessing import scale"
      ],
      "execution_count": null,
      "outputs": []
    },
    {
      "cell_type": "code",
      "metadata": {
        "id": "9cm8wjJ7Wqlx"
      },
      "source": [
        "# Add new column to dataframe\n",
        "# add an empty columns\n",
        "\n",
        "# df2['default'] = ''\n",
        "# df2['default'] = np.nan"
      ],
      "execution_count": null,
      "outputs": []
    },
    {
      "cell_type": "code",
      "metadata": {
        "id": "xJKmPwJ3Wqlx"
      },
      "source": [
        "# Copy all the predictor variables into X dataframe\n",
        "#Test_X = df2\n",
        "\n",
        "# Copy target into the y dataframe. \n",
        "#Test_y = df2['ID']"
      ],
      "execution_count": null,
      "outputs": []
    },
    {
      "cell_type": "code",
      "metadata": {
        "id": "oGplOXRtWqlx"
      },
      "source": [
        "# Copy all the predictor variables into X dataframe\n",
        "Test_X = df2\n",
        "\n",
        "# Copy target into the y dataframe. \n",
        "Test_y = df2['ID']"
      ],
      "execution_count": null,
      "outputs": []
    },
    {
      "cell_type": "code",
      "metadata": {
        "id": "VNNnG8Q1Wqlx"
      },
      "source": [
        "Test_X = scale(Test_X)"
      ],
      "execution_count": null,
      "outputs": []
    },
    {
      "cell_type": "code",
      "metadata": {
        "id": "idPXpBU4Wqlx"
      },
      "source": [
        "# Checking dimensions on the train and test data\n",
        "\n",
        "print('Test_X: ',Test_X.shape)\n",
        "print('Test_y: ',Test_y.shape)\n",
        "\n",
        "from sklearn.model_selection import train_test_split\n",
        "Test_X_train, Test_X_test, Test_y_train, Test_y_test = train_test_split(Test_X, Test_y,random_state=1)\n",
        "\n",
        "# Checking dimensions on the train and test data\n",
        "\n",
        "print('Test_X_train: ',Test_X_train.shape)\n",
        "print('Test_X_test: ',Test_X_test.shape)\n",
        "print('Test_y_train: ',Test_y_train.shape)\n",
        "print('Test_y_test: ',Test_y_test.shape)"
      ],
      "execution_count": null,
      "outputs": []
    },
    {
      "cell_type": "code",
      "metadata": {
        "id": "bclF9LwIWqly"
      },
      "source": [
        "# Predict it\n",
        "\n",
        "pred_class = Bagging_model.predict(Test_X)\n",
        "df2['default'] = pred_class "
      ],
      "execution_count": null,
      "outputs": []
    },
    {
      "cell_type": "code",
      "metadata": {
        "id": "RfwQPucUWqly"
      },
      "source": [
        "df2['default']"
      ],
      "execution_count": null,
      "outputs": []
    },
    {
      "cell_type": "code",
      "metadata": {
        "id": "Fr5Q8i0lWqly"
      },
      "source": [
        "df2['default'].isnull().sum()\n"
      ],
      "execution_count": null,
      "outputs": []
    },
    {
      "cell_type": "code",
      "metadata": {
        "id": "9Lp6moN0Wqlz"
      },
      "source": [
        "df4 = pd.DataFrame(df2['ID'])\n",
        "df4"
      ],
      "execution_count": null,
      "outputs": []
    },
    {
      "cell_type": "code",
      "metadata": {
        "id": "zi_e7606Wqlz"
      },
      "source": [
        "df4.isnull().sum()"
      ],
      "execution_count": null,
      "outputs": []
    },
    {
      "cell_type": "code",
      "metadata": {
        "id": "K-W7fO9-Wqlz"
      },
      "source": [
        ""
      ],
      "execution_count": null,
      "outputs": []
    },
    {
      "cell_type": "code",
      "metadata": {
        "id": "i_AVp0yHWqlz"
      },
      "source": [
        "# Place the DataFrames side by side\n",
        "df5 = pd.concat([df4, df2['default']], axis=1)\n",
        "df5"
      ],
      "execution_count": null,
      "outputs": []
    },
    {
      "cell_type": "code",
      "metadata": {
        "id": "b6rDAPRWWql0"
      },
      "source": [
        "df5.isnull().sum()"
      ],
      "execution_count": null,
      "outputs": []
    },
    {
      "cell_type": "code",
      "metadata": {
        "id": "ejyq1dgBWql0"
      },
      "source": [
        "df5.reset_index(drop=True, inplace=True)"
      ],
      "execution_count": null,
      "outputs": []
    },
    {
      "cell_type": "code",
      "metadata": {
        "id": "edOEgsuZWql0"
      },
      "source": [
        "df5"
      ],
      "execution_count": null,
      "outputs": []
    },
    {
      "cell_type": "code",
      "metadata": {
        "id": "4a4ZOZAQWql0"
      },
      "source": [
        "df5.to_csv(r'C:\\Users\\achin1828\\Desktop\\PGP_GL_DSBA\\Hackthon\\May2021\\File_df5_model4_colab.csv')"
      ],
      "execution_count": null,
      "outputs": []
    },
    {
      "cell_type": "code",
      "metadata": {
        "id": "GNFLvf6xWql1"
      },
      "source": [
        ""
      ],
      "execution_count": null,
      "outputs": []
    },
    {
      "cell_type": "code",
      "metadata": {
        "id": "tomgzIRmWql1"
      },
      "source": [
        ""
      ],
      "execution_count": null,
      "outputs": []
    }
  ]
}